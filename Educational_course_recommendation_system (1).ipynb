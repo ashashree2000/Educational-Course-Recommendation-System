{
  "nbformat": 4,
  "nbformat_minor": 0,
  "metadata": {
    "colab": {
      "provenance": []
    },
    "kernelspec": {
      "name": "python3",
      "display_name": "Python 3"
    },
    "language_info": {
      "name": "python"
    }
  },
  "cells": [
    {
      "cell_type": "code",
      "execution_count": 1,
      "metadata": {
        "id": "lmrNPgBoacrv"
      },
      "outputs": [],
      "source": [
        "import numpy as np\n",
        "import pandas as pd\n",
        "\n",
        "import matplotlib.pyplot as plt\n",
        "import seaborn as sns\n",
        "\n",
        "\n",
        "\n"
      ]
    },
    {
      "cell_type": "markdown",
      "source": [
        "## Data Acquisition\n",
        "\n",
        "    The dataset can be downladed from : https://www.kaggle.com/datasets/khusheekapoor/coursera-courses-dataset-2021/data\n"
      ],
      "metadata": {
        "id": "Wq26z-Pth06K"
      }
    },
    {
      "cell_type": "code",
      "source": [
        "df = pd.read_csv('Coursera.csv')\n",
        "df.head()"
      ],
      "metadata": {
        "colab": {
          "base_uri": "https://localhost:8080/",
          "height": 484
        },
        "id": "Z1m7R2xefIcC",
        "outputId": "97461c38-657b-4621-bed7-ad81bf311da9"
      },
      "execution_count": 2,
      "outputs": [
        {
          "output_type": "execute_result",
          "data": {
            "text/plain": [
              "                                         Course Name  \\\n",
              "0  Write A Feature Length Screenplay For Film Or ...   \n",
              "1  Business Strategy: Business Model Canvas Analy...   \n",
              "2                      Silicon Thin Film Solar Cells   \n",
              "3                               Finance for Managers   \n",
              "4       Retrieve Data using Single-Table SQL Queries   \n",
              "\n",
              "                  University Difficulty Level Course Rating  \\\n",
              "0  Michigan State University         Beginner           4.8   \n",
              "1   Coursera Project Network         Beginner           4.8   \n",
              "2        �cole Polytechnique         Advanced           4.1   \n",
              "3       IESE Business School     Intermediate           4.8   \n",
              "4   Coursera Project Network         Beginner           4.6   \n",
              "\n",
              "                                          Course URL  \\\n",
              "0  https://www.coursera.org/learn/write-a-feature...   \n",
              "1  https://www.coursera.org/learn/canvas-analysis...   \n",
              "2  https://www.coursera.org/learn/silicon-thin-fi...   \n",
              "3  https://www.coursera.org/learn/operational-fin...   \n",
              "4  https://www.coursera.org/learn/single-table-sq...   \n",
              "\n",
              "                                  Course Description  \\\n",
              "0  Write a Full Length Feature Film Script  In th...   \n",
              "1  By the end of this guided project, you will be...   \n",
              "2  This course consists of a general presentation...   \n",
              "3  When it comes to numbers, there is always more...   \n",
              "4  In this course you�ll learn how to effectively...   \n",
              "\n",
              "                                              Skills  \n",
              "0  Drama  Comedy  peering  screenwriting  film  D...  \n",
              "1  Finance  business plan  persona (user experien...  \n",
              "2  chemistry  physics  Solar Energy  film  lambda...  \n",
              "3  accounts receivable  dupont analysis  analysis...  \n",
              "4  Data Analysis  select (sql)  database manageme...  "
            ],
            "text/html": [
              "\n",
              "  <div id=\"df-10fd005f-bea6-4128-811d-7bf01e8c29dd\" class=\"colab-df-container\">\n",
              "    <div>\n",
              "<style scoped>\n",
              "    .dataframe tbody tr th:only-of-type {\n",
              "        vertical-align: middle;\n",
              "    }\n",
              "\n",
              "    .dataframe tbody tr th {\n",
              "        vertical-align: top;\n",
              "    }\n",
              "\n",
              "    .dataframe thead th {\n",
              "        text-align: right;\n",
              "    }\n",
              "</style>\n",
              "<table border=\"1\" class=\"dataframe\">\n",
              "  <thead>\n",
              "    <tr style=\"text-align: right;\">\n",
              "      <th></th>\n",
              "      <th>Course Name</th>\n",
              "      <th>University</th>\n",
              "      <th>Difficulty Level</th>\n",
              "      <th>Course Rating</th>\n",
              "      <th>Course URL</th>\n",
              "      <th>Course Description</th>\n",
              "      <th>Skills</th>\n",
              "    </tr>\n",
              "  </thead>\n",
              "  <tbody>\n",
              "    <tr>\n",
              "      <th>0</th>\n",
              "      <td>Write A Feature Length Screenplay For Film Or ...</td>\n",
              "      <td>Michigan State University</td>\n",
              "      <td>Beginner</td>\n",
              "      <td>4.8</td>\n",
              "      <td>https://www.coursera.org/learn/write-a-feature...</td>\n",
              "      <td>Write a Full Length Feature Film Script  In th...</td>\n",
              "      <td>Drama  Comedy  peering  screenwriting  film  D...</td>\n",
              "    </tr>\n",
              "    <tr>\n",
              "      <th>1</th>\n",
              "      <td>Business Strategy: Business Model Canvas Analy...</td>\n",
              "      <td>Coursera Project Network</td>\n",
              "      <td>Beginner</td>\n",
              "      <td>4.8</td>\n",
              "      <td>https://www.coursera.org/learn/canvas-analysis...</td>\n",
              "      <td>By the end of this guided project, you will be...</td>\n",
              "      <td>Finance  business plan  persona (user experien...</td>\n",
              "    </tr>\n",
              "    <tr>\n",
              "      <th>2</th>\n",
              "      <td>Silicon Thin Film Solar Cells</td>\n",
              "      <td>�cole Polytechnique</td>\n",
              "      <td>Advanced</td>\n",
              "      <td>4.1</td>\n",
              "      <td>https://www.coursera.org/learn/silicon-thin-fi...</td>\n",
              "      <td>This course consists of a general presentation...</td>\n",
              "      <td>chemistry  physics  Solar Energy  film  lambda...</td>\n",
              "    </tr>\n",
              "    <tr>\n",
              "      <th>3</th>\n",
              "      <td>Finance for Managers</td>\n",
              "      <td>IESE Business School</td>\n",
              "      <td>Intermediate</td>\n",
              "      <td>4.8</td>\n",
              "      <td>https://www.coursera.org/learn/operational-fin...</td>\n",
              "      <td>When it comes to numbers, there is always more...</td>\n",
              "      <td>accounts receivable  dupont analysis  analysis...</td>\n",
              "    </tr>\n",
              "    <tr>\n",
              "      <th>4</th>\n",
              "      <td>Retrieve Data using Single-Table SQL Queries</td>\n",
              "      <td>Coursera Project Network</td>\n",
              "      <td>Beginner</td>\n",
              "      <td>4.6</td>\n",
              "      <td>https://www.coursera.org/learn/single-table-sq...</td>\n",
              "      <td>In this course you�ll learn how to effectively...</td>\n",
              "      <td>Data Analysis  select (sql)  database manageme...</td>\n",
              "    </tr>\n",
              "  </tbody>\n",
              "</table>\n",
              "</div>\n",
              "    <div class=\"colab-df-buttons\">\n",
              "\n",
              "  <div class=\"colab-df-container\">\n",
              "    <button class=\"colab-df-convert\" onclick=\"convertToInteractive('df-10fd005f-bea6-4128-811d-7bf01e8c29dd')\"\n",
              "            title=\"Convert this dataframe to an interactive table.\"\n",
              "            style=\"display:none;\">\n",
              "\n",
              "  <svg xmlns=\"http://www.w3.org/2000/svg\" height=\"24px\" viewBox=\"0 -960 960 960\">\n",
              "    <path d=\"M120-120v-720h720v720H120Zm60-500h600v-160H180v160Zm220 220h160v-160H400v160Zm0 220h160v-160H400v160ZM180-400h160v-160H180v160Zm440 0h160v-160H620v160ZM180-180h160v-160H180v160Zm440 0h160v-160H620v160Z\"/>\n",
              "  </svg>\n",
              "    </button>\n",
              "\n",
              "  <style>\n",
              "    .colab-df-container {\n",
              "      display:flex;\n",
              "      gap: 12px;\n",
              "    }\n",
              "\n",
              "    .colab-df-convert {\n",
              "      background-color: #E8F0FE;\n",
              "      border: none;\n",
              "      border-radius: 50%;\n",
              "      cursor: pointer;\n",
              "      display: none;\n",
              "      fill: #1967D2;\n",
              "      height: 32px;\n",
              "      padding: 0 0 0 0;\n",
              "      width: 32px;\n",
              "    }\n",
              "\n",
              "    .colab-df-convert:hover {\n",
              "      background-color: #E2EBFA;\n",
              "      box-shadow: 0px 1px 2px rgba(60, 64, 67, 0.3), 0px 1px 3px 1px rgba(60, 64, 67, 0.15);\n",
              "      fill: #174EA6;\n",
              "    }\n",
              "\n",
              "    .colab-df-buttons div {\n",
              "      margin-bottom: 4px;\n",
              "    }\n",
              "\n",
              "    [theme=dark] .colab-df-convert {\n",
              "      background-color: #3B4455;\n",
              "      fill: #D2E3FC;\n",
              "    }\n",
              "\n",
              "    [theme=dark] .colab-df-convert:hover {\n",
              "      background-color: #434B5C;\n",
              "      box-shadow: 0px 1px 3px 1px rgba(0, 0, 0, 0.15);\n",
              "      filter: drop-shadow(0px 1px 2px rgba(0, 0, 0, 0.3));\n",
              "      fill: #FFFFFF;\n",
              "    }\n",
              "  </style>\n",
              "\n",
              "    <script>\n",
              "      const buttonEl =\n",
              "        document.querySelector('#df-10fd005f-bea6-4128-811d-7bf01e8c29dd button.colab-df-convert');\n",
              "      buttonEl.style.display =\n",
              "        google.colab.kernel.accessAllowed ? 'block' : 'none';\n",
              "\n",
              "      async function convertToInteractive(key) {\n",
              "        const element = document.querySelector('#df-10fd005f-bea6-4128-811d-7bf01e8c29dd');\n",
              "        const dataTable =\n",
              "          await google.colab.kernel.invokeFunction('convertToInteractive',\n",
              "                                                    [key], {});\n",
              "        if (!dataTable) return;\n",
              "\n",
              "        const docLinkHtml = 'Like what you see? Visit the ' +\n",
              "          '<a target=\"_blank\" href=https://colab.research.google.com/notebooks/data_table.ipynb>data table notebook</a>'\n",
              "          + ' to learn more about interactive tables.';\n",
              "        element.innerHTML = '';\n",
              "        dataTable['output_type'] = 'display_data';\n",
              "        await google.colab.output.renderOutput(dataTable, element);\n",
              "        const docLink = document.createElement('div');\n",
              "        docLink.innerHTML = docLinkHtml;\n",
              "        element.appendChild(docLink);\n",
              "      }\n",
              "    </script>\n",
              "  </div>\n",
              "\n",
              "\n",
              "<div id=\"df-af62c8dc-b4bb-4159-98bf-0f8b2663894e\">\n",
              "  <button class=\"colab-df-quickchart\" onclick=\"quickchart('df-af62c8dc-b4bb-4159-98bf-0f8b2663894e')\"\n",
              "            title=\"Suggest charts\"\n",
              "            style=\"display:none;\">\n",
              "\n",
              "<svg xmlns=\"http://www.w3.org/2000/svg\" height=\"24px\"viewBox=\"0 0 24 24\"\n",
              "     width=\"24px\">\n",
              "    <g>\n",
              "        <path d=\"M19 3H5c-1.1 0-2 .9-2 2v14c0 1.1.9 2 2 2h14c1.1 0 2-.9 2-2V5c0-1.1-.9-2-2-2zM9 17H7v-7h2v7zm4 0h-2V7h2v10zm4 0h-2v-4h2v4z\"/>\n",
              "    </g>\n",
              "</svg>\n",
              "  </button>\n",
              "\n",
              "<style>\n",
              "  .colab-df-quickchart {\n",
              "      --bg-color: #E8F0FE;\n",
              "      --fill-color: #1967D2;\n",
              "      --hover-bg-color: #E2EBFA;\n",
              "      --hover-fill-color: #174EA6;\n",
              "      --disabled-fill-color: #AAA;\n",
              "      --disabled-bg-color: #DDD;\n",
              "  }\n",
              "\n",
              "  [theme=dark] .colab-df-quickchart {\n",
              "      --bg-color: #3B4455;\n",
              "      --fill-color: #D2E3FC;\n",
              "      --hover-bg-color: #434B5C;\n",
              "      --hover-fill-color: #FFFFFF;\n",
              "      --disabled-bg-color: #3B4455;\n",
              "      --disabled-fill-color: #666;\n",
              "  }\n",
              "\n",
              "  .colab-df-quickchart {\n",
              "    background-color: var(--bg-color);\n",
              "    border: none;\n",
              "    border-radius: 50%;\n",
              "    cursor: pointer;\n",
              "    display: none;\n",
              "    fill: var(--fill-color);\n",
              "    height: 32px;\n",
              "    padding: 0;\n",
              "    width: 32px;\n",
              "  }\n",
              "\n",
              "  .colab-df-quickchart:hover {\n",
              "    background-color: var(--hover-bg-color);\n",
              "    box-shadow: 0 1px 2px rgba(60, 64, 67, 0.3), 0 1px 3px 1px rgba(60, 64, 67, 0.15);\n",
              "    fill: var(--button-hover-fill-color);\n",
              "  }\n",
              "\n",
              "  .colab-df-quickchart-complete:disabled,\n",
              "  .colab-df-quickchart-complete:disabled:hover {\n",
              "    background-color: var(--disabled-bg-color);\n",
              "    fill: var(--disabled-fill-color);\n",
              "    box-shadow: none;\n",
              "  }\n",
              "\n",
              "  .colab-df-spinner {\n",
              "    border: 2px solid var(--fill-color);\n",
              "    border-color: transparent;\n",
              "    border-bottom-color: var(--fill-color);\n",
              "    animation:\n",
              "      spin 1s steps(1) infinite;\n",
              "  }\n",
              "\n",
              "  @keyframes spin {\n",
              "    0% {\n",
              "      border-color: transparent;\n",
              "      border-bottom-color: var(--fill-color);\n",
              "      border-left-color: var(--fill-color);\n",
              "    }\n",
              "    20% {\n",
              "      border-color: transparent;\n",
              "      border-left-color: var(--fill-color);\n",
              "      border-top-color: var(--fill-color);\n",
              "    }\n",
              "    30% {\n",
              "      border-color: transparent;\n",
              "      border-left-color: var(--fill-color);\n",
              "      border-top-color: var(--fill-color);\n",
              "      border-right-color: var(--fill-color);\n",
              "    }\n",
              "    40% {\n",
              "      border-color: transparent;\n",
              "      border-right-color: var(--fill-color);\n",
              "      border-top-color: var(--fill-color);\n",
              "    }\n",
              "    60% {\n",
              "      border-color: transparent;\n",
              "      border-right-color: var(--fill-color);\n",
              "    }\n",
              "    80% {\n",
              "      border-color: transparent;\n",
              "      border-right-color: var(--fill-color);\n",
              "      border-bottom-color: var(--fill-color);\n",
              "    }\n",
              "    90% {\n",
              "      border-color: transparent;\n",
              "      border-bottom-color: var(--fill-color);\n",
              "    }\n",
              "  }\n",
              "</style>\n",
              "\n",
              "  <script>\n",
              "    async function quickchart(key) {\n",
              "      const quickchartButtonEl =\n",
              "        document.querySelector('#' + key + ' button');\n",
              "      quickchartButtonEl.disabled = true;  // To prevent multiple clicks.\n",
              "      quickchartButtonEl.classList.add('colab-df-spinner');\n",
              "      try {\n",
              "        const charts = await google.colab.kernel.invokeFunction(\n",
              "            'suggestCharts', [key], {});\n",
              "      } catch (error) {\n",
              "        console.error('Error during call to suggestCharts:', error);\n",
              "      }\n",
              "      quickchartButtonEl.classList.remove('colab-df-spinner');\n",
              "      quickchartButtonEl.classList.add('colab-df-quickchart-complete');\n",
              "    }\n",
              "    (() => {\n",
              "      let quickchartButtonEl =\n",
              "        document.querySelector('#df-af62c8dc-b4bb-4159-98bf-0f8b2663894e button');\n",
              "      quickchartButtonEl.style.display =\n",
              "        google.colab.kernel.accessAllowed ? 'block' : 'none';\n",
              "    })();\n",
              "  </script>\n",
              "</div>\n",
              "\n",
              "    </div>\n",
              "  </div>\n"
            ],
            "application/vnd.google.colaboratory.intrinsic+json": {
              "type": "dataframe",
              "variable_name": "df",
              "summary": "{\n  \"name\": \"df\",\n  \"rows\": 3522,\n  \"fields\": [\n    {\n      \"column\": \"Course Name\",\n      \"properties\": {\n        \"dtype\": \"string\",\n        \"num_unique_values\": 3416,\n        \"samples\": [\n          \"Create a Record of Students using Arrays in Java\",\n          \"Fundamentals of financial and management accounting\",\n          \"When Disaster Meets Conflict\"\n        ],\n        \"semantic_type\": \"\",\n        \"description\": \"\"\n      }\n    },\n    {\n      \"column\": \"University\",\n      \"properties\": {\n        \"dtype\": \"category\",\n        \"num_unique_values\": 184,\n        \"samples\": [\n          \"The University of Edinburgh\",\n          \"American Museum of Natural History\",\n          \"Alibaba Cloud Academy\"\n        ],\n        \"semantic_type\": \"\",\n        \"description\": \"\"\n      }\n    },\n    {\n      \"column\": \"Difficulty Level\",\n      \"properties\": {\n        \"dtype\": \"category\",\n        \"num_unique_values\": 5,\n        \"samples\": [\n          \"Advanced\",\n          \"Conversant\",\n          \"Intermediate\"\n        ],\n        \"semantic_type\": \"\",\n        \"description\": \"\"\n      }\n    },\n    {\n      \"column\": \"Course Rating\",\n      \"properties\": {\n        \"dtype\": \"category\",\n        \"num_unique_values\": 31,\n        \"samples\": [\n          \"2.4\",\n          \"3.7\",\n          \"2\"\n        ],\n        \"semantic_type\": \"\",\n        \"description\": \"\"\n      }\n    },\n    {\n      \"column\": \"Course URL\",\n      \"properties\": {\n        \"dtype\": \"string\",\n        \"num_unique_values\": 3424,\n        \"samples\": [\n          \"https://www.coursera.org/learn/city-and-you-find-best-place\",\n          \"https://www.coursera.org/learn/user-research\",\n          \"https://www.coursera.org/learn/people-management\"\n        ],\n        \"semantic_type\": \"\",\n        \"description\": \"\"\n      }\n    },\n    {\n      \"column\": \"Course Description\",\n      \"properties\": {\n        \"dtype\": \"string\",\n        \"num_unique_values\": 3397,\n        \"samples\": [\n          \"This course can also be taken for academic credit as ECEA 5317, part of CU Boulder\\ufffds Master of Science in Electrical Engineering degree.  Upon completion of this course the learner will know the difference between systems you can bet your life on (mission critical) and those which provide predictable response and quality of service (reliable).  This will be achieved not only by study of design methods and patterns for mission critical systems, but also through implementation of soft real-time systems and comparison to hard real-time.  Methods of verification to determine ability to meet mission critical as well as soft real-time requirements will be learned so that the learner can properly assess risk, reliability and impact of failure in real-time systems.  At the end of this course learners will be able to apply an architectural style (cyclic executive, RTOS, or embedded Linux) to more detailed design of a mission critical system, a soft real-time system, or a mixed hard and soft real-time system, including:  ?\\\\tThorough understanding of hardware/software device interfaces and resource view for hardware abstraction layers (HAL, BSP) ?\\\\tDesign trade-offs with different real-time hardware architectures including single core, multi-core, hybrid-FPGA, GP-GPU, and DSP systems, with emphasis on multi-core ?\\\\tMission critical embedded systems architecture and key design elements ?\\\\tFault tolerant processing, memory, and I/O concepts\",\n          \"Financial Accounting is often called the language of business; it is the language that managers use to communicate the firm's financial and economic information to external parties such as shareholders and creditors. Nobody working in business can afford financial illiteracy. Whether you run your own business, work as a manager or are just starting your career, you want to understand financial information and be able to interact with accountants, controllers, and financial managers. You want to talk business!   This course will provide you with the accounting language's essentials. Upon completion, you should be able to read and interpret financial statements for business diagnosis and decision-making. More importantly, you will possess the conceptual base to keep learning more sophisticated accounting and finance on your own. Do not forget that, as with any other language, becoming proficient with accounting requires constant practice.\",\n          \"Build on the software engineering skills you learned in \\ufffdJava Programming: Solving Problems with Software\\ufffd by learning new data structures. Use these data structures to build more complex programs that use Java\\ufffds object-oriented features. At the end of the course you will write an encryption program and a program to break your encryption algorithm.  After completing this course, you will be able to: 1. Read and write data from/to files; 2. Solve problems involving data files; 3. Perform quantitative analyses of data (e.g., finding maximums, minimums, averages);  4. Store and manipulate data in an array or ArrayList; 5. Combine multiple classes to solve larger problems; 6. Use iterables and collections (including maps) in Java.\"\n        ],\n        \"semantic_type\": \"\",\n        \"description\": \"\"\n      }\n    },\n    {\n      \"column\": \"Skills\",\n      \"properties\": {\n        \"dtype\": \"string\",\n        \"num_unique_values\": 3424,\n        \"samples\": [\n          \"economy  pandemic  global city  financial centre  crisis  global  curiosity  slum  emerging markets  Creativity social-sciences governance-and-society\",\n          \"i-deas  User Experience  Human Computer Interaction  thought  Map  experience  interview  interaction design  persona (user experience)  User Research computer-science design-and-product\",\n          \"Leadership and Management  organizational conflict  leadership  Human Resources  conflict resolution  performance appraisal  Conflict Management  interview  Performance Management  performance business leadership-and-management\"\n        ],\n        \"semantic_type\": \"\",\n        \"description\": \"\"\n      }\n    }\n  ]\n}"
            }
          },
          "metadata": {},
          "execution_count": 2
        }
      ]
    },
    {
      "cell_type": "markdown",
      "source": [
        "## Basic EDA"
      ],
      "metadata": {
        "id": "VkVK-mwFJaz7"
      }
    },
    {
      "cell_type": "code",
      "source": [
        "df.shape"
      ],
      "metadata": {
        "colab": {
          "base_uri": "https://localhost:8080/"
        },
        "id": "2aJzGbu4FgVX",
        "outputId": "fc4fc844-dc71-4eb1-9a50-cbf2e103472f"
      },
      "execution_count": 3,
      "outputs": [
        {
          "output_type": "execute_result",
          "data": {
            "text/plain": [
              "(3522, 7)"
            ]
          },
          "metadata": {},
          "execution_count": 3
        }
      ]
    },
    {
      "cell_type": "code",
      "source": [
        "df.info()"
      ],
      "metadata": {
        "colab": {
          "base_uri": "https://localhost:8080/"
        },
        "id": "dSomKeZ0gwSV",
        "outputId": "52842f9c-f245-4879-eb5a-9d09a03f9664"
      },
      "execution_count": 4,
      "outputs": [
        {
          "output_type": "stream",
          "name": "stdout",
          "text": [
            "<class 'pandas.core.frame.DataFrame'>\n",
            "RangeIndex: 3522 entries, 0 to 3521\n",
            "Data columns (total 7 columns):\n",
            " #   Column              Non-Null Count  Dtype \n",
            "---  ------              --------------  ----- \n",
            " 0   Course Name         3522 non-null   object\n",
            " 1   University          3522 non-null   object\n",
            " 2   Difficulty Level    3522 non-null   object\n",
            " 3   Course Rating       3522 non-null   object\n",
            " 4   Course URL          3522 non-null   object\n",
            " 5   Course Description  3522 non-null   object\n",
            " 6   Skills              3522 non-null   object\n",
            "dtypes: object(7)\n",
            "memory usage: 192.7+ KB\n"
          ]
        }
      ]
    },
    {
      "cell_type": "code",
      "source": [
        "df.isnull().sum()\n",
        "#no value is missing"
      ],
      "metadata": {
        "colab": {
          "base_uri": "https://localhost:8080/"
        },
        "id": "9z-3xbRpF9Oc",
        "outputId": "e4e3a022-eea4-487c-9470-db44c32c4b35"
      },
      "execution_count": 5,
      "outputs": [
        {
          "output_type": "execute_result",
          "data": {
            "text/plain": [
              "Course Name           0\n",
              "University            0\n",
              "Difficulty Level      0\n",
              "Course Rating         0\n",
              "Course URL            0\n",
              "Course Description    0\n",
              "Skills                0\n",
              "dtype: int64"
            ]
          },
          "metadata": {},
          "execution_count": 5
        }
      ]
    },
    {
      "cell_type": "code",
      "source": [
        "df['Difficulty Level'].value_counts()"
      ],
      "metadata": {
        "colab": {
          "base_uri": "https://localhost:8080/"
        },
        "id": "njBOaRwyjXeU",
        "outputId": "cff386d7-1f7b-476d-f204-f996dac9cd81"
      },
      "execution_count": 6,
      "outputs": [
        {
          "output_type": "execute_result",
          "data": {
            "text/plain": [
              "Difficulty Level\n",
              "Beginner          1444\n",
              "Advanced          1005\n",
              "Intermediate       837\n",
              "Conversant         186\n",
              "Not Calibrated      50\n",
              "Name: count, dtype: int64"
            ]
          },
          "metadata": {},
          "execution_count": 6
        }
      ]
    },
    {
      "cell_type": "code",
      "source": [
        "# Visualization for difficulty level\n",
        "\n",
        "difficulty_counts = df['Difficulty Level'].value_counts()\n",
        "\n",
        "plt.figure(figsize=(8, 8))\n",
        "plt.pie(difficulty_counts, labels=difficulty_counts.index, autopct='%1.1f%%', startangle=140, colors=plt.cm.Paired.colors)\n",
        "plt.title('Difficulty Level Distribution')\n",
        "plt.show()"
      ],
      "metadata": {
        "colab": {
          "base_uri": "https://localhost:8080/",
          "height": 675
        },
        "id": "WUUp2LK8LKL0",
        "outputId": "0fc54060-3b57-4a2c-b7db-005d78a9c030"
      },
      "execution_count": 7,
      "outputs": [
        {
          "output_type": "display_data",
          "data": {
            "text/plain": [
              "<Figure size 800x800 with 1 Axes>"
            ],
            "image/png": "[encoded data removed]"
          },
          "metadata": {}
        }
      ]
    },
    {
      "cell_type": "code",
      "source": [
        "df['Course Rating'].value_counts()"
      ],
      "metadata": {
        "id": "CMBk3TrpjXa1",
        "colab": {
          "base_uri": "https://localhost:8080/"
        },
        "outputId": "625e5004-9126-479a-bf40-ef4ae33cbfd7"
      },
      "execution_count": 8,
      "outputs": [
        {
          "output_type": "execute_result",
          "data": {
            "text/plain": [
              "Course Rating\n",
              "4.7               740\n",
              "4.6               623\n",
              "4.8               598\n",
              "4.5               389\n",
              "4.4               242\n",
              "4.9               180\n",
              "4.3               165\n",
              "4.2               121\n",
              "5                  90\n",
              "4.1                85\n",
              "Not Calibrated     82\n",
              "4                  51\n",
              "3.8                24\n",
              "3.9                20\n",
              "3.6                18\n",
              "3.7                18\n",
              "3.5                17\n",
              "3.4                13\n",
              "3                  12\n",
              "3.2                 9\n",
              "3.3                 6\n",
              "2.9                 6\n",
              "2.6                 2\n",
              "2.8                 2\n",
              "2.4                 2\n",
              "1                   2\n",
              "2                   1\n",
              "3.1                 1\n",
              "2.5                 1\n",
              "1.9                 1\n",
              "2.3                 1\n",
              "Name: count, dtype: int64"
            ]
          },
          "metadata": {},
          "execution_count": 8
        }
      ]
    },
    {
      "cell_type": "code",
      "source": [
        "df = df[df['Course Rating'] != 'Not Calibrated']\n",
        "\n",
        "df['Course Rating'] = df['Course Rating'].astype(float)\n",
        "\n"
      ],
      "metadata": {
        "id": "-3X8ss7NMhA3",
        "colab": {
          "base_uri": "https://localhost:8080/"
        },
        "outputId": "bdd95084-513d-43e7-f4e2-91af8f363489"
      },
      "execution_count": 9,
      "outputs": [
        {
          "output_type": "stream",
          "name": "stderr",
          "text": [
            "<ipython-input-9-66e4352d4a2a>:3: SettingWithCopyWarning: \n",
            "A value is trying to be set on a copy of a slice from a DataFrame.\n",
            "Try using .loc[row_indexer,col_indexer] = value instead\n",
            "\n",
            "See the caveats in the documentation: https://pandas.pydata.org/pandas-docs/stable/user_guide/indexing.html#returning-a-view-versus-a-copy\n",
            "  df['Course Rating'] = df['Course Rating'].astype(float)\n"
          ]
        }
      ]
    },
    {
      "cell_type": "code",
      "source": [
        "plt.figure(figsize=(18,7))\n",
        "sns.countplot(data=df,x='Course Rating',palette='plasma')\n",
        "plt.xlabel('Course Ratings',fontsize='16',color='blue')\n",
        "plt.ylabel('Number of courses',fontsize='16',color='blue')\n",
        "plt.xticks(fontsize='14',color='green')\n",
        "plt.yticks(fontsize='14',color='red')\n",
        "plt.title(\"Count of course types\\n\",fontsize=24,fontweight='bold',color='indigo')"
      ],
      "metadata": {
        "colab": {
          "base_uri": "https://localhost:8080/",
          "height": 612
        },
        "id": "UYGZTry5NxgN",
        "outputId": "c82c8bb7-0c4d-4ea3-8b51-985fe91d333a"
      },
      "execution_count": 10,
      "outputs": [
        {
          "output_type": "stream",
          "name": "stderr",
          "text": [
            "<ipython-input-10-d2f00773fc9a>:2: FutureWarning: \n",
            "\n",
            "Passing `palette` without assigning `hue` is deprecated and will be removed in v0.14.0. Assign the `x` variable to `hue` and set `legend=False` for the same effect.\n",
            "\n",
            "  sns.countplot(data=df,x='Course Rating',palette='plasma')\n"
          ]
        },
        {
          "output_type": "execute_result",
          "data": {
            "text/plain": [
              "Text(0.5, 1.0, 'Count of course types\\n')"
            ]
          },
          "metadata": {},
          "execution_count": 10
        },
        {
          "output_type": "display_data",
          "data": {
            "text/plain": [
              "<Figure size 1800x700 with 1 Axes>"
            ],
            "image/png": "[encoded data removed]"
          },
          "metadata": {}
        }
      ]
    },
    {
      "cell_type": "code",
      "source": [
        "df = df[df['Course Rating'] > 4.0]"
      ],
      "metadata": {
        "id": "yjSfTu3zNxYE"
      },
      "execution_count": 11,
      "outputs": []
    },
    {
      "cell_type": "code",
      "source": [
        "df['University'].value_counts()"
      ],
      "metadata": {
        "colab": {
          "base_uri": "https://localhost:8080/"
        },
        "id": "pzau8TFTJ1Dv",
        "outputId": "9e1b739b-2cd9-489a-f24e-d1d6ef97cd68"
      },
      "execution_count": 12,
      "outputs": [
        {
          "output_type": "execute_result",
          "data": {
            "text/plain": [
              "University\n",
              "Coursera Project Network                      494\n",
              "University of Illinois at Urbana-Champaign    127\n",
              "Johns Hopkins University                       97\n",
              "University of Michigan                         96\n",
              "University of Colorado Boulder                 86\n",
              "                                             ... \n",
              "ConsenSys Academy                               1\n",
              "Brightline Initiative                           1\n",
              "H2O                                             1\n",
              "Xi'an Jiaotong University                       1\n",
              "The World Bank Group                            1\n",
              "Name: count, Length: 180, dtype: int64"
            ]
          },
          "metadata": {},
          "execution_count": 12
        }
      ]
    },
    {
      "cell_type": "markdown",
      "source": [
        "## Data Cleaning"
      ],
      "metadata": {
        "id": "WgC0GiVZKWd4"
      }
    },
    {
      "cell_type": "code",
      "source": [
        "# We can drop those columns that are not important for our model and for a better analytics result\n",
        "\n",
        "df = df.drop(columns= 'Course URL')\n",
        "df = df.drop(columns= 'University')\n",
        "df.head()"
      ],
      "metadata": {
        "colab": {
          "base_uri": "https://localhost:8080/",
          "height": 310
        },
        "id": "ak4fq7u7jXh4",
        "outputId": "32c4bf8a-c343-451d-9a31-0dd72da67d85"
      },
      "execution_count": 13,
      "outputs": [
        {
          "output_type": "execute_result",
          "data": {
            "text/plain": [
              "                                         Course Name Difficulty Level  \\\n",
              "0  Write A Feature Length Screenplay For Film Or ...         Beginner   \n",
              "1  Business Strategy: Business Model Canvas Analy...         Beginner   \n",
              "2                      Silicon Thin Film Solar Cells         Advanced   \n",
              "3                               Finance for Managers     Intermediate   \n",
              "4       Retrieve Data using Single-Table SQL Queries         Beginner   \n",
              "\n",
              "   Course Rating                                 Course Description  \\\n",
              "0            4.8  Write a Full Length Feature Film Script  In th...   \n",
              "1            4.8  By the end of this guided project, you will be...   \n",
              "2            4.1  This course consists of a general presentation...   \n",
              "3            4.8  When it comes to numbers, there is always more...   \n",
              "4            4.6  In this course you�ll learn how to effectively...   \n",
              "\n",
              "                                              Skills  \n",
              "0  Drama  Comedy  peering  screenwriting  film  D...  \n",
              "1  Finance  business plan  persona (user experien...  \n",
              "2  chemistry  physics  Solar Energy  film  lambda...  \n",
              "3  accounts receivable  dupont analysis  analysis...  \n",
              "4  Data Analysis  select (sql)  database manageme...  "
            ],
            "text/html": [
              "\n",
              "  <div id=\"df-1da159f4-cb71-4e3b-9853-a3ae2af4b4bd\" class=\"colab-df-container\">\n",
              "    <div>\n",
              "<style scoped>\n",
              "    .dataframe tbody tr th:only-of-type {\n",
              "        vertical-align: middle;\n",
              "    }\n",
              "\n",
              "    .dataframe tbody tr th {\n",
              "        vertical-align: top;\n",
              "    }\n",
              "\n",
              "    .dataframe thead th {\n",
              "        text-align: right;\n",
              "    }\n",
              "</style>\n",
              "<table border=\"1\" class=\"dataframe\">\n",
              "  <thead>\n",
              "    <tr style=\"text-align: right;\">\n",
              "      <th></th>\n",
              "      <th>Course Name</th>\n",
              "      <th>Difficulty Level</th>\n",
              "      <th>Course Rating</th>\n",
              "      <th>Course Description</th>\n",
              "      <th>Skills</th>\n",
              "    </tr>\n",
              "  </thead>\n",
              "  <tbody>\n",
              "    <tr>\n",
              "      <th>0</th>\n",
              "      <td>Write A Feature Length Screenplay For Film Or ...</td>\n",
              "      <td>Beginner</td>\n",
              "      <td>4.8</td>\n",
              "      <td>Write a Full Length Feature Film Script  In th...</td>\n",
              "      <td>Drama  Comedy  peering  screenwriting  film  D...</td>\n",
              "    </tr>\n",
              "    <tr>\n",
              "      <th>1</th>\n",
              "      <td>Business Strategy: Business Model Canvas Analy...</td>\n",
              "      <td>Beginner</td>\n",
              "      <td>4.8</td>\n",
              "      <td>By the end of this guided project, you will be...</td>\n",
              "      <td>Finance  business plan  persona (user experien...</td>\n",
              "    </tr>\n",
              "    <tr>\n",
              "      <th>2</th>\n",
              "      <td>Silicon Thin Film Solar Cells</td>\n",
              "      <td>Advanced</td>\n",
              "      <td>4.1</td>\n",
              "      <td>This course consists of a general presentation...</td>\n",
              "      <td>chemistry  physics  Solar Energy  film  lambda...</td>\n",
              "    </tr>\n",
              "    <tr>\n",
              "      <th>3</th>\n",
              "      <td>Finance for Managers</td>\n",
              "      <td>Intermediate</td>\n",
              "      <td>4.8</td>\n",
              "      <td>When it comes to numbers, there is always more...</td>\n",
              "      <td>accounts receivable  dupont analysis  analysis...</td>\n",
              "    </tr>\n",
              "    <tr>\n",
              "      <th>4</th>\n",
              "      <td>Retrieve Data using Single-Table SQL Queries</td>\n",
              "      <td>Beginner</td>\n",
              "      <td>4.6</td>\n",
              "      <td>In this course you�ll learn how to effectively...</td>\n",
              "      <td>Data Analysis  select (sql)  database manageme...</td>\n",
              "    </tr>\n",
              "  </tbody>\n",
              "</table>\n",
              "</div>\n",
              "    <div class=\"colab-df-buttons\">\n",
              "\n",
              "  <div class=\"colab-df-container\">\n",
              "    <button class=\"colab-df-convert\" onclick=\"convertToInteractive('df-1da159f4-cb71-4e3b-9853-a3ae2af4b4bd')\"\n",
              "            title=\"Convert this dataframe to an interactive table.\"\n",
              "            style=\"display:none;\">\n",
              "\n",
              "  <svg xmlns=\"http://www.w3.org/2000/svg\" height=\"24px\" viewBox=\"0 -960 960 960\">\n",
              "    <path d=\"M120-120v-720h720v720H120Zm60-500h600v-160H180v160Zm220 220h160v-160H400v160Zm0 220h160v-160H400v160ZM180-400h160v-160H180v160Zm440 0h160v-160H620v160ZM180-180h160v-160H180v160Zm440 0h160v-160H620v160Z\"/>\n",
              "  </svg>\n",
              "    </button>\n",
              "\n",
              "  <style>\n",
              "    .colab-df-container {\n",
              "      display:flex;\n",
              "      gap: 12px;\n",
              "    }\n",
              "\n",
              "    .colab-df-convert {\n",
              "      background-color: #E8F0FE;\n",
              "      border: none;\n",
              "      border-radius: 50%;\n",
              "      cursor: pointer;\n",
              "      display: none;\n",
              "      fill: #1967D2;\n",
              "      height: 32px;\n",
              "      padding: 0 0 0 0;\n",
              "      width: 32px;\n",
              "    }\n",
              "\n",
              "    .colab-df-convert:hover {\n",
              "      background-color: #E2EBFA;\n",
              "      box-shadow: 0px 1px 2px rgba(60, 64, 67, 0.3), 0px 1px 3px 1px rgba(60, 64, 67, 0.15);\n",
              "      fill: #174EA6;\n",
              "    }\n",
              "\n",
              "    .colab-df-buttons div {\n",
              "      margin-bottom: 4px;\n",
              "    }\n",
              "\n",
              "    [theme=dark] .colab-df-convert {\n",
              "      background-color: #3B4455;\n",
              "      fill: #D2E3FC;\n",
              "    }\n",
              "\n",
              "    [theme=dark] .colab-df-convert:hover {\n",
              "      background-color: #434B5C;\n",
              "      box-shadow: 0px 1px 3px 1px rgba(0, 0, 0, 0.15);\n",
              "      filter: drop-shadow(0px 1px 2px rgba(0, 0, 0, 0.3));\n",
              "      fill: #FFFFFF;\n",
              "    }\n",
              "  </style>\n",
              "\n",
              "    <script>\n",
              "      const buttonEl =\n",
              "        document.querySelector('#df-1da159f4-cb71-4e3b-9853-a3ae2af4b4bd button.colab-df-convert');\n",
              "      buttonEl.style.display =\n",
              "        google.colab.kernel.accessAllowed ? 'block' : 'none';\n",
              "\n",
              "      async function convertToInteractive(key) {\n",
              "        const element = document.querySelector('#df-1da159f4-cb71-4e3b-9853-a3ae2af4b4bd');\n",
              "        const dataTable =\n",
              "          await google.colab.kernel.invokeFunction('convertToInteractive',\n",
              "                                                    [key], {});\n",
              "        if (!dataTable) return;\n",
              "\n",
              "        const docLinkHtml = 'Like what you see? Visit the ' +\n",
              "          '<a target=\"_blank\" href=https://colab.research.google.com/notebooks/data_table.ipynb>data table notebook</a>'\n",
              "          + ' to learn more about interactive tables.';\n",
              "        element.innerHTML = '';\n",
              "        dataTable['output_type'] = 'display_data';\n",
              "        await google.colab.output.renderOutput(dataTable, element);\n",
              "        const docLink = document.createElement('div');\n",
              "        docLink.innerHTML = docLinkHtml;\n",
              "        element.appendChild(docLink);\n",
              "      }\n",
              "    </script>\n",
              "  </div>\n",
              "\n",
              "\n",
              "<div id=\"df-5c737d23-fbed-4def-84ed-8daf1756a2ad\">\n",
              "  <button class=\"colab-df-quickchart\" onclick=\"quickchart('df-5c737d23-fbed-4def-84ed-8daf1756a2ad')\"\n",
              "            title=\"Suggest charts\"\n",
              "            style=\"display:none;\">\n",
              "\n",
              "<svg xmlns=\"http://www.w3.org/2000/svg\" height=\"24px\"viewBox=\"0 0 24 24\"\n",
              "     width=\"24px\">\n",
              "    <g>\n",
              "        <path d=\"M19 3H5c-1.1 0-2 .9-2 2v14c0 1.1.9 2 2 2h14c1.1 0 2-.9 2-2V5c0-1.1-.9-2-2-2zM9 17H7v-7h2v7zm4 0h-2V7h2v10zm4 0h-2v-4h2v4z\"/>\n",
              "    </g>\n",
              "</svg>\n",
              "  </button>\n",
              "\n",
              "<style>\n",
              "  .colab-df-quickchart {\n",
              "      --bg-color: #E8F0FE;\n",
              "      --fill-color: #1967D2;\n",
              "      --hover-bg-color: #E2EBFA;\n",
              "      --hover-fill-color: #174EA6;\n",
              "      --disabled-fill-color: #AAA;\n",
              "      --disabled-bg-color: #DDD;\n",
              "  }\n",
              "\n",
              "  [theme=dark] .colab-df-quickchart {\n",
              "      --bg-color: #3B4455;\n",
              "      --fill-color: #D2E3FC;\n",
              "      --hover-bg-color: #434B5C;\n",
              "      --hover-fill-color: #FFFFFF;\n",
              "      --disabled-bg-color: #3B4455;\n",
              "      --disabled-fill-color: #666;\n",
              "  }\n",
              "\n",
              "  .colab-df-quickchart {\n",
              "    background-color: var(--bg-color);\n",
              "    border: none;\n",
              "    border-radius: 50%;\n",
              "    cursor: pointer;\n",
              "    display: none;\n",
              "    fill: var(--fill-color);\n",
              "    height: 32px;\n",
              "    padding: 0;\n",
              "    width: 32px;\n",
              "  }\n",
              "\n",
              "  .colab-df-quickchart:hover {\n",
              "    background-color: var(--hover-bg-color);\n",
              "    box-shadow: 0 1px 2px rgba(60, 64, 67, 0.3), 0 1px 3px 1px rgba(60, 64, 67, 0.15);\n",
              "    fill: var(--button-hover-fill-color);\n",
              "  }\n",
              "\n",
              "  .colab-df-quickchart-complete:disabled,\n",
              "  .colab-df-quickchart-complete:disabled:hover {\n",
              "    background-color: var(--disabled-bg-color);\n",
              "    fill: var(--disabled-fill-color);\n",
              "    box-shadow: none;\n",
              "  }\n",
              "\n",
              "  .colab-df-spinner {\n",
              "    border: 2px solid var(--fill-color);\n",
              "    border-color: transparent;\n",
              "    border-bottom-color: var(--fill-color);\n",
              "    animation:\n",
              "      spin 1s steps(1) infinite;\n",
              "  }\n",
              "\n",
              "  @keyframes spin {\n",
              "    0% {\n",
              "      border-color: transparent;\n",
              "      border-bottom-color: var(--fill-color);\n",
              "      border-left-color: var(--fill-color);\n",
              "    }\n",
              "    20% {\n",
              "      border-color: transparent;\n",
              "      border-left-color: var(--fill-color);\n",
              "      border-top-color: var(--fill-color);\n",
              "    }\n",
              "    30% {\n",
              "      border-color: transparent;\n",
              "      border-left-color: var(--fill-color);\n",
              "      border-top-color: var(--fill-color);\n",
              "      border-right-color: var(--fill-color);\n",
              "    }\n",
              "    40% {\n",
              "      border-color: transparent;\n",
              "      border-right-color: var(--fill-color);\n",
              "      border-top-color: var(--fill-color);\n",
              "    }\n",
              "    60% {\n",
              "      border-color: transparent;\n",
              "      border-right-color: var(--fill-color);\n",
              "    }\n",
              "    80% {\n",
              "      border-color: transparent;\n",
              "      border-right-color: var(--fill-color);\n",
              "      border-bottom-color: var(--fill-color);\n",
              "    }\n",
              "    90% {\n",
              "      border-color: transparent;\n",
              "      border-bottom-color: var(--fill-color);\n",
              "    }\n",
              "  }\n",
              "</style>\n",
              "\n",
              "  <script>\n",
              "    async function quickchart(key) {\n",
              "      const quickchartButtonEl =\n",
              "        document.querySelector('#' + key + ' button');\n",
              "      quickchartButtonEl.disabled = true;  // To prevent multiple clicks.\n",
              "      quickchartButtonEl.classList.add('colab-df-spinner');\n",
              "      try {\n",
              "        const charts = await google.colab.kernel.invokeFunction(\n",
              "            'suggestCharts', [key], {});\n",
              "      } catch (error) {\n",
              "        console.error('Error during call to suggestCharts:', error);\n",
              "      }\n",
              "      quickchartButtonEl.classList.remove('colab-df-spinner');\n",
              "      quickchartButtonEl.classList.add('colab-df-quickchart-complete');\n",
              "    }\n",
              "    (() => {\n",
              "      let quickchartButtonEl =\n",
              "        document.querySelector('#df-5c737d23-fbed-4def-84ed-8daf1756a2ad button');\n",
              "      quickchartButtonEl.style.display =\n",
              "        google.colab.kernel.accessAllowed ? 'block' : 'none';\n",
              "    })();\n",
              "  </script>\n",
              "</div>\n",
              "\n",
              "    </div>\n",
              "  </div>\n"
            ],
            "application/vnd.google.colaboratory.intrinsic+json": {
              "type": "dataframe",
              "variable_name": "df",
              "summary": "{\n  \"name\": \"df\",\n  \"rows\": 3233,\n  \"fields\": [\n    {\n      \"column\": \"Course Name\",\n      \"properties\": {\n        \"dtype\": \"string\",\n        \"num_unique_values\": 3128,\n        \"samples\": [\n          \"Mastering Statics\",\n          \"Applications of Everyday Leadership\",\n          \"Introduction to Programming with MATLAB\"\n        ],\n        \"semantic_type\": \"\",\n        \"description\": \"\"\n      }\n    },\n    {\n      \"column\": \"Difficulty Level\",\n      \"properties\": {\n        \"dtype\": \"category\",\n        \"num_unique_values\": 5,\n        \"samples\": [\n          \"Advanced\",\n          \"Conversant\",\n          \"Intermediate\"\n        ],\n        \"semantic_type\": \"\",\n        \"description\": \"\"\n      }\n    },\n    {\n      \"column\": \"Course Rating\",\n      \"properties\": {\n        \"dtype\": \"number\",\n        \"std\": 0.20054340185001807,\n        \"min\": 4.1,\n        \"max\": 5.0,\n        \"num_unique_values\": 10,\n        \"samples\": [\n          4.2,\n          4.1,\n          4.3\n        ],\n        \"semantic_type\": \"\",\n        \"description\": \"\"\n      }\n    },\n    {\n      \"column\": \"Course Description\",\n      \"properties\": {\n        \"dtype\": \"string\",\n        \"num_unique_values\": 3116,\n        \"samples\": [\n          \"In this 1-hour long project-based course, you will learn how to do Computer Vision on images and videos with OpenCV and Python using Jupyter Notebook. You will understand how Neural Transfer Style works and you'll use it on images and on videos. Finally, you'll learn how to use the Green Screen Effect on your images.  This course runs on Coursera's hands-on project platform called Rhyme. On Rhyme, you do projects in a hands-on manner in your browser. You will get instant access to pre-configured cloud desktops containing all of the software and data you need for the project. Everything is already set up directly in your Internet browser so you can just focus on learning. For this project, you\\ufffdll get instant access to a cloud desktop with Python, Jupyter, and OpenCV pre-installed.  Prerequisites: In order to be successful in this project, you should have an intermediate knowledge of Python and OpenCV.   Notes: -  You will be able to access the cloud desktop 5 times. However, you will be able to access instructions videos as many times as you want. - This course works best for learners who are based in the North America region. We\\ufffdre currently working on providing the same experience in other regions.\",\n          \"Welcome to Core Interaction Programming, the first course in the Unity Certified Programmer Specialization from Unity Technologies.  This course will help you prepare for the Unity Certified Programmer exam, the professional certification for entry to mid-level Unity programmers. Unity is used to create real-time 3D applications for many industries, including video games, automotive, film, training, and more. In this course, you will be challenged to solve realistic Unity programming problems that are aligned to topics covered on the exam.   Throughout the first course, you will build the foundation for a 2D action video game: AsteraX. In doing so, you will practice many of the skills covered in the exam, including evaluating scripting needs from a project requirements document, implementing the three \\\"C's\\\" of an interactive applications (Character, Controls, Camera), providing user feedback through basic UI elements, and applying professional programming practices like developer testing.  This is an intermediate course, intended for people who are ready for their first paying roles as Unity programmers, or enthusiasts who would like to verify their skills against a professional standard. To succeed, you should have at least 1-2 years of experience programming interactive applications in Unity. You should be proficient at programming in the C# language and familiar with Unity's scripting APIs. You should have experience in the full product development lifecycle, from concept to launch (and beyond). And you should understand multi-platform development, including deploying applications to XR (AR and VR) platforms.\",\n          \"In this course, you will learn about the history of LGBTQ+ issues in education and develop strategies for building more inclusive learning environments for students, teachers, and community members. This course will provide you with insights and equip you with strategies for exploring inclusion for lesbian, gay, bisexual, transgender, and queer or questioning learners in your specific professional context. Throughout the videos, reading assignments, and additional resources we\\ufffdve provided, you\\ufffdll be exposed to a range of concepts and techniques for enhancing LGBTQ+ inclusion. You\\ufffdll be challenged to integrate those concepts and techniques in your practice as an educator. We\\ufffdve created this course for anybody who\\ufffds interested in learning more about LGBTQ+ identities and experiences. We specifically designed it for educators who want to explore issues related to LGBTQ+ inclusion in their classrooms. Whether you\\ufffdre brand new to this topic or you\\ufffdve been thinking and talking about LGBTQ+ issues for most of your life, we hope you\\ufffdll learn and grow as you work through this class.\"\n        ],\n        \"semantic_type\": \"\",\n        \"description\": \"\"\n      }\n    },\n    {\n      \"column\": \"Skills\",\n      \"properties\": {\n        \"dtype\": \"string\",\n        \"num_unique_values\": 3136,\n        \"samples\": [\n          \"history  Planning  crisis management  Communication  leadership  teaching method  coaching  Leadership and Management  crisis  crisis communication business leadership-and-management\",\n          \"Entrepreneurship  evaluation  Operations Management  Process Mapping  competitiveness  process  Business Operations  online learning  customer service training  Revenue Operations business entrepreneurship\",\n          \"Marketing  brand  Leadership and Management  brand equity  brand marketing  Culture  employment  Brand Management  Brand Identity  stock business entrepreneurship\"\n        ],\n        \"semantic_type\": \"\",\n        \"description\": \"\"\n      }\n    }\n  ]\n}"
            }
          },
          "metadata": {},
          "execution_count": 13
        }
      ]
    },
    {
      "cell_type": "markdown",
      "source": [
        "## Pre- Processing using NLP"
      ],
      "metadata": {
        "id": "xdsGgR0EUG_a"
      }
    },
    {
      "cell_type": "code",
      "source": [
        "df.head()"
      ],
      "metadata": {
        "colab": {
          "base_uri": "https://localhost:8080/",
          "height": 310
        },
        "id": "bThPYtP-V4_N",
        "outputId": "c5aff7bd-d33f-49ad-f384-a6e307af809d"
      },
      "execution_count": 14,
      "outputs": [
        {
          "output_type": "execute_result",
          "data": {
            "text/plain": [
              "                                         Course Name Difficulty Level  \\\n",
              "0  Write A Feature Length Screenplay For Film Or ...         Beginner   \n",
              "1  Business Strategy: Business Model Canvas Analy...         Beginner   \n",
              "2                      Silicon Thin Film Solar Cells         Advanced   \n",
              "3                               Finance for Managers     Intermediate   \n",
              "4       Retrieve Data using Single-Table SQL Queries         Beginner   \n",
              "\n",
              "   Course Rating                                 Course Description  \\\n",
              "0            4.8  Write a Full Length Feature Film Script  In th...   \n",
              "1            4.8  By the end of this guided project, you will be...   \n",
              "2            4.1  This course consists of a general presentation...   \n",
              "3            4.8  When it comes to numbers, there is always more...   \n",
              "4            4.6  In this course you�ll learn how to effectively...   \n",
              "\n",
              "                                              Skills  \n",
              "0  Drama  Comedy  peering  screenwriting  film  D...  \n",
              "1  Finance  business plan  persona (user experien...  \n",
              "2  chemistry  physics  Solar Energy  film  lambda...  \n",
              "3  accounts receivable  dupont analysis  analysis...  \n",
              "4  Data Analysis  select (sql)  database manageme...  "
            ],
            "text/html": [
              "\n",
              "  <div id=\"df-e6f63c3c-035b-4017-896d-e15e0de78605\" class=\"colab-df-container\">\n",
              "    <div>\n",
              "<style scoped>\n",
              "    .dataframe tbody tr th:only-of-type {\n",
              "        vertical-align: middle;\n",
              "    }\n",
              "\n",
              "    .dataframe tbody tr th {\n",
              "        vertical-align: top;\n",
              "    }\n",
              "\n",
              "    .dataframe thead th {\n",
              "        text-align: right;\n",
              "    }\n",
              "</style>\n",
              "<table border=\"1\" class=\"dataframe\">\n",
              "  <thead>\n",
              "    <tr style=\"text-align: right;\">\n",
              "      <th></th>\n",
              "      <th>Course Name</th>\n",
              "      <th>Difficulty Level</th>\n",
              "      <th>Course Rating</th>\n",
              "      <th>Course Description</th>\n",
              "      <th>Skills</th>\n",
              "    </tr>\n",
              "  </thead>\n",
              "  <tbody>\n",
              "    <tr>\n",
              "      <th>0</th>\n",
              "      <td>Write A Feature Length Screenplay For Film Or ...</td>\n",
              "      <td>Beginner</td>\n",
              "      <td>4.8</td>\n",
              "      <td>Write a Full Length Feature Film Script  In th...</td>\n",
              "      <td>Drama  Comedy  peering  screenwriting  film  D...</td>\n",
              "    </tr>\n",
              "    <tr>\n",
              "      <th>1</th>\n",
              "      <td>Business Strategy: Business Model Canvas Analy...</td>\n",
              "      <td>Beginner</td>\n",
              "      <td>4.8</td>\n",
              "      <td>By the end of this guided project, you will be...</td>\n",
              "      <td>Finance  business plan  persona (user experien...</td>\n",
              "    </tr>\n",
              "    <tr>\n",
              "      <th>2</th>\n",
              "      <td>Silicon Thin Film Solar Cells</td>\n",
              "      <td>Advanced</td>\n",
              "      <td>4.1</td>\n",
              "      <td>This course consists of a general presentation...</td>\n",
              "      <td>chemistry  physics  Solar Energy  film  lambda...</td>\n",
              "    </tr>\n",
              "    <tr>\n",
              "      <th>3</th>\n",
              "      <td>Finance for Managers</td>\n",
              "      <td>Intermediate</td>\n",
              "      <td>4.8</td>\n",
              "      <td>When it comes to numbers, there is always more...</td>\n",
              "      <td>accounts receivable  dupont analysis  analysis...</td>\n",
              "    </tr>\n",
              "    <tr>\n",
              "      <th>4</th>\n",
              "      <td>Retrieve Data using Single-Table SQL Queries</td>\n",
              "      <td>Beginner</td>\n",
              "      <td>4.6</td>\n",
              "      <td>In this course you�ll learn how to effectively...</td>\n",
              "      <td>Data Analysis  select (sql)  database manageme...</td>\n",
              "    </tr>\n",
              "  </tbody>\n",
              "</table>\n",
              "</div>\n",
              "    <div class=\"colab-df-buttons\">\n",
              "\n",
              "  <div class=\"colab-df-container\">\n",
              "    <button class=\"colab-df-convert\" onclick=\"convertToInteractive('df-e6f63c3c-035b-4017-896d-e15e0de78605')\"\n",
              "            title=\"Convert this dataframe to an interactive table.\"\n",
              "            style=\"display:none;\">\n",
              "\n",
              "  <svg xmlns=\"http://www.w3.org/2000/svg\" height=\"24px\" viewBox=\"0 -960 960 960\">\n",
              "    <path d=\"M120-120v-720h720v720H120Zm60-500h600v-160H180v160Zm220 220h160v-160H400v160Zm0 220h160v-160H400v160ZM180-400h160v-160H180v160Zm440 0h160v-160H620v160ZM180-180h160v-160H180v160Zm440 0h160v-160H620v160Z\"/>\n",
              "  </svg>\n",
              "    </button>\n",
              "\n",
              "  <style>\n",
              "    .colab-df-container {\n",
              "      display:flex;\n",
              "      gap: 12px;\n",
              "    }\n",
              "\n",
              "    .colab-df-convert {\n",
              "      background-color: #E8F0FE;\n",
              "      border: none;\n",
              "      border-radius: 50%;\n",
              "      cursor: pointer;\n",
              "      display: none;\n",
              "      fill: #1967D2;\n",
              "      height: 32px;\n",
              "      padding: 0 0 0 0;\n",
              "      width: 32px;\n",
              "    }\n",
              "\n",
              "    .colab-df-convert:hover {\n",
              "      background-color: #E2EBFA;\n",
              "      box-shadow: 0px 1px 2px rgba(60, 64, 67, 0.3), 0px 1px 3px 1px rgba(60, 64, 67, 0.15);\n",
              "      fill: #174EA6;\n",
              "    }\n",
              "\n",
              "    .colab-df-buttons div {\n",
              "      margin-bottom: 4px;\n",
              "    }\n",
              "\n",
              "    [theme=dark] .colab-df-convert {\n",
              "      background-color: #3B4455;\n",
              "      fill: #D2E3FC;\n",
              "    }\n",
              "\n",
              "    [theme=dark] .colab-df-convert:hover {\n",
              "      background-color: #434B5C;\n",
              "      box-shadow: 0px 1px 3px 1px rgba(0, 0, 0, 0.15);\n",
              "      filter: drop-shadow(0px 1px 2px rgba(0, 0, 0, 0.3));\n",
              "      fill: #FFFFFF;\n",
              "    }\n",
              "  </style>\n",
              "\n",
              "    <script>\n",
              "      const buttonEl =\n",
              "        document.querySelector('#df-e6f63c3c-035b-4017-896d-e15e0de78605 button.colab-df-convert');\n",
              "      buttonEl.style.display =\n",
              "        google.colab.kernel.accessAllowed ? 'block' : 'none';\n",
              "\n",
              "      async function convertToInteractive(key) {\n",
              "        const element = document.querySelector('#df-e6f63c3c-035b-4017-896d-e15e0de78605');\n",
              "        const dataTable =\n",
              "          await google.colab.kernel.invokeFunction('convertToInteractive',\n",
              "                                                    [key], {});\n",
              "        if (!dataTable) return;\n",
              "\n",
              "        const docLinkHtml = 'Like what you see? Visit the ' +\n",
              "          '<a target=\"_blank\" href=https://colab.research.google.com/notebooks/data_table.ipynb>data table notebook</a>'\n",
              "          + ' to learn more about interactive tables.';\n",
              "        element.innerHTML = '';\n",
              "        dataTable['output_type'] = 'display_data';\n",
              "        await google.colab.output.renderOutput(dataTable, element);\n",
              "        const docLink = document.createElement('div');\n",
              "        docLink.innerHTML = docLinkHtml;\n",
              "        element.appendChild(docLink);\n",
              "      }\n",
              "    </script>\n",
              "  </div>\n",
              "\n",
              "\n",
              "<div id=\"df-c355559f-8cdc-4d51-8ba4-5d643c73deec\">\n",
              "  <button class=\"colab-df-quickchart\" onclick=\"quickchart('df-c355559f-8cdc-4d51-8ba4-5d643c73deec')\"\n",
              "            title=\"Suggest charts\"\n",
              "            style=\"display:none;\">\n",
              "\n",
              "<svg xmlns=\"http://www.w3.org/2000/svg\" height=\"24px\"viewBox=\"0 0 24 24\"\n",
              "     width=\"24px\">\n",
              "    <g>\n",
              "        <path d=\"M19 3H5c-1.1 0-2 .9-2 2v14c0 1.1.9 2 2 2h14c1.1 0 2-.9 2-2V5c0-1.1-.9-2-2-2zM9 17H7v-7h2v7zm4 0h-2V7h2v10zm4 0h-2v-4h2v4z\"/>\n",
              "    </g>\n",
              "</svg>\n",
              "  </button>\n",
              "\n",
              "<style>\n",
              "  .colab-df-quickchart {\n",
              "      --bg-color: #E8F0FE;\n",
              "      --fill-color: #1967D2;\n",
              "      --hover-bg-color: #E2EBFA;\n",
              "      --hover-fill-color: #174EA6;\n",
              "      --disabled-fill-color: #AAA;\n",
              "      --disabled-bg-color: #DDD;\n",
              "  }\n",
              "\n",
              "  [theme=dark] .colab-df-quickchart {\n",
              "      --bg-color: #3B4455;\n",
              "      --fill-color: #D2E3FC;\n",
              "      --hover-bg-color: #434B5C;\n",
              "      --hover-fill-color: #FFFFFF;\n",
              "      --disabled-bg-color: #3B4455;\n",
              "      --disabled-fill-color: #666;\n",
              "  }\n",
              "\n",
              "  .colab-df-quickchart {\n",
              "    background-color: var(--bg-color);\n",
              "    border: none;\n",
              "    border-radius: 50%;\n",
              "    cursor: pointer;\n",
              "    display: none;\n",
              "    fill: var(--fill-color);\n",
              "    height: 32px;\n",
              "    padding: 0;\n",
              "    width: 32px;\n",
              "  }\n",
              "\n",
              "  .colab-df-quickchart:hover {\n",
              "    background-color: var(--hover-bg-color);\n",
              "    box-shadow: 0 1px 2px rgba(60, 64, 67, 0.3), 0 1px 3px 1px rgba(60, 64, 67, 0.15);\n",
              "    fill: var(--button-hover-fill-color);\n",
              "  }\n",
              "\n",
              "  .colab-df-quickchart-complete:disabled,\n",
              "  .colab-df-quickchart-complete:disabled:hover {\n",
              "    background-color: var(--disabled-bg-color);\n",
              "    fill: var(--disabled-fill-color);\n",
              "    box-shadow: none;\n",
              "  }\n",
              "\n",
              "  .colab-df-spinner {\n",
              "    border: 2px solid var(--fill-color);\n",
              "    border-color: transparent;\n",
              "    border-bottom-color: var(--fill-color);\n",
              "    animation:\n",
              "      spin 1s steps(1) infinite;\n",
              "  }\n",
              "\n",
              "  @keyframes spin {\n",
              "    0% {\n",
              "      border-color: transparent;\n",
              "      border-bottom-color: var(--fill-color);\n",
              "      border-left-color: var(--fill-color);\n",
              "    }\n",
              "    20% {\n",
              "      border-color: transparent;\n",
              "      border-left-color: var(--fill-color);\n",
              "      border-top-color: var(--fill-color);\n",
              "    }\n",
              "    30% {\n",
              "      border-color: transparent;\n",
              "      border-left-color: var(--fill-color);\n",
              "      border-top-color: var(--fill-color);\n",
              "      border-right-color: var(--fill-color);\n",
              "    }\n",
              "    40% {\n",
              "      border-color: transparent;\n",
              "      border-right-color: var(--fill-color);\n",
              "      border-top-color: var(--fill-color);\n",
              "    }\n",
              "    60% {\n",
              "      border-color: transparent;\n",
              "      border-right-color: var(--fill-color);\n",
              "    }\n",
              "    80% {\n",
              "      border-color: transparent;\n",
              "      border-right-color: var(--fill-color);\n",
              "      border-bottom-color: var(--fill-color);\n",
              "    }\n",
              "    90% {\n",
              "      border-color: transparent;\n",
              "      border-bottom-color: var(--fill-color);\n",
              "    }\n",
              "  }\n",
              "</style>\n",
              "\n",
              "  <script>\n",
              "    async function quickchart(key) {\n",
              "      const quickchartButtonEl =\n",
              "        document.querySelector('#' + key + ' button');\n",
              "      quickchartButtonEl.disabled = true;  // To prevent multiple clicks.\n",
              "      quickchartButtonEl.classList.add('colab-df-spinner');\n",
              "      try {\n",
              "        const charts = await google.colab.kernel.invokeFunction(\n",
              "            'suggestCharts', [key], {});\n",
              "      } catch (error) {\n",
              "        console.error('Error during call to suggestCharts:', error);\n",
              "      }\n",
              "      quickchartButtonEl.classList.remove('colab-df-spinner');\n",
              "      quickchartButtonEl.classList.add('colab-df-quickchart-complete');\n",
              "    }\n",
              "    (() => {\n",
              "      let quickchartButtonEl =\n",
              "        document.querySelector('#df-c355559f-8cdc-4d51-8ba4-5d643c73deec button');\n",
              "      quickchartButtonEl.style.display =\n",
              "        google.colab.kernel.accessAllowed ? 'block' : 'none';\n",
              "    })();\n",
              "  </script>\n",
              "</div>\n",
              "\n",
              "    </div>\n",
              "  </div>\n"
            ],
            "application/vnd.google.colaboratory.intrinsic+json": {
              "type": "dataframe",
              "variable_name": "df",
              "summary": "{\n  \"name\": \"df\",\n  \"rows\": 3233,\n  \"fields\": [\n    {\n      \"column\": \"Course Name\",\n      \"properties\": {\n        \"dtype\": \"string\",\n        \"num_unique_values\": 3128,\n        \"samples\": [\n          \"Mastering Statics\",\n          \"Applications of Everyday Leadership\",\n          \"Introduction to Programming with MATLAB\"\n        ],\n        \"semantic_type\": \"\",\n        \"description\": \"\"\n      }\n    },\n    {\n      \"column\": \"Difficulty Level\",\n      \"properties\": {\n        \"dtype\": \"category\",\n        \"num_unique_values\": 5,\n        \"samples\": [\n          \"Advanced\",\n          \"Conversant\",\n          \"Intermediate\"\n        ],\n        \"semantic_type\": \"\",\n        \"description\": \"\"\n      }\n    },\n    {\n      \"column\": \"Course Rating\",\n      \"properties\": {\n        \"dtype\": \"number\",\n        \"std\": 0.20054340185001807,\n        \"min\": 4.1,\n        \"max\": 5.0,\n        \"num_unique_values\": 10,\n        \"samples\": [\n          4.2,\n          4.1,\n          4.3\n        ],\n        \"semantic_type\": \"\",\n        \"description\": \"\"\n      }\n    },\n    {\n      \"column\": \"Course Description\",\n      \"properties\": {\n        \"dtype\": \"string\",\n        \"num_unique_values\": 3116,\n        \"samples\": [\n          \"In this 1-hour long project-based course, you will learn how to do Computer Vision on images and videos with OpenCV and Python using Jupyter Notebook. You will understand how Neural Transfer Style works and you'll use it on images and on videos. Finally, you'll learn how to use the Green Screen Effect on your images.  This course runs on Coursera's hands-on project platform called Rhyme. On Rhyme, you do projects in a hands-on manner in your browser. You will get instant access to pre-configured cloud desktops containing all of the software and data you need for the project. Everything is already set up directly in your Internet browser so you can just focus on learning. For this project, you\\ufffdll get instant access to a cloud desktop with Python, Jupyter, and OpenCV pre-installed.  Prerequisites: In order to be successful in this project, you should have an intermediate knowledge of Python and OpenCV.   Notes: -  You will be able to access the cloud desktop 5 times. However, you will be able to access instructions videos as many times as you want. - This course works best for learners who are based in the North America region. We\\ufffdre currently working on providing the same experience in other regions.\",\n          \"Welcome to Core Interaction Programming, the first course in the Unity Certified Programmer Specialization from Unity Technologies.  This course will help you prepare for the Unity Certified Programmer exam, the professional certification for entry to mid-level Unity programmers. Unity is used to create real-time 3D applications for many industries, including video games, automotive, film, training, and more. In this course, you will be challenged to solve realistic Unity programming problems that are aligned to topics covered on the exam.   Throughout the first course, you will build the foundation for a 2D action video game: AsteraX. In doing so, you will practice many of the skills covered in the exam, including evaluating scripting needs from a project requirements document, implementing the three \\\"C's\\\" of an interactive applications (Character, Controls, Camera), providing user feedback through basic UI elements, and applying professional programming practices like developer testing.  This is an intermediate course, intended for people who are ready for their first paying roles as Unity programmers, or enthusiasts who would like to verify their skills against a professional standard. To succeed, you should have at least 1-2 years of experience programming interactive applications in Unity. You should be proficient at programming in the C# language and familiar with Unity's scripting APIs. You should have experience in the full product development lifecycle, from concept to launch (and beyond). And you should understand multi-platform development, including deploying applications to XR (AR and VR) platforms.\",\n          \"In this course, you will learn about the history of LGBTQ+ issues in education and develop strategies for building more inclusive learning environments for students, teachers, and community members. This course will provide you with insights and equip you with strategies for exploring inclusion for lesbian, gay, bisexual, transgender, and queer or questioning learners in your specific professional context. Throughout the videos, reading assignments, and additional resources we\\ufffdve provided, you\\ufffdll be exposed to a range of concepts and techniques for enhancing LGBTQ+ inclusion. You\\ufffdll be challenged to integrate those concepts and techniques in your practice as an educator. We\\ufffdve created this course for anybody who\\ufffds interested in learning more about LGBTQ+ identities and experiences. We specifically designed it for educators who want to explore issues related to LGBTQ+ inclusion in their classrooms. Whether you\\ufffdre brand new to this topic or you\\ufffdve been thinking and talking about LGBTQ+ issues for most of your life, we hope you\\ufffdll learn and grow as you work through this class.\"\n        ],\n        \"semantic_type\": \"\",\n        \"description\": \"\"\n      }\n    },\n    {\n      \"column\": \"Skills\",\n      \"properties\": {\n        \"dtype\": \"string\",\n        \"num_unique_values\": 3136,\n        \"samples\": [\n          \"history  Planning  crisis management  Communication  leadership  teaching method  coaching  Leadership and Management  crisis  crisis communication business leadership-and-management\",\n          \"Entrepreneurship  evaluation  Operations Management  Process Mapping  competitiveness  process  Business Operations  online learning  customer service training  Revenue Operations business entrepreneurship\",\n          \"Marketing  brand  Leadership and Management  brand equity  brand marketing  Culture  employment  Brand Management  Brand Identity  stock business entrepreneurship\"\n        ],\n        \"semantic_type\": \"\",\n        \"description\": \"\"\n      }\n    }\n  ]\n}"
            }
          },
          "metadata": {},
          "execution_count": 14
        }
      ]
    },
    {
      "cell_type": "markdown",
      "source": [
        "**Tags Column**"
      ],
      "metadata": {
        "id": "KVDkiuT3aLNW"
      }
    },
    {
      "cell_type": "code",
      "source": [
        "#Tags column\n",
        "df['tags'] = df['Course Name'] + df['Difficulty Level'] + df['Course Description'] + df['Skills']"
      ],
      "metadata": {
        "id": "eTHqrIe1WKc9"
      },
      "execution_count": 15,
      "outputs": []
    },
    {
      "cell_type": "code",
      "source": [
        "df.head(5)"
      ],
      "metadata": {
        "colab": {
          "base_uri": "https://localhost:8080/",
          "height": 380
        },
        "id": "u_i9KyruWgUt",
        "outputId": "c60a56f7-319a-4d0e-f86c-bd495b13f946"
      },
      "execution_count": 16,
      "outputs": [
        {
          "output_type": "execute_result",
          "data": {
            "text/plain": [
              "                                         Course Name Difficulty Level  \\\n",
              "0  Write A Feature Length Screenplay For Film Or ...         Beginner   \n",
              "1  Business Strategy: Business Model Canvas Analy...         Beginner   \n",
              "2                      Silicon Thin Film Solar Cells         Advanced   \n",
              "3                               Finance for Managers     Intermediate   \n",
              "4       Retrieve Data using Single-Table SQL Queries         Beginner   \n",
              "\n",
              "   Course Rating                                 Course Description  \\\n",
              "0            4.8  Write a Full Length Feature Film Script  In th...   \n",
              "1            4.8  By the end of this guided project, you will be...   \n",
              "2            4.1  This course consists of a general presentation...   \n",
              "3            4.8  When it comes to numbers, there is always more...   \n",
              "4            4.6  In this course you�ll learn how to effectively...   \n",
              "\n",
              "                                              Skills  \\\n",
              "0  Drama  Comedy  peering  screenwriting  film  D...   \n",
              "1  Finance  business plan  persona (user experien...   \n",
              "2  chemistry  physics  Solar Energy  film  lambda...   \n",
              "3  accounts receivable  dupont analysis  analysis...   \n",
              "4  Data Analysis  select (sql)  database manageme...   \n",
              "\n",
              "                                                tags  \n",
              "0  Write A Feature Length Screenplay For Film Or ...  \n",
              "1  Business Strategy: Business Model Canvas Analy...  \n",
              "2  Silicon Thin Film Solar CellsAdvancedThis cour...  \n",
              "3  Finance for ManagersIntermediateWhen it comes ...  \n",
              "4  Retrieve Data using Single-Table SQL QueriesBe...  "
            ],
            "text/html": [
              "\n",
              "  <div id=\"df-1d98c3c7-f247-40cd-9bf6-32ffdccb6f32\" class=\"colab-df-container\">\n",
              "    <div>\n",
              "<style scoped>\n",
              "    .dataframe tbody tr th:only-of-type {\n",
              "        vertical-align: middle;\n",
              "    }\n",
              "\n",
              "    .dataframe tbody tr th {\n",
              "        vertical-align: top;\n",
              "    }\n",
              "\n",
              "    .dataframe thead th {\n",
              "        text-align: right;\n",
              "    }\n",
              "</style>\n",
              "<table border=\"1\" class=\"dataframe\">\n",
              "  <thead>\n",
              "    <tr style=\"text-align: right;\">\n",
              "      <th></th>\n",
              "      <th>Course Name</th>\n",
              "      <th>Difficulty Level</th>\n",
              "      <th>Course Rating</th>\n",
              "      <th>Course Description</th>\n",
              "      <th>Skills</th>\n",
              "      <th>tags</th>\n",
              "    </tr>\n",
              "  </thead>\n",
              "  <tbody>\n",
              "    <tr>\n",
              "      <th>0</th>\n",
              "      <td>Write A Feature Length Screenplay For Film Or ...</td>\n",
              "      <td>Beginner</td>\n",
              "      <td>4.8</td>\n",
              "      <td>Write a Full Length Feature Film Script  In th...</td>\n",
              "      <td>Drama  Comedy  peering  screenwriting  film  D...</td>\n",
              "      <td>Write A Feature Length Screenplay For Film Or ...</td>\n",
              "    </tr>\n",
              "    <tr>\n",
              "      <th>1</th>\n",
              "      <td>Business Strategy: Business Model Canvas Analy...</td>\n",
              "      <td>Beginner</td>\n",
              "      <td>4.8</td>\n",
              "      <td>By the end of this guided project, you will be...</td>\n",
              "      <td>Finance  business plan  persona (user experien...</td>\n",
              "      <td>Business Strategy: Business Model Canvas Analy...</td>\n",
              "    </tr>\n",
              "    <tr>\n",
              "      <th>2</th>\n",
              "      <td>Silicon Thin Film Solar Cells</td>\n",
              "      <td>Advanced</td>\n",
              "      <td>4.1</td>\n",
              "      <td>This course consists of a general presentation...</td>\n",
              "      <td>chemistry  physics  Solar Energy  film  lambda...</td>\n",
              "      <td>Silicon Thin Film Solar CellsAdvancedThis cour...</td>\n",
              "    </tr>\n",
              "    <tr>\n",
              "      <th>3</th>\n",
              "      <td>Finance for Managers</td>\n",
              "      <td>Intermediate</td>\n",
              "      <td>4.8</td>\n",
              "      <td>When it comes to numbers, there is always more...</td>\n",
              "      <td>accounts receivable  dupont analysis  analysis...</td>\n",
              "      <td>Finance for ManagersIntermediateWhen it comes ...</td>\n",
              "    </tr>\n",
              "    <tr>\n",
              "      <th>4</th>\n",
              "      <td>Retrieve Data using Single-Table SQL Queries</td>\n",
              "      <td>Beginner</td>\n",
              "      <td>4.6</td>\n",
              "      <td>In this course you�ll learn how to effectively...</td>\n",
              "      <td>Data Analysis  select (sql)  database manageme...</td>\n",
              "      <td>Retrieve Data using Single-Table SQL QueriesBe...</td>\n",
              "    </tr>\n",
              "  </tbody>\n",
              "</table>\n",
              "</div>\n",
              "    <div class=\"colab-df-buttons\">\n",
              "\n",
              "  <div class=\"colab-df-container\">\n",
              "    <button class=\"colab-df-convert\" onclick=\"convertToInteractive('df-1d98c3c7-f247-40cd-9bf6-32ffdccb6f32')\"\n",
              "            title=\"Convert this dataframe to an interactive table.\"\n",
              "            style=\"display:none;\">\n",
              "\n",
              "  <svg xmlns=\"http://www.w3.org/2000/svg\" height=\"24px\" viewBox=\"0 -960 960 960\">\n",
              "    <path d=\"M120-120v-720h720v720H120Zm60-500h600v-160H180v160Zm220 220h160v-160H400v160Zm0 220h160v-160H400v160ZM180-400h160v-160H180v160Zm440 0h160v-160H620v160ZM180-180h160v-160H180v160Zm440 0h160v-160H620v160Z\"/>\n",
              "  </svg>\n",
              "    </button>\n",
              "\n",
              "  <style>\n",
              "    .colab-df-container {\n",
              "      display:flex;\n",
              "      gap: 12px;\n",
              "    }\n",
              "\n",
              "    .colab-df-convert {\n",
              "      background-color: #E8F0FE;\n",
              "      border: none;\n",
              "      border-radius: 50%;\n",
              "      cursor: pointer;\n",
              "      display: none;\n",
              "      fill: #1967D2;\n",
              "      height: 32px;\n",
              "      padding: 0 0 0 0;\n",
              "      width: 32px;\n",
              "    }\n",
              "\n",
              "    .colab-df-convert:hover {\n",
              "      background-color: #E2EBFA;\n",
              "      box-shadow: 0px 1px 2px rgba(60, 64, 67, 0.3), 0px 1px 3px 1px rgba(60, 64, 67, 0.15);\n",
              "      fill: #174EA6;\n",
              "    }\n",
              "\n",
              "    .colab-df-buttons div {\n",
              "      margin-bottom: 4px;\n",
              "    }\n",
              "\n",
              "    [theme=dark] .colab-df-convert {\n",
              "      background-color: #3B4455;\n",
              "      fill: #D2E3FC;\n",
              "    }\n",
              "\n",
              "    [theme=dark] .colab-df-convert:hover {\n",
              "      background-color: #434B5C;\n",
              "      box-shadow: 0px 1px 3px 1px rgba(0, 0, 0, 0.15);\n",
              "      filter: drop-shadow(0px 1px 2px rgba(0, 0, 0, 0.3));\n",
              "      fill: #FFFFFF;\n",
              "    }\n",
              "  </style>\n",
              "\n",
              "    <script>\n",
              "      const buttonEl =\n",
              "        document.querySelector('#df-1d98c3c7-f247-40cd-9bf6-32ffdccb6f32 button.colab-df-convert');\n",
              "      buttonEl.style.display =\n",
              "        google.colab.kernel.accessAllowed ? 'block' : 'none';\n",
              "\n",
              "      async function convertToInteractive(key) {\n",
              "        const element = document.querySelector('#df-1d98c3c7-f247-40cd-9bf6-32ffdccb6f32');\n",
              "        const dataTable =\n",
              "          await google.colab.kernel.invokeFunction('convertToInteractive',\n",
              "                                                    [key], {});\n",
              "        if (!dataTable) return;\n",
              "\n",
              "        const docLinkHtml = 'Like what you see? Visit the ' +\n",
              "          '<a target=\"_blank\" href=https://colab.research.google.com/notebooks/data_table.ipynb>data table notebook</a>'\n",
              "          + ' to learn more about interactive tables.';\n",
              "        element.innerHTML = '';\n",
              "        dataTable['output_type'] = 'display_data';\n",
              "        await google.colab.output.renderOutput(dataTable, element);\n",
              "        const docLink = document.createElement('div');\n",
              "        docLink.innerHTML = docLinkHtml;\n",
              "        element.appendChild(docLink);\n",
              "      }\n",
              "    </script>\n",
              "  </div>\n",
              "\n",
              "\n",
              "<div id=\"df-305bcdbb-7511-41cd-b58d-4c1c4e38d7a5\">\n",
              "  <button class=\"colab-df-quickchart\" onclick=\"quickchart('df-305bcdbb-7511-41cd-b58d-4c1c4e38d7a5')\"\n",
              "            title=\"Suggest charts\"\n",
              "            style=\"display:none;\">\n",
              "\n",
              "<svg xmlns=\"http://www.w3.org/2000/svg\" height=\"24px\"viewBox=\"0 0 24 24\"\n",
              "     width=\"24px\">\n",
              "    <g>\n",
              "        <path d=\"M19 3H5c-1.1 0-2 .9-2 2v14c0 1.1.9 2 2 2h14c1.1 0 2-.9 2-2V5c0-1.1-.9-2-2-2zM9 17H7v-7h2v7zm4 0h-2V7h2v10zm4 0h-2v-4h2v4z\"/>\n",
              "    </g>\n",
              "</svg>\n",
              "  </button>\n",
              "\n",
              "<style>\n",
              "  .colab-df-quickchart {\n",
              "      --bg-color: #E8F0FE;\n",
              "      --fill-color: #1967D2;\n",
              "      --hover-bg-color: #E2EBFA;\n",
              "      --hover-fill-color: #174EA6;\n",
              "      --disabled-fill-color: #AAA;\n",
              "      --disabled-bg-color: #DDD;\n",
              "  }\n",
              "\n",
              "  [theme=dark] .colab-df-quickchart {\n",
              "      --bg-color: #3B4455;\n",
              "      --fill-color: #D2E3FC;\n",
              "      --hover-bg-color: #434B5C;\n",
              "      --hover-fill-color: #FFFFFF;\n",
              "      --disabled-bg-color: #3B4455;\n",
              "      --disabled-fill-color: #666;\n",
              "  }\n",
              "\n",
              "  .colab-df-quickchart {\n",
              "    background-color: var(--bg-color);\n",
              "    border: none;\n",
              "    border-radius: 50%;\n",
              "    cursor: pointer;\n",
              "    display: none;\n",
              "    fill: var(--fill-color);\n",
              "    height: 32px;\n",
              "    padding: 0;\n",
              "    width: 32px;\n",
              "  }\n",
              "\n",
              "  .colab-df-quickchart:hover {\n",
              "    background-color: var(--hover-bg-color);\n",
              "    box-shadow: 0 1px 2px rgba(60, 64, 67, 0.3), 0 1px 3px 1px rgba(60, 64, 67, 0.15);\n",
              "    fill: var(--button-hover-fill-color);\n",
              "  }\n",
              "\n",
              "  .colab-df-quickchart-complete:disabled,\n",
              "  .colab-df-quickchart-complete:disabled:hover {\n",
              "    background-color: var(--disabled-bg-color);\n",
              "    fill: var(--disabled-fill-color);\n",
              "    box-shadow: none;\n",
              "  }\n",
              "\n",
              "  .colab-df-spinner {\n",
              "    border: 2px solid var(--fill-color);\n",
              "    border-color: transparent;\n",
              "    border-bottom-color: var(--fill-color);\n",
              "    animation:\n",
              "      spin 1s steps(1) infinite;\n",
              "  }\n",
              "\n",
              "  @keyframes spin {\n",
              "    0% {\n",
              "      border-color: transparent;\n",
              "      border-bottom-color: var(--fill-color);\n",
              "      border-left-color: var(--fill-color);\n",
              "    }\n",
              "    20% {\n",
              "      border-color: transparent;\n",
              "      border-left-color: var(--fill-color);\n",
              "      border-top-color: var(--fill-color);\n",
              "    }\n",
              "    30% {\n",
              "      border-color: transparent;\n",
              "      border-left-color: var(--fill-color);\n",
              "      border-top-color: var(--fill-color);\n",
              "      border-right-color: var(--fill-color);\n",
              "    }\n",
              "    40% {\n",
              "      border-color: transparent;\n",
              "      border-right-color: var(--fill-color);\n",
              "      border-top-color: var(--fill-color);\n",
              "    }\n",
              "    60% {\n",
              "      border-color: transparent;\n",
              "      border-right-color: var(--fill-color);\n",
              "    }\n",
              "    80% {\n",
              "      border-color: transparent;\n",
              "      border-right-color: var(--fill-color);\n",
              "      border-bottom-color: var(--fill-color);\n",
              "    }\n",
              "    90% {\n",
              "      border-color: transparent;\n",
              "      border-bottom-color: var(--fill-color);\n",
              "    }\n",
              "  }\n",
              "</style>\n",
              "\n",
              "  <script>\n",
              "    async function quickchart(key) {\n",
              "      const quickchartButtonEl =\n",
              "        document.querySelector('#' + key + ' button');\n",
              "      quickchartButtonEl.disabled = true;  // To prevent multiple clicks.\n",
              "      quickchartButtonEl.classList.add('colab-df-spinner');\n",
              "      try {\n",
              "        const charts = await google.colab.kernel.invokeFunction(\n",
              "            'suggestCharts', [key], {});\n",
              "      } catch (error) {\n",
              "        console.error('Error during call to suggestCharts:', error);\n",
              "      }\n",
              "      quickchartButtonEl.classList.remove('colab-df-spinner');\n",
              "      quickchartButtonEl.classList.add('colab-df-quickchart-complete');\n",
              "    }\n",
              "    (() => {\n",
              "      let quickchartButtonEl =\n",
              "        document.querySelector('#df-305bcdbb-7511-41cd-b58d-4c1c4e38d7a5 button');\n",
              "      quickchartButtonEl.style.display =\n",
              "        google.colab.kernel.accessAllowed ? 'block' : 'none';\n",
              "    })();\n",
              "  </script>\n",
              "</div>\n",
              "\n",
              "    </div>\n",
              "  </div>\n"
            ],
            "application/vnd.google.colaboratory.intrinsic+json": {
              "type": "dataframe",
              "variable_name": "df",
              "summary": "{\n  \"name\": \"df\",\n  \"rows\": 3233,\n  \"fields\": [\n    {\n      \"column\": \"Course Name\",\n      \"properties\": {\n        \"dtype\": \"string\",\n        \"num_unique_values\": 3128,\n        \"samples\": [\n          \"Mastering Statics\",\n          \"Applications of Everyday Leadership\",\n          \"Introduction to Programming with MATLAB\"\n        ],\n        \"semantic_type\": \"\",\n        \"description\": \"\"\n      }\n    },\n    {\n      \"column\": \"Difficulty Level\",\n      \"properties\": {\n        \"dtype\": \"category\",\n        \"num_unique_values\": 5,\n        \"samples\": [\n          \"Advanced\",\n          \"Conversant\",\n          \"Intermediate\"\n        ],\n        \"semantic_type\": \"\",\n        \"description\": \"\"\n      }\n    },\n    {\n      \"column\": \"Course Rating\",\n      \"properties\": {\n        \"dtype\": \"number\",\n        \"std\": 0.20054340185001807,\n        \"min\": 4.1,\n        \"max\": 5.0,\n        \"num_unique_values\": 10,\n        \"samples\": [\n          4.2,\n          4.1,\n          4.3\n        ],\n        \"semantic_type\": \"\",\n        \"description\": \"\"\n      }\n    },\n    {\n      \"column\": \"Course Description\",\n      \"properties\": {\n        \"dtype\": \"string\",\n        \"num_unique_values\": 3116,\n        \"samples\": [\n          \"In this 1-hour long project-based course, you will learn how to do Computer Vision on images and videos with OpenCV and Python using Jupyter Notebook. You will understand how Neural Transfer Style works and you'll use it on images and on videos. Finally, you'll learn how to use the Green Screen Effect on your images.  This course runs on Coursera's hands-on project platform called Rhyme. On Rhyme, you do projects in a hands-on manner in your browser. You will get instant access to pre-configured cloud desktops containing all of the software and data you need for the project. Everything is already set up directly in your Internet browser so you can just focus on learning. For this project, you\\ufffdll get instant access to a cloud desktop with Python, Jupyter, and OpenCV pre-installed.  Prerequisites: In order to be successful in this project, you should have an intermediate knowledge of Python and OpenCV.   Notes: -  You will be able to access the cloud desktop 5 times. However, you will be able to access instructions videos as many times as you want. - This course works best for learners who are based in the North America region. We\\ufffdre currently working on providing the same experience in other regions.\",\n          \"Welcome to Core Interaction Programming, the first course in the Unity Certified Programmer Specialization from Unity Technologies.  This course will help you prepare for the Unity Certified Programmer exam, the professional certification for entry to mid-level Unity programmers. Unity is used to create real-time 3D applications for many industries, including video games, automotive, film, training, and more. In this course, you will be challenged to solve realistic Unity programming problems that are aligned to topics covered on the exam.   Throughout the first course, you will build the foundation for a 2D action video game: AsteraX. In doing so, you will practice many of the skills covered in the exam, including evaluating scripting needs from a project requirements document, implementing the three \\\"C's\\\" of an interactive applications (Character, Controls, Camera), providing user feedback through basic UI elements, and applying professional programming practices like developer testing.  This is an intermediate course, intended for people who are ready for their first paying roles as Unity programmers, or enthusiasts who would like to verify their skills against a professional standard. To succeed, you should have at least 1-2 years of experience programming interactive applications in Unity. You should be proficient at programming in the C# language and familiar with Unity's scripting APIs. You should have experience in the full product development lifecycle, from concept to launch (and beyond). And you should understand multi-platform development, including deploying applications to XR (AR and VR) platforms.\",\n          \"In this course, you will learn about the history of LGBTQ+ issues in education and develop strategies for building more inclusive learning environments for students, teachers, and community members. This course will provide you with insights and equip you with strategies for exploring inclusion for lesbian, gay, bisexual, transgender, and queer or questioning learners in your specific professional context. Throughout the videos, reading assignments, and additional resources we\\ufffdve provided, you\\ufffdll be exposed to a range of concepts and techniques for enhancing LGBTQ+ inclusion. You\\ufffdll be challenged to integrate those concepts and techniques in your practice as an educator. We\\ufffdve created this course for anybody who\\ufffds interested in learning more about LGBTQ+ identities and experiences. We specifically designed it for educators who want to explore issues related to LGBTQ+ inclusion in their classrooms. Whether you\\ufffdre brand new to this topic or you\\ufffdve been thinking and talking about LGBTQ+ issues for most of your life, we hope you\\ufffdll learn and grow as you work through this class.\"\n        ],\n        \"semantic_type\": \"\",\n        \"description\": \"\"\n      }\n    },\n    {\n      \"column\": \"Skills\",\n      \"properties\": {\n        \"dtype\": \"string\",\n        \"num_unique_values\": 3136,\n        \"samples\": [\n          \"history  Planning  crisis management  Communication  leadership  teaching method  coaching  Leadership and Management  crisis  crisis communication business leadership-and-management\",\n          \"Entrepreneurship  evaluation  Operations Management  Process Mapping  competitiveness  process  Business Operations  online learning  customer service training  Revenue Operations business entrepreneurship\",\n          \"Marketing  brand  Leadership and Management  brand equity  brand marketing  Culture  employment  Brand Management  Brand Identity  stock business entrepreneurship\"\n        ],\n        \"semantic_type\": \"\",\n        \"description\": \"\"\n      }\n    },\n    {\n      \"column\": \"tags\",\n      \"properties\": {\n        \"dtype\": \"string\",\n        \"num_unique_values\": 3136,\n        \"samples\": [\n          \"High Stakes Leadership: Leading in Times of CrisisBeginnerThis course has been designed to help leaders, like you, learn how to effectively navigate the challenges of significant organizational disruptions. As a participant in this course, you\\ufffdll discover why an understanding of various stakeholder perspectives can inform and dramatically improve a leader\\ufffds response to events that threaten an organization\\ufffds very survival. This course is also about understanding and developing individual and organizational resilience\\ufffdthe ability to anticipate potential threats; to cope effectively with adverse events when they occur; and to adapt to changing conditions, ensuring a viable path forward for yourself, your team, and your organization. These topics are particularly relevant in the wake of the global COVID-19 pandemic. Many course examples will reference lessons leaders around the world have learned during this far-reaching healthcare crisis.  During the eight course modules, which are distributed over four weeks, participants will explore topics such as: Why the VUCA world is making crises more common; Characteristics of resilient organizations and ways to increase resilience; Stakeholder value propositions and how these are threatened during a crisis; Organizing frameworks for estimating the types of crises an organization might encounter; the Unique and challenging nature of the crisis environment; the Fundamentals of crisis leadership; and Building a plan to prepare yourself, your team, and your organization for your next major crisis\\ufffdwhich, in today\\ufffds world, is not so much an \\ufffdif\\ufffd, as a \\ufffdwhen\\ufffd.  Professor Mike Barger, your faculty member for this course, has served as a TOPGUN instructor in the United States Navy and as a founder and executive at JetBlue Airways. His professional experience has helped him learn a great deal about crisis leadership and to gain a true sense of what it means to be resilient. Throughout the course, Professor Barger will draw upon many practical examples that will make the content of this course easy to appreciate, understand, and translate into practical lessons that you will be able to apply immediately at your organization.   Crisis leadership is a topic that\\ufffds exciting, daunting, and almost impossible to master. With some time and effort over the four weeks of the course, however, you can develop an exceptional set of crisis-leadership tools that will serve you well throughout your professional career.history  Planning  crisis management  Communication  leadership  teaching method  coaching  Leadership and Management  crisis  crisis communication business leadership-and-management\",\n          \"Fundamentals of Operations, with Goldman Sachs 10,000 WomenBeginnerThis course is one of 10 courses available in the Goldman Sachs 10,000 Women collection, designed for entrepreneurs ready to take their business to the next level.  In this course, you will identify and refine your business operations and processes. You will explore how these can be developed, both to maximise customer satisfaction and support business growth.   In the exercises, you will examine the purpose of process mapping and use this to evaluate your current business processes as your business grows. You will consider how to refine your processes to deliver operational efficiency and a competitive advantage for your business, while also increasing value for customers.  By the end of the course, you will have mapped and evaluated key processes within your business, identified areas of strength, and selected appropriate measures for improvement as your business grows.  The 10,000 Women course collection offers a truly flexible online learning experience. You have the freedom to approach the program in any way that works for you \\ufffd take any course, or combination of courses, to tailor your learning journey to your individual business growth needs. If you choose to take all 10 courses, you will explore all the key elements of your business and develop a thorough plan for your business\\ufffds growth.   Find out more about the Goldman Sachs 10,000 Women collection in the FAQs.Entrepreneurship  evaluation  Operations Management  Process Mapping  competitiveness  process  Business Operations  online learning  customer service training  Revenue Operations business entrepreneurship\",\n          \"Brand Management: Aligning Business, Brand and BehaviourIntermediateProfessor Nader Tavassoli of London Business School contrasts traditional approaches to branding - where brands are a visual identity and a promise to customers - to brands as a customer experience delivered by the entire organisation. The course offers a brand workout for your own brands, as well as guest videos from leading branding professionals.   The aim of the course is to change the conception of brands as being an organisation's visual identity (e.g., logo) and image (customers' brand associations) to an experience along \\\"moments-that-matter\\\" along the customer journey and, therefore, delivered by people across the entire organisation. Brands are thus not only an external promise to customers, but a means of executing business strategy via internal brand-led behaviour and culture change.  You will learn and practice the following skills:  1.\\\\tHow to build brands from a broad organisational perspective  2.\\\\tHow to lead brand-led culture change with human resource practices at the core (i.e., brand as a lever and not just an outcome)  3.\\\\tHow to build brands in multi-brand companies, across cultures and geographies 4.\\\\tHow to measure brand health in new ways, that is, internally in addition to externally 5.\\\\tHow to value and capture returns to brands across the organisation - introducing the new concept of employee-based brand equity - and how this is different from the valuation of brands as intangible assets.   This course allows you to develop the following aspects of yourself:  1.\\\\tHead. Gain a deeper understanding of the evolving practice of brand management, one that goes further than practiced in most organisations today 2.\\\\tHeart. Be motivated to engage in delivering your own brands \\ufffd regardless of where you are in your organisation \\ufffd thereby creating superior value for customers and for your organisation 3.\\\\tHands. Translate learnings into action. As Confucius is supposed to have said: \\ufffdI hear and I forget. I see and I remember. I do and I understand.\\ufffdMarketing  brand  Leadership and Management  brand equity  brand marketing  Culture  employment  Brand Management  Brand Identity  stock business entrepreneurship\"\n        ],\n        \"semantic_type\": \"\",\n        \"description\": \"\"\n      }\n    }\n  ]\n}"
            }
          },
          "metadata": {},
          "execution_count": 16
        }
      ]
    },
    {
      "cell_type": "code",
      "source": [
        "# Convert 'tags' columns to lowercase\n",
        "df['tags'] = df['tags'].str.lower()\n"
      ],
      "metadata": {
        "id": "qOhhoJXXWx2U"
      },
      "execution_count": 17,
      "outputs": []
    },
    {
      "cell_type": "code",
      "source": [
        "# Removing Punctuations\n",
        "def remove_punctuation(text):\n",
        "    punctuation_chars = \"!\\\"#$%&'()*+,-./:;<=>?@[\\\\]^_`{|}~\"\n",
        "    return ''.join(char for char in text if char not in punctuation_chars)\n",
        "\n",
        "\n",
        "df['tags'] = df['tags'].apply(remove_punctuation)\n",
        "\n",
        "\n"
      ],
      "metadata": {
        "id": "DnM6GOy7Urni"
      },
      "execution_count": 18,
      "outputs": []
    },
    {
      "cell_type": "code",
      "source": [
        "df['tags']"
      ],
      "metadata": {
        "colab": {
          "base_uri": "https://localhost:8080/"
        },
        "id": "GwOvAJbbW7Wx",
        "outputId": "81a4e6e1-5ee8-4bc1-ce16-ef3e7ea9653e"
      },
      "execution_count": 19,
      "outputs": [
        {
          "output_type": "execute_result",
          "data": {
            "text/plain": [
              "0       write a feature length screenplay for film or ...\n",
              "1       business strategy business model canvas analys...\n",
              "2       silicon thin film solar cellsadvancedthis cour...\n",
              "3       finance for managersintermediatewhen it comes ...\n",
              "4       retrieve data using singletable sql queriesbeg...\n",
              "                              ...                        \n",
              "3517    capstone retrieving processing and visualizing...\n",
              "3518    patrick henry forgotten founderintermediate�gi...\n",
              "3519    business intelligence and data analytics gener...\n",
              "3520    rigid body dynamicsbeginnerthis course teaches...\n",
              "3521    architecting with google kubernetes engine pro...\n",
              "Name: tags, Length: 3233, dtype: object"
            ]
          },
          "metadata": {},
          "execution_count": 19
        }
      ]
    },
    {
      "cell_type": "code",
      "source": [
        "df['tags'].iloc[1]"
      ],
      "metadata": {
        "colab": {
          "base_uri": "https://localhost:8080/",
          "height": 178
        },
        "id": "4dGuqU2Qieyg",
        "outputId": "6f10087f-f3d6-4c67-afde-bbdc91523c17"
      },
      "execution_count": 20,
      "outputs": [
        {
          "output_type": "execute_result",
          "data": {
            "text/plain": [
              "'business strategy business model canvas analysis with mirobeginnerby the end of this guided project you will be fluent in identifying and creating business model canvas solutions based on previous highlevel analyses and research data  this will enable you to identify and map the elements required for new products and services furthermore it is essential for generating positive results for your business venture this guided project is designed to engage and harness your visionary and exploratory abilities you will use proven models in strategy and product development with the miro platform to explore and analyse your business propositions   we will practice critically examining results from previous analysis and research results in deriving the values for each of the business model sectionsfinance  business plan  persona user experience  business model canvas  planning  business  project  product development  presentation  strategy business businessstrategy'"
            ],
            "application/vnd.google.colaboratory.intrinsic+json": {
              "type": "string"
            }
          },
          "metadata": {},
          "execution_count": 20
        }
      ]
    },
    {
      "cell_type": "markdown",
      "source": [
        "## New DataFrame for Model"
      ],
      "metadata": {
        "id": "poagpgyyXD49"
      }
    },
    {
      "cell_type": "code",
      "source": [
        "new_df = df[['Course Name','tags']]"
      ],
      "metadata": {
        "id": "Q4leGDR-W66u"
      },
      "execution_count": 21,
      "outputs": []
    },
    {
      "cell_type": "code",
      "source": [
        "new_df.head(5)\n"
      ],
      "metadata": {
        "colab": {
          "base_uri": "https://localhost:8080/",
          "height": 206
        },
        "id": "u_18W779XJ82",
        "outputId": "67939ff1-64f7-420d-e14b-b3e4abee445e"
      },
      "execution_count": 22,
      "outputs": [
        {
          "output_type": "execute_result",
          "data": {
            "text/plain": [
              "                                         Course Name  \\\n",
              "0  Write A Feature Length Screenplay For Film Or ...   \n",
              "1  Business Strategy: Business Model Canvas Analy...   \n",
              "2                      Silicon Thin Film Solar Cells   \n",
              "3                               Finance for Managers   \n",
              "4       Retrieve Data using Single-Table SQL Queries   \n",
              "\n",
              "                                                tags  \n",
              "0  write a feature length screenplay for film or ...  \n",
              "1  business strategy business model canvas analys...  \n",
              "2  silicon thin film solar cellsadvancedthis cour...  \n",
              "3  finance for managersintermediatewhen it comes ...  \n",
              "4  retrieve data using singletable sql queriesbeg...  "
            ],
            "text/html": [
              "\n",
              "  <div id=\"df-993232a2-4362-4e5e-9518-735457b499db\" class=\"colab-df-container\">\n",
              "    <div>\n",
              "<style scoped>\n",
              "    .dataframe tbody tr th:only-of-type {\n",
              "        vertical-align: middle;\n",
              "    }\n",
              "\n",
              "    .dataframe tbody tr th {\n",
              "        vertical-align: top;\n",
              "    }\n",
              "\n",
              "    .dataframe thead th {\n",
              "        text-align: right;\n",
              "    }\n",
              "</style>\n",
              "<table border=\"1\" class=\"dataframe\">\n",
              "  <thead>\n",
              "    <tr style=\"text-align: right;\">\n",
              "      <th></th>\n",
              "      <th>Course Name</th>\n",
              "      <th>tags</th>\n",
              "    </tr>\n",
              "  </thead>\n",
              "  <tbody>\n",
              "    <tr>\n",
              "      <th>0</th>\n",
              "      <td>Write A Feature Length Screenplay For Film Or ...</td>\n",
              "      <td>write a feature length screenplay for film or ...</td>\n",
              "    </tr>\n",
              "    <tr>\n",
              "      <th>1</th>\n",
              "      <td>Business Strategy: Business Model Canvas Analy...</td>\n",
              "      <td>business strategy business model canvas analys...</td>\n",
              "    </tr>\n",
              "    <tr>\n",
              "      <th>2</th>\n",
              "      <td>Silicon Thin Film Solar Cells</td>\n",
              "      <td>silicon thin film solar cellsadvancedthis cour...</td>\n",
              "    </tr>\n",
              "    <tr>\n",
              "      <th>3</th>\n",
              "      <td>Finance for Managers</td>\n",
              "      <td>finance for managersintermediatewhen it comes ...</td>\n",
              "    </tr>\n",
              "    <tr>\n",
              "      <th>4</th>\n",
              "      <td>Retrieve Data using Single-Table SQL Queries</td>\n",
              "      <td>retrieve data using singletable sql queriesbeg...</td>\n",
              "    </tr>\n",
              "  </tbody>\n",
              "</table>\n",
              "</div>\n",
              "    <div class=\"colab-df-buttons\">\n",
              "\n",
              "  <div class=\"colab-df-container\">\n",
              "    <button class=\"colab-df-convert\" onclick=\"convertToInteractive('df-993232a2-4362-4e5e-9518-735457b499db')\"\n",
              "            title=\"Convert this dataframe to an interactive table.\"\n",
              "            style=\"display:none;\">\n",
              "\n",
              "  <svg xmlns=\"http://www.w3.org/2000/svg\" height=\"24px\" viewBox=\"0 -960 960 960\">\n",
              "    <path d=\"M120-120v-720h720v720H120Zm60-500h600v-160H180v160Zm220 220h160v-160H400v160Zm0 220h160v-160H400v160ZM180-400h160v-160H180v160Zm440 0h160v-160H620v160ZM180-180h160v-160H180v160Zm440 0h160v-160H620v160Z\"/>\n",
              "  </svg>\n",
              "    </button>\n",
              "\n",
              "  <style>\n",
              "    .colab-df-container {\n",
              "      display:flex;\n",
              "      gap: 12px;\n",
              "    }\n",
              "\n",
              "    .colab-df-convert {\n",
              "      background-color: #E8F0FE;\n",
              "      border: none;\n",
              "      border-radius: 50%;\n",
              "      cursor: pointer;\n",
              "      display: none;\n",
              "      fill: #1967D2;\n",
              "      height: 32px;\n",
              "      padding: 0 0 0 0;\n",
              "      width: 32px;\n",
              "    }\n",
              "\n",
              "    .colab-df-convert:hover {\n",
              "      background-color: #E2EBFA;\n",
              "      box-shadow: 0px 1px 2px rgba(60, 64, 67, 0.3), 0px 1px 3px 1px rgba(60, 64, 67, 0.15);\n",
              "      fill: #174EA6;\n",
              "    }\n",
              "\n",
              "    .colab-df-buttons div {\n",
              "      margin-bottom: 4px;\n",
              "    }\n",
              "\n",
              "    [theme=dark] .colab-df-convert {\n",
              "      background-color: #3B4455;\n",
              "      fill: #D2E3FC;\n",
              "    }\n",
              "\n",
              "    [theme=dark] .colab-df-convert:hover {\n",
              "      background-color: #434B5C;\n",
              "      box-shadow: 0px 1px 3px 1px rgba(0, 0, 0, 0.15);\n",
              "      filter: drop-shadow(0px 1px 2px rgba(0, 0, 0, 0.3));\n",
              "      fill: #FFFFFF;\n",
              "    }\n",
              "  </style>\n",
              "\n",
              "    <script>\n",
              "      const buttonEl =\n",
              "        document.querySelector('#df-993232a2-4362-4e5e-9518-735457b499db button.colab-df-convert');\n",
              "      buttonEl.style.display =\n",
              "        google.colab.kernel.accessAllowed ? 'block' : 'none';\n",
              "\n",
              "      async function convertToInteractive(key) {\n",
              "        const element = document.querySelector('#df-993232a2-4362-4e5e-9518-735457b499db');\n",
              "        const dataTable =\n",
              "          await google.colab.kernel.invokeFunction('convertToInteractive',\n",
              "                                                    [key], {});\n",
              "        if (!dataTable) return;\n",
              "\n",
              "        const docLinkHtml = 'Like what you see? Visit the ' +\n",
              "          '<a target=\"_blank\" href=https://colab.research.google.com/notebooks/data_table.ipynb>data table notebook</a>'\n",
              "          + ' to learn more about interactive tables.';\n",
              "        element.innerHTML = '';\n",
              "        dataTable['output_type'] = 'display_data';\n",
              "        await google.colab.output.renderOutput(dataTable, element);\n",
              "        const docLink = document.createElement('div');\n",
              "        docLink.innerHTML = docLinkHtml;\n",
              "        element.appendChild(docLink);\n",
              "      }\n",
              "    </script>\n",
              "  </div>\n",
              "\n",
              "\n",
              "<div id=\"df-947ae9cb-b502-449d-9912-e460fc80edb8\">\n",
              "  <button class=\"colab-df-quickchart\" onclick=\"quickchart('df-947ae9cb-b502-449d-9912-e460fc80edb8')\"\n",
              "            title=\"Suggest charts\"\n",
              "            style=\"display:none;\">\n",
              "\n",
              "<svg xmlns=\"http://www.w3.org/2000/svg\" height=\"24px\"viewBox=\"0 0 24 24\"\n",
              "     width=\"24px\">\n",
              "    <g>\n",
              "        <path d=\"M19 3H5c-1.1 0-2 .9-2 2v14c0 1.1.9 2 2 2h14c1.1 0 2-.9 2-2V5c0-1.1-.9-2-2-2zM9 17H7v-7h2v7zm4 0h-2V7h2v10zm4 0h-2v-4h2v4z\"/>\n",
              "    </g>\n",
              "</svg>\n",
              "  </button>\n",
              "\n",
              "<style>\n",
              "  .colab-df-quickchart {\n",
              "      --bg-color: #E8F0FE;\n",
              "      --fill-color: #1967D2;\n",
              "      --hover-bg-color: #E2EBFA;\n",
              "      --hover-fill-color: #174EA6;\n",
              "      --disabled-fill-color: #AAA;\n",
              "      --disabled-bg-color: #DDD;\n",
              "  }\n",
              "\n",
              "  [theme=dark] .colab-df-quickchart {\n",
              "      --bg-color: #3B4455;\n",
              "      --fill-color: #D2E3FC;\n",
              "      --hover-bg-color: #434B5C;\n",
              "      --hover-fill-color: #FFFFFF;\n",
              "      --disabled-bg-color: #3B4455;\n",
              "      --disabled-fill-color: #666;\n",
              "  }\n",
              "\n",
              "  .colab-df-quickchart {\n",
              "    background-color: var(--bg-color);\n",
              "    border: none;\n",
              "    border-radius: 50%;\n",
              "    cursor: pointer;\n",
              "    display: none;\n",
              "    fill: var(--fill-color);\n",
              "    height: 32px;\n",
              "    padding: 0;\n",
              "    width: 32px;\n",
              "  }\n",
              "\n",
              "  .colab-df-quickchart:hover {\n",
              "    background-color: var(--hover-bg-color);\n",
              "    box-shadow: 0 1px 2px rgba(60, 64, 67, 0.3), 0 1px 3px 1px rgba(60, 64, 67, 0.15);\n",
              "    fill: var(--button-hover-fill-color);\n",
              "  }\n",
              "\n",
              "  .colab-df-quickchart-complete:disabled,\n",
              "  .colab-df-quickchart-complete:disabled:hover {\n",
              "    background-color: var(--disabled-bg-color);\n",
              "    fill: var(--disabled-fill-color);\n",
              "    box-shadow: none;\n",
              "  }\n",
              "\n",
              "  .colab-df-spinner {\n",
              "    border: 2px solid var(--fill-color);\n",
              "    border-color: transparent;\n",
              "    border-bottom-color: var(--fill-color);\n",
              "    animation:\n",
              "      spin 1s steps(1) infinite;\n",
              "  }\n",
              "\n",
              "  @keyframes spin {\n",
              "    0% {\n",
              "      border-color: transparent;\n",
              "      border-bottom-color: var(--fill-color);\n",
              "      border-left-color: var(--fill-color);\n",
              "    }\n",
              "    20% {\n",
              "      border-color: transparent;\n",
              "      border-left-color: var(--fill-color);\n",
              "      border-top-color: var(--fill-color);\n",
              "    }\n",
              "    30% {\n",
              "      border-color: transparent;\n",
              "      border-left-color: var(--fill-color);\n",
              "      border-top-color: var(--fill-color);\n",
              "      border-right-color: var(--fill-color);\n",
              "    }\n",
              "    40% {\n",
              "      border-color: transparent;\n",
              "      border-right-color: var(--fill-color);\n",
              "      border-top-color: var(--fill-color);\n",
              "    }\n",
              "    60% {\n",
              "      border-color: transparent;\n",
              "      border-right-color: var(--fill-color);\n",
              "    }\n",
              "    80% {\n",
              "      border-color: transparent;\n",
              "      border-right-color: var(--fill-color);\n",
              "      border-bottom-color: var(--fill-color);\n",
              "    }\n",
              "    90% {\n",
              "      border-color: transparent;\n",
              "      border-bottom-color: var(--fill-color);\n",
              "    }\n",
              "  }\n",
              "</style>\n",
              "\n",
              "  <script>\n",
              "    async function quickchart(key) {\n",
              "      const quickchartButtonEl =\n",
              "        document.querySelector('#' + key + ' button');\n",
              "      quickchartButtonEl.disabled = true;  // To prevent multiple clicks.\n",
              "      quickchartButtonEl.classList.add('colab-df-spinner');\n",
              "      try {\n",
              "        const charts = await google.colab.kernel.invokeFunction(\n",
              "            'suggestCharts', [key], {});\n",
              "      } catch (error) {\n",
              "        console.error('Error during call to suggestCharts:', error);\n",
              "      }\n",
              "      quickchartButtonEl.classList.remove('colab-df-spinner');\n",
              "      quickchartButtonEl.classList.add('colab-df-quickchart-complete');\n",
              "    }\n",
              "    (() => {\n",
              "      let quickchartButtonEl =\n",
              "        document.querySelector('#df-947ae9cb-b502-449d-9912-e460fc80edb8 button');\n",
              "      quickchartButtonEl.style.display =\n",
              "        google.colab.kernel.accessAllowed ? 'block' : 'none';\n",
              "    })();\n",
              "  </script>\n",
              "</div>\n",
              "\n",
              "    </div>\n",
              "  </div>\n"
            ],
            "application/vnd.google.colaboratory.intrinsic+json": {
              "type": "dataframe",
              "variable_name": "new_df",
              "summary": "{\n  \"name\": \"new_df\",\n  \"rows\": 3233,\n  \"fields\": [\n    {\n      \"column\": \"Course Name\",\n      \"properties\": {\n        \"dtype\": \"string\",\n        \"num_unique_values\": 3128,\n        \"samples\": [\n          \"Mastering Statics\",\n          \"Applications of Everyday Leadership\",\n          \"Introduction to Programming with MATLAB\"\n        ],\n        \"semantic_type\": \"\",\n        \"description\": \"\"\n      }\n    },\n    {\n      \"column\": \"tags\",\n      \"properties\": {\n        \"dtype\": \"string\",\n        \"num_unique_values\": 3136,\n        \"samples\": [\n          \"high stakes leadership leading in times of crisisbeginnerthis course has been designed to help leaders like you learn how to effectively navigate the challenges of significant organizational disruptions as a participant in this course you\\ufffdll discover why an understanding of various stakeholder perspectives can inform and dramatically improve a leader\\ufffds response to events that threaten an organization\\ufffds very survival this course is also about understanding and developing individual and organizational resilience\\ufffdthe ability to anticipate potential threats to cope effectively with adverse events when they occur and to adapt to changing conditions ensuring a viable path forward for yourself your team and your organization these topics are particularly relevant in the wake of the global covid19 pandemic many course examples will reference lessons leaders around the world have learned during this farreaching healthcare crisis  during the eight course modules which are distributed over four weeks participants will explore topics such as why the vuca world is making crises more common characteristics of resilient organizations and ways to increase resilience stakeholder value propositions and how these are threatened during a crisis organizing frameworks for estimating the types of crises an organization might encounter the unique and challenging nature of the crisis environment the fundamentals of crisis leadership and building a plan to prepare yourself your team and your organization for your next major crisis\\ufffdwhich in today\\ufffds world is not so much an \\ufffdif\\ufffd as a \\ufffdwhen\\ufffd  professor mike barger your faculty member for this course has served as a topgun instructor in the united states navy and as a founder and executive at jetblue airways his professional experience has helped him learn a great deal about crisis leadership and to gain a true sense of what it means to be resilient throughout the course professor barger will draw upon many practical examples that will make the content of this course easy to appreciate understand and translate into practical lessons that you will be able to apply immediately at your organization   crisis leadership is a topic that\\ufffds exciting daunting and almost impossible to master with some time and effort over the four weeks of the course however you can develop an exceptional set of crisisleadership tools that will serve you well throughout your professional careerhistory  planning  crisis management  communication  leadership  teaching method  coaching  leadership and management  crisis  crisis communication business leadershipandmanagement\",\n          \"fundamentals of operations with goldman sachs 10000 womenbeginnerthis course is one of 10 courses available in the goldman sachs 10000 women collection designed for entrepreneurs ready to take their business to the next level  in this course you will identify and refine your business operations and processes you will explore how these can be developed both to maximise customer satisfaction and support business growth   in the exercises you will examine the purpose of process mapping and use this to evaluate your current business processes as your business grows you will consider how to refine your processes to deliver operational efficiency and a competitive advantage for your business while also increasing value for customers  by the end of the course you will have mapped and evaluated key processes within your business identified areas of strength and selected appropriate measures for improvement as your business grows  the 10000 women course collection offers a truly flexible online learning experience you have the freedom to approach the program in any way that works for you \\ufffd take any course or combination of courses to tailor your learning journey to your individual business growth needs if you choose to take all 10 courses you will explore all the key elements of your business and develop a thorough plan for your business\\ufffds growth   find out more about the goldman sachs 10000 women collection in the faqsentrepreneurship  evaluation  operations management  process mapping  competitiveness  process  business operations  online learning  customer service training  revenue operations business entrepreneurship\",\n          \"brand management aligning business brand and behaviourintermediateprofessor nader tavassoli of london business school contrasts traditional approaches to branding  where brands are a visual identity and a promise to customers  to brands as a customer experience delivered by the entire organisation the course offers a brand workout for your own brands as well as guest videos from leading branding professionals   the aim of the course is to change the conception of brands as being an organisations visual identity eg logo and image customers brand associations to an experience along momentsthatmatter along the customer journey and therefore delivered by people across the entire organisation brands are thus not only an external promise to customers but a means of executing business strategy via internal brandled behaviour and culture change  you will learn and practice the following skills  1thow to build brands from a broad organisational perspective  2thow to lead brandled culture change with human resource practices at the core ie brand as a lever and not just an outcome  3thow to build brands in multibrand companies across cultures and geographies 4thow to measure brand health in new ways that is internally in addition to externally 5thow to value and capture returns to brands across the organisation  introducing the new concept of employeebased brand equity  and how this is different from the valuation of brands as intangible assets   this course allows you to develop the following aspects of yourself  1thead gain a deeper understanding of the evolving practice of brand management one that goes further than practiced in most organisations today 2theart be motivated to engage in delivering your own brands \\ufffd regardless of where you are in your organisation \\ufffd thereby creating superior value for customers and for your organisation 3thands translate learnings into action as confucius is supposed to have said \\ufffdi hear and i forget i see and i remember i do and i understand\\ufffdmarketing  brand  leadership and management  brand equity  brand marketing  culture  employment  brand management  brand identity  stock business entrepreneurship\"\n        ],\n        \"semantic_type\": \"\",\n        \"description\": \"\"\n      }\n    }\n  ]\n}"
            }
          },
          "metadata": {},
          "execution_count": 22
        }
      ]
    },
    {
      "cell_type": "code",
      "source": [
        "new_df.rename(columns = {'Course Name':'course_name'}, inplace = True)"
      ],
      "metadata": {
        "colab": {
          "base_uri": "https://localhost:8080/"
        },
        "id": "1dUMZf_9XZ2d",
        "outputId": "e914b924-5be5-4779-f169-e0302de6c66d"
      },
      "execution_count": 23,
      "outputs": [
        {
          "output_type": "stream",
          "name": "stderr",
          "text": [
            "<ipython-input-23-626a084aa76c>:1: SettingWithCopyWarning: \n",
            "A value is trying to be set on a copy of a slice from a DataFrame\n",
            "\n",
            "See the caveats in the documentation: https://pandas.pydata.org/pandas-docs/stable/user_guide/indexing.html#returning-a-view-versus-a-copy\n",
            "  new_df.rename(columns = {'Course Name':'course_name'}, inplace = True)\n"
          ]
        }
      ]
    },
    {
      "cell_type": "code",
      "source": [
        "new_df.shape"
      ],
      "metadata": {
        "colab": {
          "base_uri": "https://localhost:8080/"
        },
        "id": "tO6j0bRiX8jf",
        "outputId": "b79265e8-5948-4124-d901-9da961eacf7e"
      },
      "execution_count": 24,
      "outputs": [
        {
          "output_type": "execute_result",
          "data": {
            "text/plain": [
              "(3233, 2)"
            ]
          },
          "metadata": {},
          "execution_count": 24
        }
      ]
    },
    {
      "cell_type": "code",
      "source": [
        "new_df['tags'][1]"
      ],
      "metadata": {
        "colab": {
          "base_uri": "https://localhost:8080/",
          "height": 178
        },
        "id": "SObeRzFKeQ8c",
        "outputId": "c19f0b01-fefd-492e-8819-a11d901320dc"
      },
      "execution_count": 25,
      "outputs": [
        {
          "output_type": "execute_result",
          "data": {
            "text/plain": [
              "'business strategy business model canvas analysis with mirobeginnerby the end of this guided project you will be fluent in identifying and creating business model canvas solutions based on previous highlevel analyses and research data  this will enable you to identify and map the elements required for new products and services furthermore it is essential for generating positive results for your business venture this guided project is designed to engage and harness your visionary and exploratory abilities you will use proven models in strategy and product development with the miro platform to explore and analyse your business propositions   we will practice critically examining results from previous analysis and research results in deriving the values for each of the business model sectionsfinance  business plan  persona user experience  business model canvas  planning  business  project  product development  presentation  strategy business businessstrategy'"
            ],
            "application/vnd.google.colaboratory.intrinsic+json": {
              "type": "string"
            }
          },
          "metadata": {},
          "execution_count": 25
        }
      ]
    },
    {
      "cell_type": "markdown",
      "source": [
        "## Text Vectorization / Feature Extraction / Text Representation\n"
      ],
      "metadata": {
        "id": "GqfPZUASZpce"
      }
    },
    {
      "cell_type": "code",
      "source": [
        "from sklearn.feature_extraction.text import CountVectorizer\n",
        "cv = CountVectorizer(max_features=5000,stop_words='english')\n",
        "vectors = cv.fit_transform(new_df['tags']).toarray()\n",
        "vectors.shape"
      ],
      "metadata": {
        "id": "5zKGQvu2z9I8",
        "colab": {
          "base_uri": "https://localhost:8080/"
        },
        "outputId": "9fa04cca-afaf-442f-e597-46a52b2f5e64"
      },
      "execution_count": 26,
      "outputs": [
        {
          "output_type": "execute_result",
          "data": {
            "text/plain": [
              "(3233, 5000)"
            ]
          },
          "metadata": {},
          "execution_count": 26
        }
      ]
    },
    {
      "cell_type": "code",
      "source": [
        "vectors"
      ],
      "metadata": {
        "colab": {
          "base_uri": "https://localhost:8080/"
        },
        "id": "hKwLncU_n059",
        "outputId": "dce159d7-b730-43b3-a50f-a9dee27878f9"
      },
      "execution_count": 27,
      "outputs": [
        {
          "output_type": "execute_result",
          "data": {
            "text/plain": [
              "array([[0, 0, 0, ..., 0, 0, 0],\n",
              "       [0, 0, 0, ..., 0, 0, 0],\n",
              "       [0, 0, 0, ..., 0, 0, 0],\n",
              "       ...,\n",
              "       [0, 0, 0, ..., 0, 0, 0],\n",
              "       [0, 0, 0, ..., 0, 0, 0],\n",
              "       [0, 0, 0, ..., 0, 0, 0]])"
            ]
          },
          "metadata": {},
          "execution_count": 27
        }
      ]
    },
    {
      "cell_type": "code",
      "source": [
        "print(vectors[1])"
      ],
      "metadata": {
        "colab": {
          "base_uri": "https://localhost:8080/"
        },
        "id": "-lgo6k6NPf12",
        "outputId": "915d0833-7ea5-461e-99d1-3bc16434942a"
      },
      "execution_count": 28,
      "outputs": [
        {
          "output_type": "stream",
          "name": "stdout",
          "text": [
            "[0 0 0 ... 0 0 0]\n"
          ]
        }
      ]
    },
    {
      "cell_type": "code",
      "source": [
        "print(cv.vocabulary_)"
      ],
      "metadata": {
        "colab": {
          "base_uri": "https://localhost:8080/"
        },
        "id": "ErxlXfbLPBHu",
        "outputId": "9ef235f3-0198-4e79-c0c1-933b061f6fe9"
      },
      "execution_count": 29,
      "outputs": [
        {
          "output_type": "stream",
          "name": "stdout",
          "text": [
            "{'write': 4973, 'feature': 1818, 'length': 2637, 'film': 1839, 'script': 4038, 'course': 1064, 'complete': 874, 'television': 4526, 'drama': 1423, 'comedy': 824, 'll': 2701, 'learn': 2621, 'break': 567, 'creative': 1082, 'process': 3539, 'components': 885, 'discover': 1349, 'structured': 4370, 'allows': 215, 'produce': 3545, 'polished': 3417, 'end': 1573, 'completing': 877, 'project': 3583, 'increase': 2301, 'confidence': 928, 'ideas': 2225, 'abilities': 50, 'feel': 1826, 'prepared': 3480, 'pitch': 3375, 'started': 4317, 'designed': 1256, 'tap': 4485, 'creativity': 1084, 'based': 456, 'active': 107, 'learning': 2625, 'actual': 113, 'takes': 4479, 'place': 3378, 'activities': 109, 'writing': 4976, 'doing': 1404, 'link': 2681, 'trailer': 4634, 'view': 4837, 'copy': 1041, 'paste': 3261, 'browser': 583, 'learner': 2623, 'review': 3919, 'love': 2734, 'approach': 286, 'professor': 3562, 'point': 3410, 'easy': 1462, 'follow': 1881, 'informative': 2343, 'definitely': 1203, 'recommend': 3756, 'interested': 2432, 'taking': 4480, 'curriculum': 1127, 'simple': 4184, 'adopt': 143, 'professional': 3557, 'writers': 4975, 'room': 3958, 'post': 3441, 'work': 4952, 'peer': 3292, 'share': 4141, 'feedback': 1825, 'peers': 3295, 'revise': 3923, 'receive': 3746, 'thats': 4558, 'real': 3732, 'world': 4967, 'prior': 3520, 'experience': 1726, 'writer': 4974, 'required': 3866, 'im': 2244, 'experiential': 1729, 'lectures': 2631, 'short': 4159, 'just': 2538, 'minutes': 2908, 'long': 2718, 'stepbystep': 4335, 'essential': 1650, 'success': 4401, 'guide': 2080, 'won': 4943, 'believe': 488, 'way': 4896, 'like': 2668, 'thank': 4556, 'instructor': 2395, 'amazing': 220, 'need': 3022, 'mentioned': 2861, 'begin': 474, 'basic': 459, 'word': 4949, 'processor': 3542, 'week': 4907, 'choose': 727, 'download': 1417, 'free': 1929, 'software': 4225, 'purchase': 3651, 'final': 1844, 'draft': 1421, 'industry': 2320, 'standard': 4311, 'continue': 999, 'use': 4772, 'formatting': 1903, 'concerns': 910, 'regarding': 3790, 'protection': 3616, 'original': 3183, 'courseras': 1066, 'privacy': 3525, 'policy': 3415, 'learners': 2624, 'ip': 2495, 'owners': 3204, 'peering': 3293, 'document': 1398, 'dialogue': 1299, 'unix': 4751, 'shells': 4152, 'artsandhumanities': 335, 'musicandart': 2989, 'business': 597, 'strategy': 4352, 'model': 2926, 'canvas': 630, 'analysis': 231, 'guided': 2081, 'fluent': 1873, 'identifying': 2229, 'creating': 1080, 'solutions': 4231, 'previous': 3505, 'highlevel': 2149, 'analyses': 229, 'research': 3871, 'data': 1153, 'enable': 1562, 'identify': 2228, 'map': 2778, 'elements': 1522, 'new': 3042, 'products': 3554, 'services': 4121, 'furthermore': 1958, 'generating': 1994, 'positive': 3436, 'results': 3904, 'venture': 4819, 'engage': 1580, 'harness': 2113, 'visionary': 4852, 'exploratory': 1745, 'proven': 3627, 'models': 2930, 'product': 3550, 'development': 1283, 'platform': 3390, 'explore': 1746, 'analyse': 228, 'practice': 3455, 'critically': 1097, 'examining': 1695, 'values': 4800, 'plan': 3382, 'persona': 3317, 'user': 4775, 'planning': 3386, 'presentation': 3489, 'businessstrategy': 600, 'silicon': 4180, 'solar': 4228, 'consists': 965, 'general': 1989, 'cells': 667, 'films': 1840, 'mooc': 2951, 'photovoltaic': 3352, 'series': 4113, 'coursera': 1065, 'aspects': 342, 'field': 1830, 'treated': 4666, 'energy': 1579, 'detailed': 1267, 'description': 1251, 'crystalline': 1110, 'physics': 3361, 'brief': 573, 'operation': 3140, 'semiconductors': 4092, 'described': 1248, 'properties': 3602, 'different': 1309, 'particular': 3246, 'terms': 4539, 'band': 448, 'structure': 4369, 'doping': 1415, 'mechanisms': 2840, 'generally': 1990, 'leading': 2618, 'growth': 2076, 'discussed': 1357, 'capability': 632, 'prepare': 3479, 'appear': 273, 'mixture': 2919, 'embedded': 1529, 'consequences': 954, 'semiconductor': 4091, 'behavior': 480, 'reviewed': 3920, 'optical': 3151, 'complementary': 873, 'particularly': 3247, 'adapted': 119, 'preparation': 3478, 'conversion': 1026, 'processes': 3540, 'allow': 213, 'large': 2590, 'area': 309, 'flexible': 1869, 'finally': 1845, 'shown': 4167, 'materials': 2803, 'combine': 819, 'high': 2147, 'efficiency': 1499, '25': 31, 'lambda': 2582, 'calculus': 610, 'electrical': 1513, 'engineering': 1586, 'electronics': 1519, 'physicalscienceandengineering': 3358, 'electricalengineering': 1514, 'finance': 1846, 'comes': 825, 'numbers': 3083, 'meets': 2854, 'eye': 1774, 'operational': 3141, 'read': 3725, 'story': 4344, 'balance': 445, 'sheet': 4148, 'income': 2297, 'statement': 4323, 'company': 851, 'operations': 3142, 'insights': 2372, 'gain': 1962, 'financial': 1847, 'tool': 4604, 'shortterm': 4163, 'decisionmaking': 1188, 'management': 2764, 'level': 2646, 'relating': 3817, 'current': 1125, 'assets': 352, 'liabilities': 2653, 'working': 4959, 'capital': 636, 'understand': 4729, 'managerial': 2766, 'decisions': 1189, 'marketing': 2787, 'accounting': 82, 'leadership': 2616, 'inventory': 2475, 'retrieve': 3910, 'using': 4778, 'sql': 4298, 'effectively': 1495, 'relational': 3819, 'database': 1155, 'table': 4468, 'language': 2586, 'know': 2562, 'computer': 896, 'systems': 4467, 'rely': 3835, 'store': 4340, 'tax': 4495, 'information': 2341, 'stored': 4341, 'used': 4773, 'internal': 2440, 'revenue': 3917, 'service': 4120, 'phone': 3343, 'stores': 4342, 'names': 2998, 'addresses': 130, 'email': 1527, 'shop': 4157, 'online': 3127, 'viewing': 4839, 'photos': 3350, 'descriptions': 1252, 'prices': 3508, 'designers': 1258, 'great': 2062, 'design': 1254, 'databases': 1156, 'securely': 4058, 'organized': 3177, 'format': 1899, 'important': 2274, 'note': 3066, 'main': 2748, 'reason': 3743, 'called': 615, 'retrieval': 3909, 'query': 3681, 'question': 3682, 'referred': 3779, 'programs': 3580, 'web': 4903, 'page': 3211, 'pc': 3282, 'application': 277, 'printed': 3518, 'paper': 3225, 'practicing': 3458, 'queries': 3680, 'sqlitestudio': 4299, 'time': 4593, 'look': 2722, 'daily': 1145, 'special': 4265, 'favorite': 1816, 'restaurant': 3898, 'think': 4571, 'fact': 1786, 'likely': 2670, 'scenes': 4016, 'screen': 4036, 'pretty': 3499, 'good': 2038, 'idea': 2222, 'works': 4964, 'best': 495, 'north': 3062, 'america': 222, 'region': 3792, 'currently': 1126, 'providing': 3633, 'regionsdata': 3796, 'select': 4071, 'shopping': 4158, 'spreadsheet': 4294, 'informationtechnology': 2342, 'datamanagement': 1159, 'building': 592, 'test': 4542, 'automation': 414, 'framework': 1925, 'selenium': 4076, 'widely': 4925, 'functional': 1947, 'ui': 4713, 'testing': 4544, 'tools': 4607, 'testng': 4545, 'frameworks': 1926, 'set': 4125, 'guidelines': 2082, 'rules': 3975, 'cases': 656, 'reduce': 3773, 'maintenance': 2753, 'costs': 1057, 'efforts': 1503, 'provide': 3628, 'higher': 2148, 'return': 3911, 'investment': 2481, 'roi': 3953, 'teams': 4515, 'looking': 2723, 'optimize': 3155, 'include': 2291, 'coding': 792, 'standards': 4312, 'defining': 1202, 'object': 3093, 'repositories': 3852, 'reporting': 3850, 'logging': 2711, 'strategies': 4351, 'handson': 2101, 'practical': 3453, 'concepts': 905, 'reusable': 3913, 'code': 789, 'maintain': 2751, 'classes': 751, 'utilities': 4780, 'effective': 1494, 'reports': 3851, 'case': 655, 'class': 750, 'debugging': 1180, 'php': 3353, 'computerscience': 899, 'softwaredevelopment': 4226, 'programming': 3579, 'languages': 2588, 'introduction': 2468, 'strong': 4366, 'emphasis': 1544, 'uses': 4777, 'ml': 2920, 'ruby': 3974, 'vehicles': 4817, 'teaching': 4512, 'intent': 2420, 'teach': 4508, 'fits': 1864, 'make': 2756, 'ones': 3125, 'theoretical': 4562, 'understanding': 4730, 'constructs': 980, 'correct': 1050, 'deeply': 1196, 'syntax': 4460, 'robust': 3950, 'modern': 2931, 'roots': 3961, 'ready': 3731, 'fresh': 1935, 'beautiful': 470, 'fun': 1945, 'assumes': 365, 'module': 2936, 'divided': 1388, 'courses': 1067, 'explained': 1738, 'overall': 3197, 'substantial': 4397, 'challenging': 688, 'material': 2802, 'threepart': 4586, 'provides': 3632, 'intermediate': 2438, 'milestones': 2894, 'opportunities': 3148, 'continuing': 1001, 'parts': 3253, 'completed': 875, 'order': 3163, 'motivate': 2956, 'quite': 3687, 'equal': 1630, 'combined': 820, 'list': 2688, 'topics': 4609, 'expected': 1725, 'participants': 3240, 'function': 1946, 'type': 4705, 'inference': 2326, 'pattern': 3275, 'matching': 2801, 'eulers': 1669, 'totient': 4616, 'recursive': 3771, 'roles': 3955, 'responsibilities': 3893, 'nonprofit': 3055, 'boards': 534, 'directors': 1336, 'governance': 2043, 'indepth': 2307, 'organizations': 3175, 'developed': 1279, 'american': 223, 'culture': 1119, 'mind': 2900, 'appreciate': 284, 'nature': 3012, 'hope': 2178, 'content': 994, 'value': 4797, 'watch': 4890, 'overview': 3200, 'video': 4835, 'copying': 1042, 'pasting': 3262, 'following': 1883, 'sector': 4055, 'voluntary': 4869, 'volunteer': 4870, 'board': 533, 'performance': 3305, 'effectiveness': 1496, 'questions': 3683, 'explored': 1747, 'role': 3954, 'future': 1960, 'strategic': 4349, 'carry': 652, 'weeks': 4909, 'assessing': 348, 'organization': 3173, 'assessment': 349, 'meeting': 2852, 'ensuring': 1603, 'adequate': 132, 'funding': 1955, 'resource': 3883, 'stage': 4305, 'asked': 339, 'submit': 4388, 'written': 4977, 'assignment': 354, 'known': 2566, 'bear': 469, 'readiness': 3728, 'multiple': 2981, 'choice': 725, 'assurance': 367, 'tests': 4546, 'assess': 346, 'knowledge': 2565, 'reading': 3729, 'comprehension': 888, 'encourage': 1568, 'discuss': 1356, 'discussion': 1360, 'forums': 1910, 'wish': 4938, 'change': 691, 'answers': 258, 'fundraising': 1956, 'concept': 903, 'measurement': 2832, 'evaluation': 1675, 'leadershipandmanagement': 2617, 'esports': 1647, 'capstone': 637, 'analyze': 237, 'pros': 3608, 'cons': 950, 'single': 4196, 'branding': 563, 'hypothetical': 2216, 'considerations': 958, 'develop': 1278, 'recruiting': 3767, 'resources': 3884, 'owner': 3203, 'statistics': 4329, 'opportunity': 3149, 'apply': 281, 'various': 4809, 'skills': 4205, 'specialization': 4269, 'life': 2661, 'collaboration': 799, 'partner': 3249, 'available': 419, 'housing': 2193, 'typically': 4708, 'client': 767, 'analyst': 232, 'job': 2519, 'relevant': 3828, 'statistical': 4328, 'report': 3848, 'findings': 1850, 'response': 3891, 'remember': 3840, 'degree': 1207, 'aim': 193, 'close': 773, 'microsoft': 2890, 'excel': 1698, 'analytics': 236, 'regression': 3804, 'datascience': 1160, 'dataanalysis': 1154, 'fast': 1814, 'come': 823, 'forms': 1905, 'file': 1836, 'types': 4706, 'faced': 1778, 'includes': 2293, 'categories': 659, 'nested': 3032, 'cutting': 1137, 'task': 4491, 'critical': 1096, 'leverage': 2648, 'vlookup': 4863, 'pull': 3649, 'needed': 3023, 'quickly': 3686, 'lookup': 2725, 'tables': 4470, 'formulas': 1906, 'extract': 1768, 'treating': 4667, 'section': 4053, 'google': 2040, 'sheets': 4149, 'sets': 4126, 'levels': 2647, 'able': 52, 'confidently': 931, 'benefits': 493, 'index': 2309, 'businessessentials': 599, 'global': 2028, 'health': 2120, 'interdisciplinary': 2431, 'challenges': 687, 'drawing': 1426, 'academic': 61, 'disciplines': 1344, 'including': 2294, 'medicine': 2845, 'public': 3643, 'law': 2605, 'economics': 1474, 'social': 4217, 'sciences': 4026, 'humanities': 2206, 'student': 4374, 'seven': 4130, 'communication': 844, 'disease': 1362, 'drug': 1438, 'lifesciences': 2664, 'publichealth': 3645, 'python': 3666, 'introduce': 2464, 'wonderful': 4946, 'construct': 975, 'cover': 1070, 'expressions': 1757, 'variables': 4803, 'functions': 1950, 'logic': 2712, 'conditionals': 922, 'foundational': 1916, 'modules': 2937, 'benefit': 492, 'vast': 4811, 'array': 323, 'functionality': 1948, 'help': 2134, 'programmer': 3576, 'accomplish': 76, 'tasks': 4492, 'foundation': 1915, 'expertise': 1735, 'necessary': 3020, 'blocks': 528, 'succeed': 4400, 'complex': 879, 'version': 4828, 'environment': 1621, 'specifically': 4275, 'beginning': 477, 'programmers': 3577, 'runs': 3978, 'does': 1402, 'require': 3865, 'install': 2379, 'allowing': 214, 'start': 4316, 'running': 3977, 'small': 4212, 'immediately': 2253, 'later': 2599, 'sophisticated': 4240, 'desktop': 1263, 'conventions': 1021, 'problem': 3532, 'solving': 4235, 'style': 4383, 'semantics': 4090, 'dashboards': 1152, 'storytelling': 4346, 'visualizations': 4857, 'created': 1078, 'visual': 4855, 'tableau': 4469, 'create': 1077, 'powerful': 3451, 'leave': 2627, 'lasting': 2596, 'impression': 2278, 'audience': 385, 'goals': 2034, 'stakeholders': 4308, 'needs': 3024, 'organize': 3176, 'maximum': 2820, 'impact': 2257, 'advanced': 149, 'actions': 105, 'parameters': 3233, 'interactions': 2425, 'compelling': 858, 'narrative': 3004, 'delivered': 1211, 'static': 4327, 'interactive': 2426, 'display': 1367, 'visualization': 4856, 'method': 2874, 'analytic': 234, 'javascript': 2514, 'parallel': 3230, 'smartphone': 4215, 'processors': 3543, 'facilitate': 1781, 'increasingly': 2304, 'widespread': 4927, 'youll': 4991, 'fundamentals': 1953, 'parallelism': 3231, 'familiar': 1803, 'paradigm': 3228, 'collections': 806, 'build': 591, 'library': 2656, 'scala': 4004, 'examples': 1697, 'realworld': 3742, 'popular': 3424, 'algorithms': 204, 'kmeans': 2561, 'clustering': 781, 'outcomes': 3190, 'express': 1754, 'common': 838, 'solve': 4232, 'achieve': 88, 'recommended': 3759, 'background': 437, 'year': 4984, 'proficiency': 3564, 'java': 2513, 'ideal': 2223, 'cc': 664, 'sufficient': 4406, 'familiarity': 1804, 'command': 829, 'line': 2675, 'intended': 2417, 'taken': 4478, 'program': 3574, 'structures': 4371, 'algorithm': 202, 'openfabrics': 3133, 'alliance': 210, 'unified': 4736, 'computing': 901, 'recommendation': 3757, 'tensorflow': 4536, 'classification': 754, 'embeddings': 1531, 'pipeline': 3373, 'engine': 1584, 'implement': 2266, 'collaborative': 800, 'filtering': 1842, 'hybrid': 2211, 'enrolling': 1599, 'agree': 185, 'qwiklabs': 3690, 'faq': 1809, 'located': 2707, 'httpsqwiklabscomtermsofservice': 2200, 'architecture': 305, 'cloud': 776, 'deep': 1192, 'platforms': 3391, 'machine': 2740, 'matrices': 2811, 'artificial': 330, 'neural': 3037, 'networks': 3036, 'recommender': 3760, 'machinelearning': 2741, 'changing': 694, 'arctic': 307, 'landscapes': 2585, 'formed': 1904, 'scientists': 4029, 'countries': 1061, 'changes': 693, 'affect': 163, 'people': 3298, 'community': 847, 'range': 3702, 'scientific': 4027, 'consensus': 952, 'views': 4841, 'equipped': 1636, 'natural': 3011, 'curiosity': 1123, 'invest': 2476, 'environmental': 1622, 'issue': 2503, 'concern': 907, 'targeted': 4488, 'educated': 1489, 'specialists': 4268, 'provided': 3629, 'motivated': 2957, 'issues': 2504, 'geology': 2009, 'plant': 3388, 'organic': 3168, 'basicscience': 461, 'covid19': 1075, 'clinical': 770, 'expert': 1734, 'infectious': 2325, 'diseases': 1363, 'editor': 1486, 'journal': 2526, 'author': 400, 'textbook': 4551, '2020': 24, 'concerned': 908, 'shared': 4142, 'epidemic': 1625, 'did': 1302, 'cause': 662, 'answered': 256, 'rapid': 3706, 'spread': 4293, 'virus': 4850, 'epidemiology': 1628, 'understood': 4731, 'updated': 4761, 'recognizing': 3755, 'pandemic': 3221, 'want': 4881, 'present': 3488, 'symptoms': 4459, 'associated': 360, 'dangerous': 1148, 'risk': 3939, 'dying': 1444, 'infection': 2323, 'addition': 125, 'videos': 4836, 'included': 2292, 'exercise': 1713, 'power': 3449, 'tracing': 4623, 'second': 4050, 'campaign': 620, 'shift': 4153, 'behaviors': 482, 'lead': 2613, 'save': 4000, 'lives': 2699, 'armed': 318, 'difference': 1307, 'mechanical': 2836, 'vaccine': 4788, 'outbreak': 3187, 'medical': 2843, 'history': 2164, 'epidemics': 1626, 'patient': 3271, 'patientcare': 3272, 'text': 4550, 'effects': 1497, '1hour': 13, 'projectbased': 3584, 'add': 121, 'stand': 4309, 'outline': 3192, 'image': 2245, 'inside': 2369, 'gradient': 2050, 'path': 3265, '3d': 39, 'filters': 1843, 'generate': 1991, 'device': 1288, 'rd': 3718, 'ordered': 3164, 'pair': 3215, 'english': 1589, 'grammar': 2053, 'bottomup': 552, 'standing': 4313, 'variable': 4802, 'designandproduct': 1255, 'preparing': 3482, 'engineer': 1585, 'exam': 1690, 'competent': 864, 'recognize': 3753, 'surface': 4434, 'skill': 4203, 'areas': 310, 'additional': 126, 'custom': 1130, 'helps': 2138, 'distinguish': 1377, 'dont': 1414, 'practitioners': 3460, 'perform': 3304, 'follows': 1884, 'presenting': 3492, 'determine': 1274, 'confident': 929, 'dependent': 1233, 'study': 4381, 'key': 2549, 'cognitive': 795, 'technical': 4518, 'developing': 1282, 'proposed': 3606, 'activity': 110, 'tracking': 4625, 'challenge': 685, 'labs': 2580, 'sample': 3991, 'similar': 4181, 'contains': 992, 'ungraded': 4735, 'quiz': 3688, 'followed': 1882, 'graded': 2049, 'certificate': 679, 'completion': 878, 'unlock': 4754, 'enroll': 1597, 'november': 3076, 'tshirt': 4689, '1000': 2, 'eligible': 1523, 'supplies': 4424, 'exclusive': 1707, 'access': 69, 'big': 501, 'interview': 2459, '950': 48, 'career': 645, 'coaching': 786, '30': 35, 'days': 1167, '50': 44, 'earn': 1452, 'recognized': 3754, 'badges': 444, 'requirements': 3868, 'dataflow': 1158, 'bigquery': 503, 'cloudcomputing': 778, 'reasoning': 3744, 'gathered': 1978, 'researchers': 3873, 'evidence': 1681, 'presented': 3491, 'literature': 2695, 'extend': 1758, 'prediction': 3468, 'outcome': 3189, 'basis': 462, 'introduced': 2465, 'variety': 4808, 'methods': 2878, 'interpreting': 2452, 'performing': 3307, 'calculations': 609, 'published': 3648, 'studies': 4378, 'logistic': 2714, 'intervals': 2456, 'effect': 1493, 'confounding': 939, 'interaction': 2424, 'estimation': 1662, 'linear': 2676, 'interval': 2455, 'odds': 3111, 'ratio': 3712, 'healthinformatics': 2123, 'population': 3426, 'alternative': 217, 'payment': 3280, 'pay': 3278, 'care': 644, 'providers': 3631, 'spending': 4284, 'fail': 1794, 'maximize': 2818, 'provider': 3630, 'sustainability': 4446, 'option': 3157, 'rationale': 3713, 'reforms': 3787, 'dive': 1383, 'incentives': 2288, 'roadmap': 3944, 'behavioural': 484, 'human': 2204, 'behaviour': 483, 'advance': 148, 'implementation': 2267, 'innovative': 2363, 'professionals': 3560, 'healthcare': 2121, 'member': 2855, 'private': 3526, 'researcher': 3872, 'leiden': 2636, 'university': 4749, 'master': 2795, 'behavioral': 481, 'loss': 2730, 'modeling': 2928, 'enabling': 1565, 'relative': 3823, 'desire': 1261, 'payments': 3281, 'healthcaremanagement': 2122, 'aws': 430, 'elastic': 1508, 'deploy': 1236, 'nodejs': 3048, 'restful': 3899, 'api': 267, 'launch': 2602, 'server': 4115, 'technology': 4524, 'simply': 4188, 'console': 966, 'servers': 4117, 'additionally': 127, 'switch': 4450, 'versions': 4829, 'applications': 278, 'monitoring': 2947, 'avoid': 422, 'amazon': 221, 'account': 79, 'tier': 4591, 'utilize': 4782, 'fall': 1801, 'state': 4322, 'transfer': 4640, 'uniform': 4737, 'hypertext': 2213, 'protocol': 3620, 'virtual': 4846, 'interfaces': 2436, 'switches': 4452, 'philosophy': 3341, 'science': 4025, 'religion': 3832, 'mark': 2784, 'fundamental': 1952, 'modes': 2932, 'thinking': 4573, 'intellectually': 2414, 'responsible': 3895, 'thing': 4569, 'pick': 3367, 'sides': 4169, 'approaches': 287, 'exclusion': 1706, 'supportive': 4430, 'typical': 4707, 'details': 1268, 'example': 1696, 'really': 3739, 'distinctive': 1376, 'ways': 4898, 'clarity': 749, 'investigating': 2478, 'thinkers': 4572, 'actually': 114, 'entitled': 1613, 'related': 3815, 'ask': 338, 'debate': 1176, 'kind': 2554, 'conflicts': 938, 'explain': 1737, 'away': 428, 'belief': 486, 'makes': 2758, 'getting': 2016, 'giving': 2025, 'sharing': 4144, 'religious': 3834, 'launched': 2603, 'early': 1451, '2017': 21, 'sign': 4172, '2018': 22, 'broader': 580, 'fascinating': 1812, 'topic': 4608, 'iii': 2234, 'successful': 4402, 'students': 4376, 'evolution': 1683, 'encountered': 1567, 'philosophical': 3340, 'interface': 2435, 'conversations': 1025, 'demonstrated': 1220, 'personal': 3318, 'commitment': 836, 'intellectual': 2413, 'spiritual': 4286, 'boundaries': 554, 'twitter': 4702, 'arts': 334, 'virtue': 4849, 'spirituality': 4287, 'bible': 500, 'poverty': 3448, 'shape': 4137, 'welfare': 4913, 'populations': 3427, 'earnings': 1455, 'play': 3393, 'shaping': 4140, 'inflation': 2329, 'minimum': 2904, 'deals': 1173, 'central': 672, 'institution': 2389, 'labor': 2577, 'market': 2785, 'largely': 2591, 'determines': 1276, 'person': 3316, 'hierarchy': 2146, 'differing': 1315, 'define': 1199, 'poor': 3423, 'looks': 2724, 'directly': 1334, 'federal': 1822, 'decision': 1186, 'making': 2759, 'political': 3418, 'government': 2046, 'shapes': 4139, 'oppression': 3150, 'white': 4922, 'sequence': 4109, 'honors': 2177, 'track': 4624, 'involves': 2491, 'concise': 911, 'summaries': 4414, 'billing': 504, 'socialsciences': 4219, 'governanceandsociety': 2044, 'electrodynamics': 1516, 'electric': 1512, 'continuation': 998, 'calculating': 608, 'fields': 1831, 'tbe': 4498, 'calculate': 607, 'tunderstand': 4691, 'visualize': 4858, 'equations': 1632, 'derived': 1245, 'mathematics': 2808, 'diffusion': 1319, 'patents': 3264, 'potential': 3446, 'innovations': 2362, 'storage': 4339, 'traditional': 4632, 'covering': 1073, 'fairly': 1798, 'treatment': 4668, 'electricity': 1515, 'unique': 4739, 'vital': 4862, 'picture': 3368, 'physical': 3357, 'universe': 4747, 'chemistry': 715, 'chemical': 713, 'experiments': 1733, 'studentized': 4375, 'residual': 3875, 'music': 2986, 'pronunciation': 3598, 'features': 1819, 'stress': 4362, 'rhythm': 3929, 'improve': 2279, 'listening': 2691, 'ability': 51, 'communicate': 842, 'clearly': 763, 'advice': 158, 'technique': 4520, 'musical': 2987, 'record': 3761, 'respond': 3889, 'recordings': 3764, 'quizzes': 3689, 'assignments': 355, 'translation': 4654, 'speech': 4280, 'phonetics': 3345, 'languagelearning': 2587, 'learningenglish': 2626, 'enter': 1604, 'workforce': 4958, 'emerging': 1538, 'prospective': 3610, 'employees': 1552, 'principles': 3516, 'regardless': 3791, 'position': 3433, 'acquire': 96, 'theories': 4563, 'exploring': 1749, 'managers': 2767, 'insight': 2370, 'responsibility': 3894, 'organizing': 3178, 'controlling': 1017, 'workplace': 4963, 'soon': 4239, 'manage': 2762, 'leaders': 2615, 'focus': 1877, 'manager': 2765, 'operating': 3139, 'smart': 4214, 'goal': 2033, 'setting': 4127, 'customer': 1131, 'satisfaction': 3999, 'linked': 2682, '10': 0, 'theory': 4564, 'speaking': 4264, 'learned': 2622, 'steps': 4336, 'couple': 1063, 'experts': 1736, 'techniques': 4521, 'demonstrate': 1219, 'verbal': 4822, 'nonverbal': 3057, 'presentations': 3490, 'school': 4023, 'panel': 3223, 'ondemand': 3123, 'equips': 1637, 'traffic': 4633, 'transport': 4660, 'layer': 2609, 'security': 4061, 'authorization': 403, 'discovery': 1353, 'load': 2702, 'balancing': 447, 'control': 1014, 'intelligent': 2416, 'network': 3034, 'cobol': 788, 'college': 808, 'said': 3987, 'fashion': 1813, 'purpose': 3656, 'modify': 2934, 'apis': 269, 'integrate': 2405, 'practices': 3457, 'businesses': 598, 'developers': 1281, 'introductory': 2469, 'handling': 2098, 'participant': 3239, 'ibm': 2217, 'zos': 4999, 'practitioner': 3459, 'mainframe': 2749, 'join': 2523, 'lifelong': 2663, 'arithmetic': 316, 'continuous': 1003, 'cryptography': 1109, 'hashing': 2115, 'blockchain': 527, 'decentralized': 1184, 'transaction': 4638, 'users': 4776, 'requires': 3869, 'books': 543, 'basics': 460, 'nontechnical': 3056, 'internet': 2444, 'money': 2944, 'volume': 4868, 'encryption': 1572, 'hash': 2114, 'publickey': 3646, 'string': 4363, 'verification': 4824, 'validation': 4792, 'password': 3259, 'intro': 2463, 'everyday': 1680, 'check': 710, 'news': 3045, 'log': 2710, 'companies': 849, 'interact': 2422, 'send': 4094, 'requests': 3864, 'helpful': 2136, 'alongside': 216, 'tech': 4517, 'projects': 3587, 'interacting': 2423, 'number': 3082, 'recognise': 3751, 'comfortable': 827, 'documentation': 1400, 'protecting': 3615, 'patent': 3263, 'backgrounds': 438, 'useful': 4774, 'protect': 3613, 'commercial': 833, 'combination': 815, 'illustrate': 2239, 'interesting': 2433, 'valid': 4790, 'cost': 1056, 'expect': 1723, 'enjoy': 1594, 'copyright': 1043, 'trademark': 4627, 'innovation': 2361, 'property': 3603, 'utility': 4781, 'economy': 1477, 'late': 2598, 'globalization': 2030, 'apparent': 271, 'integration': 2409, 'markets': 2789, 'authors': 404, 'consulting': 983, 'firms': 1860, 'profits': 3572, 'decades': 1182, 'realities': 3734, 'mean': 2824, 'cultural': 1118, 'economic': 1473, 'convergence': 1022, 'forces': 1888, 'seeks': 4065, 'crosscultural': 1103, 'relationship': 3821, 'host': 2184, 'today': 4600, 'begins': 478, 'relationships': 3822, 'deeper': 1194, 'marketplace': 2788, 'got': 2041, 'matters': 2814, 'complexities': 880, 'tevaluate': 4547, 'international': 2442, 'trade': 4626, 'regulations': 3810, 'operate': 3137, 'imba': 2251, 'offered': 3113, 'illinois': 2236, 'fullyaccredited': 1944, 'mba': 2822, 'incredibly': 2305, 'competitive': 867, 'price': 3507, 'competitiveness': 868, 'foreign': 1892, 'direct': 1330, 'trading': 4630, 'disability': 1339, 'inclusion': 2295, 'education': 1490, 'millions': 2898, 'children': 720, 'fully': 1943, 'participate': 3241, 'especially': 1646, 'disabilities': 1338, 'support': 4426, 'teachers': 4510, 'meet': 2851, 'severe': 4131, 'profound': 3573, 'hearing': 2127, 'consider': 956, 'talking': 4483, 'inclusive': 2296, 'experiences': 1728, 'possible': 3440, 'supported': 4428, 'empowered': 1558, 'accessible': 72, 'exactly': 1689, 'specific': 4274, 'classroom': 758, 'hard': 2109, 'low': 2735, 'vision': 4851, 'impairment': 2262, 'verified': 4825, 'achievements': 90, 'optional': 3158, 'aid': 192, 'unable': 4718, 'fee': 1823, 'strengthening': 4360, 'south': 4250, 'africa': 169, 'mission': 2911, 'european': 1671, 'justice': 2539, 'empowerment': 1560, 'causality': 661, 'child': 718, 'psychology': 3640, 'cybersecurity': 1142, 'cyber': 1140, 'gives': 2024, 'attacks': 374, 'threats': 4584, 'individuals': 2316, 'terminology': 4538, 'examined': 1693, 'importance': 2273, 'pursue': 3658, 'era': 1640, 'wants': 4884, 'jr': 2532, 'digital': 1321, 'badge': 443, 'fit': 1863, 'collaborating': 798, 'worlds': 4968, 'careers': 646, 'match': 2800, 've': 4813, 'considered': 959, 'hour': 2190, 'recommendations': 3758, 'hot': 2187, 'regulation': 3809, 'forensics': 1894, 'cybercrime': 1141, 'penetration': 3297, 'goldman': 2037, 'sachs': 3982, '10000': 3, 'womenbeginnerthis': 4942, 'women': 4941, 'collection': 805, 'entrepreneurs': 1617, 'acquisition': 99, 'expand': 1719, 'evaluate': 1672, 'profile': 3566, 'exercises': 1714, 'discovering': 1352, 'approaching': 288, 'strategically': 4350, 'cash': 657, 'flow': 1870, 'predict': 3465, 'choices': 726, 'offers': 3115, 'truly': 4685, 'freedom': 1930, 'tailor': 4476, 'journey': 2529, 'individual': 2314, 'thorough': 4575, 'valuation': 4796, 'options': 3159, 'funds': 1957, 'banking': 451, 'loan': 2704, 'equity': 1638, 'entrepreneurship': 1618, 'foundations': 1917, 'objectivec': 3095, 'app': 270, 'extensive': 1762, 'ios': 2493, 'mac': 2739, 'laptop': 2589, 'willing': 4929, 'simulator': 4193, 'os': 3185, 'windows': 4932, 'explaining': 1739, 'scope': 4031, 'grasp': 2060, 'objects': 3098, 'professionally': 3559, 'prototype': 3622, 'swift': 4449, 'mobileandwebdevelopment': 2922, 'mobile': 2921, 'android': 244, 'introduces': 2466, 'devices': 1289, 'notifications': 3072, 'multimedia': 2978, 'graphics': 2058, 'incorporating': 2300, 'touch': 4617, 'shell': 4151, 'gui': 2078, 'graphical': 2057, 'analyzing': 239, 'attractiveness': 383, 'factors': 1790, 'contribute': 1008, 'step': 4334, 'wanting': 4883, 'evaluating': 1674, 'immediate': 2252, 'competitors': 869, 'suppliers': 4423, 'entering': 1605, 'segment': 4067, 'entrepreneurial': 1616, 'logical': 2713, 'helping': 2137, 'validate': 4791, 'acquired': 97, 'supply': 4425, 'chain': 682, 'actionable': 104, 'improvement': 2281, 'enables': 1564, 'strengths': 4361, 'gaps': 1971, 'weaknesses': 4899, 'realize': 3736, 'years': 4985, 'selection': 4074, 'prioritization': 3522, 'action': 103, 'advertisement': 156, 'selfassessment': 4078, 'criteria': 1095, 'motivation': 2959, 'competence': 860, 'integrating': 2408, 'scripts': 4040, 'scene': 4015, 'unity': 4743, 'certified': 681, 'artist': 331, 'technologies': 4523, 'certification': 680, 'entry': 1619, 'artists': 333, 'bridge': 571, 'art': 325, 'aesthetics': 161, 'challenged': 686, 'realistic': 3733, 'aligned': 207, 'covered': 1072, 'kitchen': 2560, 'lets': 2644, 'rendering': 3843, 'customize': 1134, 'adapt': 117, 'vr': 4873, 'bringing': 576, 'space': 4252, 'functioning': 1949, 'stages': 4306, 'production': 3551, 'paying': 3279, 'enthusiasts': 1609, 'verify': 4826, '12': 6, 'implementing': 2270, 'proficient': 3565, 'importing': 2276, 'creation': 1081, 'prototyping': 3624, 'lighting': 2667, 'adding': 124, 'particles': 3245, '2d': 32, 'asset': 351, 'animation': 251, 'lifecycle': 2662, 'multiplatform': 2980, 'xr': 4981, 'ar': 296, 'interactivity': 2427, 'game': 1966, 'voices': 4867, 'uncertainty': 4720, 'inequalities': 2321, 'young': 4992, 'sustainable': 4447, 'enhancing': 1593, 'powered': 3450, 'universities': 4748, 'partnership': 3251, 'youth': 4994, 'lab': 2575, 'local': 2705, 'starting': 4318, 'existing': 1716, 'initiative': 2353, 'experienced': 1727, 'losses': 2731, 'enterprise': 1606, 'connect': 944, 'asking': 340, 'walk': 4879, 'brainstorming': 559, 'personaldevelopment': 3319, 'managing': 2768, 'diabetes': 1292, 'food': 1885, 'face': 1776, 'suffer': 4404, 'holistic': 2170, 'nurse': 3087, 'staff': 4304, 'scenario': 4013, 'ahead': 190, 'event': 1676, 'emergency': 1536, 'reasons': 3745, 'schools': 4024, 'promote': 3591, 'conditions': 923, 'let': 2643, 'medication': 2844, 'capstoneadvancedthe': 638, 'integrates': 2407, 'involve': 2488, 'situation': 4199, 'concerning': 909, 'stakeholder': 4307, 'engagement': 1582, 'geography': 2008, 'chosen': 731, 'country': 1062, 'pricing': 3509, 'segmentation': 4068, 'corporate': 1046, 'target': 4487, 'added': 122, 'center': 669, 'parents': 3236, 'family': 1807, 'friends': 1937, 'caregivers': 649, 'educators': 1492, 'workers': 4955, 'neighbors': 3030, 'members': 2856, 'seen': 4066, 'aimed': 194, 'centre': 673, 'home': 2172, 'plays': 3398, 'valuable': 4795, 'greater': 2063, 'reach': 3719, 'participating': 3242, 'society': 4222, 'brain': 557, 'input': 2365, 'programme': 3575, 'empower': 1557, 'team': 4514, 'educate': 1488, 'rights': 3934, 'empowering': 1559, 'purposes': 3657, 'developmental': 1284, 'autism': 405, 'facilitation': 1783, 'movement': 2966, 'acquainted': 95, 'overcome': 3198, 'barriers': 454, 'past': 3260, 'environments': 1624, 'visually': 4861, 'affects': 166, 'differently': 1314, 'expanded': 1720, 'core': 1045, 'observation': 3100, 'assessments': 350, 'differentiation': 1313, 'styles': 4384, 'psychosocial': 3641, 'intercultural': 2430, 'conflict': 937, 'resolution': 3880, 'growing': 2074, 'considering': 960, 'pace': 3206, 'transactions': 4639, 'ease': 1457, 'transportation': 4661, 'frequency': 1933, 'crossborder': 1102, 'talent': 4481, 'fostering': 1914, 'day': 1166, 'cultures': 1120, 'examine': 1692, 'complicated': 883, 'dimensions': 1328, 'dynamics': 1447, 'relations': 3820, 'psychological': 3638, 'office': 3116, 'administration': 138, 'problems': 3533, 'potentially': 3447, 'spaces': 4254, 'estimating': 1661, 'supervised': 4419, 'agents': 178, 'carefully': 648, 'discrimination': 1355, 'monte': 2948, 'carlo': 650, 'extended': 1759, 'approximation': 294, 'construction': 978, 'rl': 3941, 'representation': 3855, 'conclude': 912, 'policies': 3414, 'investigate': 2477, 'prerequisites': 3486, 'strongly': 4367, 'builds': 593, 'expectations': 1724, 'algebra': 200, 'approximate': 292, 'objectives': 3096, 'aggregation': 181, 'fixed': 1867, 'difficulties': 1318, 'exploration': 1744, 'moving': 2971, 'contrast': 1007, 'discounted': 1346, 'versus': 4830, 'average': 420, 'formulation': 1908, 'discrete': 1354, 'descent': 1247, 'reinforcement': 3813, 'markov': 2790, 'keyboard': 2550, 'shortcuts': 4161, 'subject': 4386, 'context': 996, 'dynamic': 1445, 'lessons': 2642, 'taught': 4494, 'established': 1654, 'respected': 3886, 'commonwealth': 841, 'strengthen': 4359, 'professionalism': 3558, 'connection': 947, 'colleagues': 801, 'globe': 2032, 'missed': 2909, 'domains': 1407, 'teacher': 4509, 'enhance': 1590, 'joining': 2524, 'website': 4905, 'facebook': 1777, 'interpersonal': 2446, 'educational': 1491, 'thought': 4576, 'force': 1887, 'mapping': 2779, 'rate': 3709, 'happens': 2106, 'involved': 2489, 'chances': 690, 'organisational': 3170, 'settings': 4128, 'competing': 865, 'sports': 4291, 'having': 2116, 'habit': 2088, 'equip': 1634, 'methodologies': 2876, 'lesson': 2641, 'telephone': 4525, 'calibratedthis': 612, 'speak': 4261, 'tutorial': 4698, 'b2b': 432, 'ecommerce': 1471, 'going': 2036, 'better': 497, 'tips': 4598, 'speed': 4282, 'regularly': 3807, 'engineers': 1587, 'regionscomputer': 3795, 'progress': 3581, 'bar': 453, 'western': 4919, 'legal': 2635, 'origins': 3184, 'right': 3933, 'usa': 4767, 'protected': 3614, 'constitutional': 972, '4th': 42, 'crucial': 1105, 'citizen': 742, 'consumer': 984, 'laws': 2606, 'dealing': 1172, 'communications': 845, 'searches': 4047, 'successfully': 4403, 'developments': 1285, 'personally': 3322, 'japanese': 2512, 'beginners': 476, 'extremely': 1772, 'recent': 3749, 'east': 1460, 'department': 1229, 'japan': 2511, 'texts': 4552, 'characters': 702, 'vocabulary': 4864, 'situations': 4200, 'form': 1897, 'sentences': 4102, 'lot': 2732, 'conversational': 1024, 'phrases': 3354, 'units': 4742, 'oral': 3161, 'acquiring': 98, 'fluency': 1872, 'linguistics': 2680, 'korean': 2570, 'otherlanguages': 3186, 'serve': 4114, 'reviews': 3922, 'leads': 2619, 'summary': 4417, 'associations': 362, 'demographic': 1218, 'compute': 895, 'datasets': 1162, 'open': 3131, 'source': 4247, 'toolkit': 4606, 'interviews': 2461, 'directions': 1333, 'recursively': 3772, 'enumerable': 1620, 'preference': 3472, 'masters': 2798, 'specialisation': 4266, 'epidemiological': 1627, 'major': 2754, 'combat': 814, 'distribution': 1379, 'trends': 4674, 'scale': 4007, 'improved': 2280, 'inequality': 2322, 'lie': 2659, 'measured': 2831, 'ends': 1577, 'patterns': 3276, 'introducing': 2467, 'structural': 4368, 'determinants': 1272, 'factor': 1787, 'chisquared': 724, 'age': 171, 'architectural': 304, 'shall': 4136, 'arose': 320, 'cities': 741, 'centuries': 674, 'appreciation': 285, 'middle': 2891, 'ages': 179, 'ageing': 172, 'conditional': 921, 'execute': 1708, 'contract': 1005, 'computational': 893, 'element': 1520, 'contracts': 1006, 'complexity': 881, 'cryptocurrency': 1107, 'protocols': 3621, 'domain': 1406, 'properly': 3601, 'result': 3901, 'autonomous': 416, 'efficient': 1500, 'designing': 1259, 'ide': 2221, 'demos': 1225, 'monitor': 2946, 'deployment': 1239, 'ethereum': 1665, 'fps': 1923, 'weapon': 4901, 'onehour': 3124, 'covers': 1074, 'configuring': 935, 'gun': 2086, 'player': 3395, 'hold': 2166, 'drop': 1437, 'mouse': 2965, 'inputs': 2366, 'damage': 1147, 'targets': 4490, 'lastly': 2597, 'standalone': 4310, 'serves': 4119, 'camera': 618, 'wellrounded': 4917, 'annotation': 253, 'lines': 2678, 'parenting': 3235, 'homeland': 2173, 'respect': 3885, 'destruction': 1266, 'resulting': 3903, 'attack': 373, 'infrastructure': 2345, 'survey': 4440, 'technological': 4522, 'profession': 3556, 'crime': 1090, 'surveillance': 4439, 'tradeoff': 4628, 'consumers': 985, 'accountability': 80, 'paid': 3213, 'sure': 4433, 'delivering': 1212, 'quality': 3673, 'personalized': 3321, 'ecosystem': 1478, 'delivery': 1213, 'demands': 1216, 'players': 3396, 'operates': 3138, 'articulate': 327, 'facing': 1785, 'emotion': 1540, 'insurance': 2401, 'voice': 4866, 'nutrition': 3090, 'ecosystems': 1479, 'examines': 1694, 'played': 3394, 'historically': 2162, 'aims': 195, 'significance': 4176, 'came': 617, 'remains': 3838, 'significant': 4177, 'documents': 1401, 'perceived': 3300, 'radical': 3692, 'continues': 1000, 'numerous': 3085, 'debates': 1177, 'took': 4603, '2015': 19, 'authority': 402, 'constitution': 971, 'converter': 1028, 'credit': 1087, 'ecea': 1466, 'cu': 1115, 'boulder': 553, 'switchedmode': 4451, 'circuits': 738, 'converters': 1029, 'switching': 4453, 'times': 4595, 'equivalent': 1639, 'circuit': 737, 'refined': 3781, 'mode': 2925, 'analyzed': 238, 'wellknown': 4915, 'transformer': 4647, 'isolation': 2500, 'homework': 2174, 'boost': 545, 'forward': 1911, 'assumed': 364, 'prerequisite': 3485, 'topology': 4610, 'simulation': 4191, 'electronic': 1518, 'animals': 249, 'explores': 1748, 'institutions': 2391, 'laboratory': 2578, 'transformation': 4643, 'meat': 2835, 'perspectives': 3326, 'committed': 837, 'entertainment': 1608, 'attention': 379, 'animal': 248, 'lens': 2638, 'dilemmas': 1324, 'veterinary': 4832, 'try': 4687, 'hand': 2095, 'interventions': 2458, 'duke': 1442, 'artistic': 332, 'director': 1335, 'presents': 3493, 'contemporary': 993, 'wider': 4926, 'spatial': 4260, 'politics': 3419, 'experimental': 1731, 'guest': 2077, 'encouraged': 1569, 'treat': 4665, 'medium': 2850, 'offer': 3112, 'search': 4046, 'rock': 3951, 'therapy': 4567, 'media': 2841, 'genetics': 2001, 'advances': 151, 'affected': 164, 'ethical': 1666, 'genetic': 2000, 'enhancement': 1592, 'ethics': 1667, 'modified': 2933, 'organisms': 3172, 'genomics': 2006, 'agriculture': 189, 'stem': 4333, 'cell': 666, 'dna': 1393, 'profiling': 3568, 'comparative': 852, 'russian': 3980, 'peter': 3330, 'uc': 4712, 'explains': 1740, 'events': 1677, 'actors': 111, 'latex': 2601, 'essay': 1648, 'war': 4885, 'packet': 3210, 'deal': 1171, 'perspective': 3325, 'external': 1764, 'addressing': 131, 'routing': 3969, 'procedures': 3536, 'random': 3699, 'detection': 1271, 'shortest': 4162, 'computersecurityandnetworks': 900, 'transgender': 4649, 'comprehensive': 889, 'meant': 2829, 'primary': 3512, 'patients': 3273, 'led': 2632, 'faculty': 1793, 'surgery': 4435, 'mount': 2963, 'sinai': 4195, 'icahn': 2218, 'york': 4990, 'city': 744, 'frame': 1924, 'sea': 4044, 'subsequent': 4392, 'determination': 1273, 'men': 2859, 'epigenetic': 1629, 'gene': 1988, 'genome': 2003, 'transformed': 4646, 'biology': 516, 'isn': 2499, 'genes': 1999, 'controlled': 1015, 'answer': 255, 'decade': 1181, 'clear': 762, 'contributes': 1010, 'cancer': 624, 'division': 1390, 'instances': 2384, 'behave': 479, 'mutations': 2992, 'stability': 4302, 'importantly': 2275, 'unlike': 4753, 'sensitive': 4098, 'diet': 1305, 'phenomena': 3337, 'readings': 3730, 'obtained': 3106, 'spring': 4296, 'press': 3495, 'edition': 1485, 'reproductive': 3862, 'expression': 1756, 'hiring': 2159, 'hire': 2157, 'knows': 2567, 'passion': 3257, 'fake': 1800, 'means': 2828, 'align': 206, 'convey': 1031, 'candidate': 626, 'resume': 3905, 'letter': 2645, 'interviewing': 2460, 'ii': 2233, 'formats': 1902, 'happen': 2103, 'happening': 2105, '35': 36, 'say': 4003, 'tell': 4527, 'salary': 3988, 'negotiation': 3028, 'putting': 3660, 'variations': 4806, 'persuasive': 3328, 'qualifications': 3670, 'manner': 2774, 'employer': 1553, 'hidden': 2144, 'lean': 2620, 'manufacturing': 2776, 'methodology': 2877, 'mindset': 2903, 'advantage': 153, 'struggle': 4373, 'combines': 821, 'senior': 4095, 'boston': 550, 'group': 2070, 'des': 1246, 'brings': 577, 'driver': 1433, 'drive': 1431, 'stream': 4353, 'streams': 4357, 'mysql': 2994, 'workbench': 4953, 'acts': 112, 'integrated': 2406, 'draw': 1425, 'diagram': 1297, 'sensors': 4100, 'sensor': 4099, 'drives': 1435, 'solid': 4229, 'things': 4570, 'azure': 431, 'studiobeginnerin': 4380, 'studio': 4379, 'dataset': 1161, 'count': 1060, 'corresponding': 1054, 'weather': 4902, 'certain': 677, 'run': 3976, 'experiment': 1730, 'fourth': 1921, 'highly': 2153, 'proceeding': 3538, 'instructions': 2394, '200': 15, 'worth': 4971, 'rhyme': 3928, 'instant': 2385, 'preconfigured': 3464, 'desktops': 1264, 'containing': 991, 'jupyter': 2537, 'scikitlearn': 4030, 'preinstalled': 3476, 'notes': 3070, 'forest': 1896, 'randomness': 3701, 'cad': 605, 'cnc': 784, 'computeraided': 897, 'machines': 2742, 'autodesk': 407, 'fusion': 1959, '360': 37, 'ensure': 1601, 'ground': 2069, 'cut': 1136, 'geometry': 2010, 'gets': 2015, 'cadcam': 606, 'credential': 1086, 'recognition': 3752, 'linkedin': 2683, 'signal': 4173, 'latest': 2600, 'generative': 1996, 'autocad': 406, 'mechanicalengineering': 2837, 'heard': 2126, 'computers': 898, 'instead': 2386, 'telling': 4528, 'broad': 578, 'definition': 1204, 'disaster': 1341, 'abstraction': 58, 'identification': 2226, 'decomposition': 1190, 'dissemination': 1373, 'focusing': 1880, 'trend': 4673, 'detect': 1269, 'turn': 4694, 'noncommunicable': 3051, 'chronic': 735, 'prevention': 3502, 'antimicrobial': 262, 'resistance': 3878, 'regional': 3793, 'national': 3007, 'agencies': 173, 'applying': 282, 'familiarize': 1805, 'torque': 4613, 'sharp': 4145, 'civil': 746, 'heart': 2128, 'browsers': 584, 'location': 2708, 'networking': 3035, 'address': 128, 'little': 2696, 'spacecraft': 4253, 'employ': 1549, 'rigid': 3935, 'body': 536, 'kinematics': 2556, 'kinetics': 2557, 'exciting': 1705, 'craft': 1076, 'vehicle': 4816, 'orbit': 3162, 'determining': 1277, 'desired': 1262, 'reference': 3778, 'attitude': 380, 'pointing': 3411, 'generation': 1995, 'gathering': 1979, 'threedimensional': 4585, 'ensures': 1602, 'satellite': 3998, 'undergoing': 4723, 'motion': 2955, 'orientation': 3180, 'planet': 3384, 'evaluated': 1673, 'component': 884, 'employed': 1550, 'error': 1643, 'numerical': 3084, 'simulate': 4189, '11': 5, 'develops': 1286, 'cars': 653, 'framing': 1927, 'physicsandastronomy': 3362, 'imagery': 2246, 'healing': 2119, 'wellbeing': 4914, 'appropriate': 289, 'minnesota': 2906, 'nursing': 3089, 'contact': 987, 'hours': 2191, 'ce': 665, 'selfdocumenting': 4081, 'regulatory': 3811, 'confirm': 936, 'fulfill': 1941, 'approved': 291, 'meditation': 2848, 'counseling': 1059, 'psychotherapy': 3642, 'architect': 301, 'culminating': 1117, 'site': 4197, 'act': 101, 'undergraduate': 4724, 'intriguing': 2462, 'primarily': 3511, 'professors': 3563, 'spain': 4255, 'train': 4635, 'minds': 2902, 'inspiration': 2373, 'concludes': 913, 'composition': 887, 'locations': 2709, 'executive': 1711, 'award': 424, 'winning': 4934, 'architects': 303, 'interior': 2437, 'landscape': 2584, 'resilient': 3877, 'streaming': 4354, 'processing': 3541, 'realtime': 3741, 'metrics': 2879, 'pipelines': 3374, 'transformations': 4644, 'records': 3765, 'optimization': 3154, 'mathematical': 2807, 'publish': 3647, 'impossible': 2277, 'viewpoints': 4840, 'bad': 442, 'negative': 3025, 'proper': 3600, 'yield': 4988, 'navigate': 3014, 'mastery': 2799, 'employee': 1551, 'sociology': 4223, 'conduct': 924, 'suitable': 4411, 'graphic': 2056, 'sdgs': 4042, 'excited': 1704, 'upcoming': 4759, 'unprecedented': 4755, 'societies': 4221, 'grow': 2073, 'seek': 4063, 'pressing': 3496, 'climate': 769, 'biodiversity': 511, 'degradation': 1206, 'inquiry': 2367, 'applied': 279, 'placed': 3379, 'tradeoffs': 4629, 'depth': 1241, 'united': 4741, 'nations': 3009, 'relate': 3814, 'achieving': 91, 'circular': 739, 'conducted': 925, 'copenhagen': 1040, 'healthy': 2124, 'eating': 1463, 'mental': 2860, 'ingredients': 2348, 'root': 3960, 'eit': 1506, 'cardiovascular': 643, 'acceptance': 68, 'lifestyle': 2665, 'disorders': 1366, 'vocal': 4865, 'physiology': 3364, '40': 41, 'resulted': 3902, 'gap': 1970, 'entirely': 1611, 'pathology': 3267, 'massive': 2794, 'exposed': 1752, 'cme': 783, 'accreditation': 84, 'min': 2899, 'anatomy': 240, '20': 14, 'effort': 1502, 'examination': 1691, 'intervention': 2457, 'release': 3826, 'date': 1163, '2019': 23, 'estimated': 1659, 'credits': 1089, 'md': 2823, 'physicians': 3360, 'earning': 1454, 'professions': 3561, 'attendance': 378, 'signature': 4175, 'registration': 3802, 'longer': 2719, 'request': 3863, 'downloading': 1419, 'paul': 3277, 'disorder': 1365, 'tricky': 4679, 'recording': 3763, 'demonstrations': 1224, 'grade': 2048, 'formal': 1898, 'assistant': 357, 'adjective': 134, 'tdistribution': 4507, 'thousand': 4578, 'speakers': 4263, 'dramatically': 1424, 'deliver': 1210, 'huge': 2203, 'message': 2867, 'self': 4077, 'breaches': 566, 'occur': 3108, 'nearly': 3018, 'vectors': 4815, 'commonly': 839, 'fear': 1817, 'keeping': 2544, 'secure': 4057, 'carried': 651, 'sense': 4096, 'vulnerability': 4876, 'wireless': 4936, 'breach': 565, 'exploit': 1743, 'threat': 4583, 'layout': 2611, 'given': 2023, 'explanation': 1741, 'piece': 3370, 'month': 2949, 'birth': 521, 'spinner': 4285, 'menu': 2864, 'selects': 4075, 'beneath': 490, 'button': 601, 'indicate': 2311, 'prefer': 3471, 'box': 555, 'visit': 4853, 'upload': 4762, 'persistent': 3315, 'files': 1837, 'ontouch': 3129, 'genomic': 2005, 'measure': 2830, 'molecular': 2939, 'sequencing': 4111, 'rna': 3942, 'generated': 1992, 'bioinformatics': 513, 'biostatistics': 519, 'safety': 3985, 'budget': 587, 'initiatives': 2354, 'conducting': 926, 'risks': 3940, 'failure': 1795, 'engaging': 1583, 'maximization': 2817, 'augmented': 394, 'characteristics': 700, 'collect': 802, 'linguistic': 2679, 'corpus': 1049, 'australian': 397, 'macroeconomic': 2744, 'attributes': 384, 'discusses': 1358, 'influenced': 2331, 'domestic': 1408, 'policymakers': 3416, 'monetary': 2943, 'fiscal': 1862, 'crisis': 1094, 'discussions': 1361, 'centered': 670, 'sound': 4245, 'applicable': 276, 'pertaining': 3329, 'conventional': 1020, 'training': 4637, 'australia': 396, 'bayesian': 466, 'lecture': 2628, 'prompts': 3597, 'peerreviewed': 3294, 'watching': 4891, 'package': 3207, 'comfort': 826, 'probability': 3529, 'sampling': 3993, 'apps': 295, 'push': 3659, 'beta': 496, 'tutorials': 4699, 'toolbox': 4605, 'bring': 575, 'capabilities': 631, 'talk': 4482, 'messages': 2868, 'instagram': 2378, 'json': 2533, 'appropriately': 290, 'http': 2198, 'https': 2199, 'perfect': 3303, 'obtain': 3105, 'permissions': 3312, 'remote': 3841, '13': 7, '14': 8, 'apple': 275, 'cryptographic': 1108, 'developer': 1280, '3rd': 40, 'party': 3254, '15': 9, '16': 12, 'authentication': 399, 'improving': 2284, 'math': 2805, 'discovered': 1350, 'excellent': 1700, 'shows': 4168, 'playing': 3397, 'factorial': 1788, 'directory': 1337, 'compare': 853, 'proteins': 3619, 'genomes': 2004, 'tree': 4671, 'showing': 4166, 'evolved': 1686, 'half': 2093, 'evolutionary': 1684, 'papers': 3226, 'resolve': 3881, 'finding': 1849, 'origin': 3182, 'humans': 2208, 'old': 3120, 'prove': 3626, 'fossil': 1912, 'closely': 774, 'ebola': 1464, 'phylogenetic': 3355, 'phylogenetics': 3356, 'biotechnology': 520, 'exception': 1701, 'pythonbeginnerin': 3667, 'differences': 1308, 'errors': 1644, 'raise': 3695, 'normal': 3058, 'built': 594, 'highquality': 2155, 'encounter': 1566, 'cope': 1039, 'meaningful': 2826, 'aspect': 341, 'demonstrating': 1222, 'compiler': 871, 'fintech': 1855, 'executives': 1712, 'react': 3721, 'asia': 336, 'ranked': 3705, 'independent': 2306, 'surveys': 4442, 'outside': 3196, 'worldwide': 4969, 'adoption': 144, 'stock': 4338, 'literacy': 2694, 'participation': 3243, 'awareness': 427, 'efficiently': 1501, 'reliability': 3829, 'sources': 4248, 'wide': 4924, 'integrity': 2411, 'surrounding': 4438, 'identity': 2231, 'connecting': 946, 'moments': 2941, 'diagrams': 1298, 'held': 2133, 'collected': 803, 'contexts': 997, 'statements': 4324, 'analysts': 233, 'portfolio': 3429, 'employers': 1554, 'collecting': 804, 'increasing': 2303, 'amounts': 225, 'novel': 3075, 'notion': 3073, 'relation': 3818, 'flows': 1871, 'titled': 4599, 'pedagogy': 3290, 'contain': 988, 'simpler': 4185, 'confront': 940, 'correlation': 1053, 'dependence': 1232, 'debt': 1178, 'hired': 2158, 'attain': 375, 'organizational': 3174, 'employment': 1556, 'appraisal': 283, 'channel': 695, 'nowadays': 3077, 'plans': 3387, 'combining': 822, 'positioning': 3434, 'retail': 3906, 'industries': 2319, 'guides': 2083, 'revolution': 3925, 'crm': 1100, 'stay': 4331, 'uptodate': 4763, 'points': 3412, 'reallife': 3738, 'category': 660, 'mix': 2916, 'outlines': 3193, 'tactics': 4475, 'financing': 1848, 'launching': 2604, 'addressed': 129, 'initial': 2351, 'reaching': 3720, 'customers': 1132, 'startup': 4320, 'forecasting': 1890, 'projections': 3586, 'forecast': 1889, 'ultimately': 4715, 'games': 1967, 'influences': 2333, 'inform': 2338, 'themes': 4560, 'navigation': 3016, 'weekly': 4908, 'prompt': 3596, 'proof': 3599, 'reality': 3735, 'relates': 3816, 'eigenvalues': 1505, 'images': 2247, 'datadriven': 1157, 'notebooks': 3068, 'worry': 4970, 'intuitive': 2471, 'linearity': 2677, 'vector': 4814, 'matrix': 2812, 'campus': 622, 'democracy': 1217, 'teachout': 4513, 'discourse': 1348, 'states': 4326, '20th': 26, '21st': 27, 'michigan': 2883, 'journalism': 2527, 'productive': 3552, 'period': 3308, 'diverse': 1384, 'conversation': 1023, 'um': 4716, 'focused': 1878, 'multitude': 2982, 'pride': 3510, 'constantly': 969, 'evolving': 1687, 'uncover': 4722, 'thriving': 4588, 'appeal': 272, 'parent': 3234, 'controls': 1018, 'eyes': 1775, 'ict': 2220, 'designs': 1260, 'suit': 4410, 'globally': 2031, 'beliefs': 487, 'influence': 2330, 'opinions': 3146, 'citizens': 743, 'facts': 1791, 'transmitted': 4658, 'received': 3747, 'habits': 2089, 'consumption': 986, 'reactions': 3723, 'handouts': 2099, 'informal': 2339, 'chance': 689, 'portfolios': 3430, 'intermediatelevel': 2439, 'receiving': 3748, 'trigonometric': 4681, 'integral': 2404, 'acoustics': 94, 'phenomenon': 3338, 'equation': 1631, 'condition': 920, 'rank': 3704, 'qualitative': 3671, 'interpretation': 2449, 'iterative': 2508, 'analysing': 230, 'mixing': 2918, 'quantitative': 3675, 'century': 675, 'coherent': 796, 'invitation': 2485, 'glimpse': 2027, 'refer': 3777, 'shaped': 4138, 'paradigms': 3229, 'opinion': 3145, 'straightforward': 4347, 'stories': 4343, 'meaning': 2825, 'changed': 692, 'describes': 1249, 'promoted': 3592, 'ordinary': 3166, 'futures': 1961, 'guidance': 2079, 'sharpen': 4146, 'historical': 2161, 'arbitration': 298, 'larger': 2592, 'size': 4201, 'buy': 603, 'configure': 934, 'sap': 3996, 'erp': 1642, 'king': 2558, 'sex': 4132, 'michael': 2882, 'helped': 2135, 'radio': 3693, 'friendly': 1936, 'emergence': 1534, 'rise': 3937, 'heavy': 2131, 'metal': 2872, 'guitar': 2085, 'rockbox': 3952, 'scenarios': 4014, 'teaches': 4511, 'raspberry': 3708, 'pi': 3365, 'microcontroller': 2885, 'capture': 639, 'differentiate': 1311, 'dig': 1320, 'dns': 1395, 'don': 1410, 'road': 3943, 'underlying': 4727, 'graphs': 2059, 'graph': 2055, 'computation': 892, 'slides': 4211, 'prioritize': 3523, 'emotional': 1541, 'notice': 3071, 'quick': 3685, 'achievement': 89, 'comparisons': 856, 'sel': 4070, 'reflect': 3782, 'emotions': 1542, 'coloradoboulder': 811, 'bit': 522, 'passing': 3256, 'graduate': 2052, 'colorado': 810, 'intelligence': 2415, 'mindfulness': 2901, 'valley': 4794, 'donors': 1413, 'largest': 2594, 'donor': 1412, 'startups': 4321, 'yes': 4987, 'ultimate': 4714, 'determined': 1275, 'term': 4537, 'longterm': 2721, 'hear': 2125, 'ranging': 3703, 'engaged': 1581, 'attempts': 377, 'selected': 4072, 'china': 721, 'communities': 846, 'weve': 4920, 'live': 2697, 'moocs': 2952, 'relatively': 3824, 'documentary': 1399, 'investor': 2483, 'hotel': 2188, 'channels': 696, 'managed': 2763, 'book': 540, 'travel': 4663, 'jump': 2536, 'hospitality': 2182, 'smartphones': 4216, 'printing': 3519, 'promotion': 3594, 'placement': 3380, 'bugs': 590, '101': 4, 'earth': 1456, 'evolve': 1685, 'insects': 2368, 'beneficial': 491, 'biological': 514, 'transmission': 4657, 'groups': 2072, 'diversity': 1386, 'propose': 3605, 'symbolic': 4457, 'visitors': 4854, 'segments': 4069, 'import': 2272, 'converting': 1030, 'pytorch': 3668, 'scandinavian': 4010, 'brand': 562, 'connected': 945, 'progressive': 3582, 'institutional': 2390, 'photography': 3349, 'poets': 3409, 'illustrated': 2240, 'highlights': 2152, 'influential': 2335, 'movements': 2967, 'poetry': 3408, 'score': 4032, 'places': 3381, 'highlight': 2150, 'displays': 1368, 'sounds': 4246, 'difficult': 1317, 'incorporate': 2298, 'textual': 4553, 'typography': 4710, 'exposure': 1753, 'selecting': 4073, 'combinations': 816, 'html': 2196, 'adobe': 142, 'illustrator': 2243, 'photoshop': 3351, 'editing': 1484, 'tensions': 4535, 'modal': 2924, 'berklee': 494, 'george': 2011, 'delve': 1214, 'harmony': 2112, 'ear': 1449, 'constructed': 976, 'chords': 730, 'chord': 729, 'jazz': 2515, 'piano': 3366, 'audio': 387, 'responsive': 3896, 'ux': 4786, 'character': 699, 'print': 3517, 'workings': 4960, 'innovators': 2364, 'informed': 2344, 'securing': 4059, 'voting': 4871, 'elections': 1511, 'distributed': 1378, 'usability': 4768, 'total': 4615, 'portion': 3431, 'minute': 2907, 'asu': 370, 'finite': 1854, 'impacts': 2261, 'fuel': 1940, 'carbon': 641, 'san': 3994, 'diego': 1304, 'wind': 4930, 'synthetic': 4463, 'renewable': 3844, 'environmentalscienceandsustainability': 1623, 'incident': 2289, 'phases': 3335, 'gather': 1977, 'forensic': 1893, 'scripting': 4039, 'fifth': 1832, 'tdescribe': 4504, 'tdiscuss': 4506, 'automatically': 413, 'scratch': 4035, 'packages': 3208, 'accounts': 83, 'mongodb': 2945, 'confer': 927, 'london': 2717, 'broadly': 581, 'paired': 3216, 'sections': 4054, 'distinct': 1375, 'pedagogical': 3288, 'pairs': 3217, 'metadata': 2870, 'tor': 4612, 'selfdriving': 4082, 'ddos': 1169, 'wifi': 4928, 'phishing': 3342, 'bitcoin': 523, 'k12': 2540, 'communicating': 843, 'subsistence': 4395, 'lies': 2660, 'intersection': 2454, 'humanity': 2207, 'implemented': 2269, 'enterprises': 1607, 'proposition': 3607, 'sales': 3990, 'gaming': 1968, 'defines': 1201, 'mechanics': 2838, 'focuses': 1879, 'conceptual': 906, 'underpinnings': 4728, 'easier': 1458, 'links': 2685, 'sites': 4198, 'trip': 4682, 'synthesize': 4462, 'submitted': 4389, 'artifact': 328, 'prep': 3477, 'pathway': 3269, 'foster': 1913, 'loop': 2726, 'logo': 2716, 'ago': 184, 'maybe': 2821, 'matter': 2813, 'expansion': 1722, 'goes': 2035, 'exist': 1715, 'moves': 2968, 'competition': 866, 'normally': 3060, 'onboarding': 3121, 'retention': 3908, 'hopefully': 2179, 'practically': 3454, 'far': 1810, 'mass': 2793, 'sleep': 4210, 'neurobiology': 3038, 'objective': 3094, 'societal': 4220, 'relevance': 3827, 'actively': 108, 'generates': 1993, 'immune': 2255, 'obesity': 3092, 'deaths': 1175, 'causes': 663, 'preventive': 3503, 'oriented': 3181, 'contributed': 1009, 'nuclear': 3080, 'failures': 1796, 'disasters': 1342, 'gauge': 1980, 'infographics': 2337, 'filter': 1841, 'blog': 529, 'designer': 1257, 'consultant': 982, 'speaker': 4262, 'president': 3494, 'ceo': 676, 'leader': 2614, 'reduction': 3776, 'humanitarian': 2205, 'responses': 3892, 'ongoing': 3126, 'curious': 1124, 'defense': 1198, 'git': 2021, 'configuration': 932, 'setup': 4129, 'github': 2022, 'branches': 561, 'codes': 791, 'collaborate': 797, 'administrator': 139, 'alto': 219, 'essentials': 1652, 'maintaining': 2752, 'tdemonstrate': 4503, 'malware': 2760, 'enhanced': 1591, 'cloudbased': 777, 'iot': 2494, 'innovate': 2360, 'constraints': 974, 'hardware': 2110, 'arduino': 308, 'manipulate': 2771, 'regular': 3805, 'linux': 2686, 'bash': 458, 'automatic': 412, 'automate': 410, 'finish': 1852, 'unit': 4740, 'commandline': 830, 'supportandoperations': 4427, 'ratios': 3715, 'frontier': 1939, 'utilizing': 4784, 'draws': 1429, 'returns': 3912, 'regions': 3794, 'constitute': 970, 'regulated': 3808, 'unregulated': 4756, 'securities': 4060, 'solution': 4230, 'binary': 508, 'rates': 3710, 'estate': 1656, 'opensource': 3136, 'subsequently': 4393, 'spend': 4283, 'elementary': 1521, 'pdes': 3283, 'classical': 753, 'partial': 3238, 'differential': 1310, 'connections': 948, 'represented': 3858, 'dimension': 1325, 'elasticity': 1509, 'heat': 2129, 'dimensional': 1326, 'scholars': 4021, 'lay': 2608, 'treatments': 4669, '2000': 16, 'fluid': 1874, 'formation': 1900, 'bases': 457, 'directed': 1331, 'lawyers': 2607, 'entities': 1612, 'chief': 717, 'accountants': 81, 'auditors': 390, 'personality': 3320, 'audit': 388, 'fraud': 1928, 'thousands': 4579, 'internality': 2441, 'investigation': 2479, 'summarize': 4415, 'taste': 4493, 'problemsolving': 3534, 'entity': 1614, 'certainly': 678, 'historic': 2160, 'rapidly': 3707, 'advancing': 152, 'wondered': 4945, 'agreements': 187, 'organisations': 3171, 'according': 78, 'luck': 2736, 'decide': 1185, 'car': 640, 'kinds': 2555, 'selling': 4088, 'buying': 604, 'implications': 2271, 'ai': 191, 'competences': 861, 'saving': 4002, 'taxation': 4496, 'corporations': 1048, 'partnerships': 3252, 'limited': 2673, 'liability': 2654, 'judicial': 2534, 'governing': 2045, 'taxes': 4497, 'webbased': 4904, 'articles': 326, '80': 47, 'virginia': 4845, 'raises': 3697, 'cancers': 625, 'reducing': 3775, 'corrosion': 1055, 'water': 4892, 'light': 2666, 'pollution': 3420, 'promoting': 3593, 'disclosure': 1345, 'iteration': 2507, 'assembly': 345, 'assumptions': 366, 'closer': 775, 'workflow': 4956, 'influencing': 2334, 'industrial': 2318, 'criminal': 1092, 'procedure': 3535, 'consent': 953, 'dnas': 1394, 'invited': 2487, 'aging': 183, 'requiring': 3870, 'sustain': 4445, 'differentiated': 1312, 'assist': 356, 'ventures': 4820, 'bond': 537, 'flask': 1868, 'memory': 2858, 'allocation': 212, 'shortcut': 4160, 'accurately': 87, 'precision': 3463, 'transforming': 4648, 'modelling': 2929, 'iv': 2509, 'span': 4256, 'borders': 548, 'gained': 1963, 'incidents': 2290, 'cuttingedge': 1138, 'govern': 2042, 'cooperation': 1036, 'grading': 2051, 'assessed': 347, 'posts': 3445, 'instructional': 2393, 'reviewing': 3921, 'acknowledge': 93, 'thanks': 4557, 'invite': 2486, 'ice': 2219, 'rest': 3897, 'driving': 1436, 'preview': 3504, 'ecology': 1470, 'migration': 2892, 'green': 2066, 'greenhouse': 2067, 'gas': 1972, 'matlab': 2809, 'involving': 2492, 'manipulation': 2773, 'heavily': 2130, 'indispensable': 2313, 'license': 2657, 'charge': 703, 'consult': 981, 'pharmaceutical': 3331, 'deployed': 1237, 'drugs': 1439, 'investments': 2482, 'safe': 3983, 'simulated': 4190, 'agile': 182, 'scrum': 4041, 'astronomy': 369, 'simulations': 4192, 'limits': 2674, 'scientist': 4028, 'studying': 4382, 'black': 524, 'holes': 2169, 'galaxies': 1965, 'stars': 4315, 'classify': 756, 'instruction': 2392, 'accessibility': 71, 'arise': 314, 'pdf': 3284, 'pages': 3212, 'remain': 3836, 'portable': 3428, 'pillars': 3372, 'prevent': 3500, 'essence': 1649, 'tdevelop': 4505, 'tcreate': 4501, 'tuse': 4697, 'labour': 2579, 'apart': 266, 'arrays': 324, 'optimizing': 3156, 'aggregate': 180, 'scalability': 4005, 'beethoven': 472, 'musicians': 2990, 'represents': 3859, 'musically': 2988, 'death': 1174, 'sonatas': 4236, 'improvisation': 2285, 'surprising': 4437, 'embracing': 1532, 'dr': 1420, 'supports': 4431, 'emails': 1528, 'forum': 1909, 'usually': 4779, 'preferences': 3473, 'mining': 2905, 'raw': 3716, 'subset': 4394, 'engines': 1588, 'interpret': 2448, 'node': 3047, 'routes': 3966, 'backend': 436, 'head': 2117, 'ableton': 53, 'featuring': 1820, 'daws': 1165, 'base': 455, 'creators': 1085, 'producers': 3548, 'troubleshooting': 4683, 'andor': 242, 'conception': 904, 'encourages': 1570, 'trial': 4676, 'export': 1750, 'systemic': 4466, 'prepares': 3481, 'decisionmakers': 1187, 'nanotechnology': 3003, 'pass': 3255, 'deviation': 1287, 'algorithmic': 203, 'seeing': 4062, 'photographs': 3348, 'pictures': 3369, '100': 1, 'museum': 2985, 'instrument': 2397, 'histories': 2163, 'critique': 1099, 'update': 4760, 'photo': 3346, '2014': 18, 'outbreaks': 3188, 'emerge': 1533, 'diagnosis': 1294, 'therapeutic': 4565, 'vaccines': 4789, 'ubiquitous': 4711, 'pieces': 3371, 'spreadsheets': 4295, 'brought': 582, 'macro': 2743, 'vba': 4812, 'solver': 4234, 'chinese': 722, 'produced': 3546, 'newly': 3044, 'demonstrates': 1221, 'scholarship': 4022, 'turns': 4696, 'arguably': 311, 'mortality': 2954, 'reproduction': 3861, 'universal': 4746, 'differ': 1306, 'west': 4918, 'seaborn': 4045, 'producing': 3549, 'breast': 570, 'diagnostic': 1295, 'eda': 1480, 'extraction': 1770, 'univariate': 4745, 'principal': 3514, 'classifier': 755, 'auditing': 389, 'clients': 768, 'moral': 2953, 'norms': 3061, 'firm': 1859, 'hosting': 2186, 'completely': 876, 'availability': 418, 'youre': 4993, 'reflection': 3783, 'cycle': 1143, 'competencies': 862, 'status': 4330, 'clouds': 779, 'apigee': 268, 'specifications': 4277, 'utilizes': 4783, 'representational': 3856, 'specification': 4276, 'spark': 4259, 'listen': 2690, 'songs': 4238, 'csv': 1114, 'matplotlib': 2810, 'tour': 4618, 'species': 4273, 'enrollment': 1600, 'february': 1821, '22': 28, 'enrolled': 1598, 'dashboard': 1151, 'fpga': 1922, 'adaptation': 118, 'trying': 4688, 'advantages': 154, 'extra': 1766, 'phase': 3334, 'execution': 1710, 'mentors': 2863, 'funded': 1954, 'administrators': 140, 'despite': 1265, 'probably': 3531, 'urgent': 4766, 'grant': 2054, 'wrong': 4978, 'compliance': 882, 'stands': 4314, 'grouping': 2071, 'easily': 1459, 'priority': 3524, 'enabled': 1563, 'manual': 2775, 'peoples': 3299, 'soul': 4244, 'district': 1382, 'firsthand': 1861, 'movie': 2969, 'europe': 1670, 'martin': 2791, 'founder': 1919, 'native': 3010, 'reproducible': 3860, 'claims': 748, 'computations': 894, 'reported': 3849, 'rsa': 3972, 'block': 526, 'cipher': 736, 'chaining': 683, 'tabular': 4471, 'squares': 4301, 'dimensionality': 1327, 'noise': 3049, 'mathandlogic': 2806, 'living': 2700, 'illnesses': 2238, 'families': 1806, 'illness': 2237, 'pain': 3214, 'confusion': 943, 'weight': 4910, 'hierarchical': 2145, 'cluster': 780, 'clusters': 782, 'output': 3194, 'visualized': 4859, 'illustrations': 2242, 'unsupervised': 4757, 'broaden': 579, 'numpy': 3086, 'plotting': 3404, 'charting': 707, 'measures': 2833, 'translate': 4652, 'charts': 708, 'structuring': 4372, 'visualizing': 4860, 'chart': 705, 'scatter': 4012, 'plot': 3401, 'serving': 4122, '2hour': 33, 'docker': 1396, 'predictions': 3469, 'sport': 4290, 'sponsorship': 4289, 'arising': 315, 'institute': 2387, 'knowing': 2564, 'capable': 633, 'activation': 106, 'externality': 1765, 'tenses': 4534, 'verb': 4821, 'verbs': 4823, 'objectoriented': 3097, 'scalable': 4006, 'injection': 2355, 'presence': 3487, 'establish': 1653, 'calendar': 611, 'tone': 4602, 'ideally': 2224, 'attitudes': 381, 'codebase': 790, 'popularity': 3425, 'childhood': 719, 'affecting': 165, 'facial': 1780, 'foresight': 1895, 'whats': 4921, 'possibilities': 3438, 'empathy': 1543, 'anticipate': 261, 'collective': 807, 'fellow': 1828, 'inventor': 2474, 'offering': 3114, 'defined': 1200, 'possess': 3437, 'worked': 4954, 'approximately': 293, 'pearson': 3287, 'candidates': 627, 'scheduling': 4018, 'schedule': 4017, 'near': 3017, 'urban': 4764, 'naturebased': 3013, 'limit': 2671, 'contributing': 1011, 'pathways': 3270, 'promise': 3590, 'illustration': 2241, 'expanding': 1721, 'audiences': 386, 'deepen': 1193, 'contents': 995, 'depends': 1235, 'lecturers': 2630, 'lecturer': 2629, 'medill': 2847, 'northwestern': 3063, 'copywriting': 1044, 'blogging': 530, 'seo': 4104, 'localization': 2706, 'alignment': 208, 'websites': 4906, 'conclusions': 915, 'reliable': 3830, 'faster': 1815, 'variance': 4804, 'probabilityandstatistics': 3530, 'equipment': 1635, 'mastering': 2797, 'tangible': 4484, 'gear': 1985, 'employing': 1555, 'posting': 3444, 'classmates': 757, 'workstation': 4966, '4week': 43, 'producer': 3547, 'microphone': 2887, 'constructive': 979, 'interconnected': 2429, 'bias': 498, 'seeking': 4064, 'words': 4951, 'excellence': 1699, 'resilience': 3876, 'exceptional': 1702, 'simultaneously': 4194, 'searching': 4048, 'systematically': 4465, 'capacities': 634, 'strength': 4358, 'possibility': 3439, 'viewed': 4838, 'dedicated': 1191, 'thrive': 4587, 'inbound': 2287, 'prospect': 3609, 'prospects': 3611, 'meetings': 2853, 'makers': 2757, 'handle': 2097, 'negotiate': 3026, 'tactical': 4474, 'hubspot': 2202, 'academy': 63, 'plots': 3403, 'advancement': 150, 'consistent': 962, 'pvalue': 3664, 'exists': 1717, 'maximizing': 2819, 'conclusion': 914, 'biomedical': 518, 'universitylevel': 4750, 'controller': 1016, 'robot': 3946, 'academia': 60, 'robotics': 3948, 'analytical': 235, 'skillset': 4206, 'guiding': 2084, 'assemble': 344, 'emphasize': 1545, 'perception': 3301, 'sale': 3989, 'pivot': 3377, 'invaluable': 2472, 'microscopy': 2889, 'electron': 1517, 'fourier': 1920, 'workflows': 4957, 'particle': 3244, 'emphasizes': 1546, 'drawings': 1427, 'em': 1526, 'biologists': 515, 'imaging': 2250, 'primer': 3513, 'trained': 4636, 'biochemistry': 510, 'separated': 4106, 'subjects': 4387, 'protein': 3618, 'microbiology': 2884, 'dominant': 1409, 'deploying': 1238, 'builtin': 595, 'generic': 1997, 'inheritance': 2350, 'reinforce': 3812, 'roughly': 3963, 'reflects': 3785, 'virtually': 4848, 'limitations': 2672, 'motivating': 2958, 'theme': 4559, 'mechanism': 2839, 'governments': 2047, 'alternatives': 218, 'capacity': 635, 'man': 2761, 'optimal': 3153, 'algae': 199, 'consortium': 967, 'feed': 1824, 'productivity': 3553, 'viable': 4833, 'marine': 2783, 'christianity': 733, 'faith': 1799, 'roman': 3956, 'empire': 1547, 'enormous': 1595, 'violence': 4843, 'sweden': 4448, 'narratives': 3005, 'reform': 3786, 'christian': 732, 'jews': 2517, 'jewish': 2516, 'islamic': 2498, 'beauty': 471, 'opening': 3135, 'thomas': 4574, 'geneva': 2002, 'council': 1058, 'john': 2521, 'cross': 1101, 'calls': 616, 'inspired': 2376, 'revealed': 3916, 'union': 4738, 'chapter': 697, 'equilibrium': 1633, 'template': 4531, 'gate': 1974, 'survival': 4443, 'earlier': 1450, 'meanings': 2827, 'descriptive': 1253, 'hospital': 2181, 'round': 3964, 'hypothesis': 2215, 'commands': 831, 'ad': 116, 'correctly': 1052, 'discipline': 1343, 'informatics': 2340, 'drawn': 1428, 'spanning': 4258, 'scales': 4008, 'establishing': 1655, 'customized': 1135, 'pro': 3527, 'pregnancy': 3475, 'nutritional': 3091, 'maternal': 2804, 'subtitles': 4399, 'agricultural': 188, 'land': 2583, 'soil': 4227, 'conservation': 955, 'preventing': 3501, 'unknown': 4752, 'valued': 4799, 'centers': 671, 'identified': 2227, 'named': 2997, 'abroad': 55, 'strain': 4348, 'respiratory': 3888, 'acute': 115, 'signs': 4179, 'kidney': 2553, 'mainly': 2750, 'increased': 2302, 'scanning': 4011, 'recently': 3750, 'billion': 505, 'oxygen': 3205, 'precise': 3462, 'abuse': 59, 'remaining': 3837, 'sessions': 4124, 'ads': 145, 'templates': 4532, 'campaigns': 621, 'advertising': 157, 'card': 642, 'shipping': 4156, 'quantum': 3678, 'necessarily': 3019, 'tailored': 4477, 'permutations': 3313, 'manipulating': 2772, 'rows': 3970, 'columns': 813, 'tthe': 4690, 'summarizing': 4416, 'categorical': 658, 'inspire': 2375, 'inspiring': 2377, 'observe': 3103, 'creatively': 1083, 'pretrained': 3498, 'suite': 4412, 'sentiment': 4103, 'workspace': 4965, 'clickup': 766, 'simplify': 4187, 'streamline': 4355, 'hr': 2194, 'african': 170, 'usage': 4770, 'showcase': 4164, 'edge': 1481, 'argument': 312, 'multidisciplinary': 2976, 'shed': 4147, 'authorities': 401, 'court': 1068, 'agency': 174, 'fight': 1833, 'reduced': 3774, 'psychologies': 3639, 'cycling': 1144, 'paths': 3268, 'simplified': 4186, 'libraries': 2655, 'loops': 2727, 'heritage': 2142, 'tradition': 4631, 'syllabus': 4456, 'goods': 2039, 'darden': 1149, 'topranked': 4611, 'demand': 1215, 'distributive': 1381, 'economies': 1475, 'wealth': 4900, 'youve': 4996, 'register': 3800, 'founded': 1918, 'happiness': 2107, 'rich': 3931, 'mitigate': 2914, 'figures': 1835, 'richard': 3932, 'chicago': 716, 'degrees': 1208, 'rooms': 3959, 'extension': 1760, 'regionsproject': 3797, 'concurrency': 917, 'concurrent': 918, 'wait': 4878, 'cameras': 619, 'rpa': 3971, 'proceed': 3537, 'automated': 411, 'filled': 1838, 'principle': 3515, 'scheme': 4019, 'beam': 468, 'researchmethods': 3874, 'lists': 2692, 'dictionaries': 1300, 'chapters': 698, 'everybody': 1679, 'trust': 4686, 'agent': 176, 'starts': 4319, 'convenient': 1019, 'disputes': 1369, 'courts': 1069, 'tribunals': 4678, 'hague': 2091, 'facets': 1779, 'famous': 1808, 'entire': 1610, 'concrete': 916, 'prominent': 3589, 'navigating': 3015, 'institutes': 2388, 'investors': 2484, 'constraint': 973, 'ells': 1525, 'inner': 2359, 'checklist': 712, 'constant': 968, 'fiction': 1829, 'spanish': 4257, 'tackle': 4472, 'hands': 2100, 'fair': 1797, 'gratitude': 2061, 'hole': 2168, 'dark': 1150, 'relativity': 3825, 'observations': 3102, 'detecting': 1270, 'puzzles': 3662, 'angular': 246, 'invention': 2473, 'mandatory': 2770, 'requirement': 3867, 'plus': 3405, 'doesn': 1403, 'represent': 3854, 'repository': 3853, 'backup': 439, 'subscription': 4390, 'branch': 560, 'merge': 2865, 'mergers': 2866, 'acquisitions': 100, 'arranging': 322, 'coordinate': 1037, 'iron': 2497, 'profit': 3569, 'dollars': 1405, 'stateoftheart': 4325, 'tackling': 4473, 'previously': 3506, 'promotional': 3595, 'distributions': 1380, 'installing': 2382, 'window': 4931, 'remove': 3842, 'discussing': 1359, 'tend': 4533, 'sanitation': 3995, 'crises': 1093, 'waste': 4889, 'django': 1391, 'operators': 3144, 'secondary': 4051, 'kubernetes': 2573, 'devops': 1290, 'practiced': 3456, 'usable': 4769, 'grows': 2075, 'left': 2633, 'commons': 840, 'breakdown': 568, 'feeling': 1827, 'ancient': 241, 'associate': 359, 'lack': 2581, 'insightful': 2371, 'systematic': 4464, 'selfcontained': 4080, 'hopkins': 2180, 'momentum': 2942, 'clips': 772, 'animations': 252, 'predictive': 3470, 'keen': 2543, 'accuracy': 85, 'figure': 1834, 'nurses': 3088, 'physician': 3359, 'assistants': 358, 'yale': 4983, 'classic': 752, 'generous': 1998, 'david': 1164, 'fund': 1951, 'pediatrics': 3291, 'phd': 3336, 'true': 4684, 'parameter': 3232, 'empirical': 1548, 'curve': 1129, 'fitting': 1865, 'tries': 4680, 'staying': 4332, 'aspiring': 343, 'kit': 2559, 'immunology': 2256, 'innate': 2358, 'coordination': 1038, 'complement': 872, 'organs': 3179, 'adaptive': 120, 'pathogens': 3266, 'initiate': 2352, 'signals': 4174, 'pure': 3654, 'mixed': 2917, 'driven': 1432, 'affordable': 168, 'purchased': 3652, 'targeting': 4489, 'influencer': 2332, 'supporting': 4429, 'comments': 832, 'suggestions': 4409, 'contribution': 1012, 'membership': 2857, 'partners': 3250, 'items': 2506, 'awarded': 425, 'renowned': 3845, 'photographers': 3347, 'doubt': 1416, 'criticism': 1098, 'tune': 4692, 'budgets': 589, 'official': 3118, 'click': 764, 'keyword': 2552, 'philosophers': 3339, 'rigorous': 3936, 'lots': 2733, 'definitions': 1205, 'boxes': 556, 'hadoop': 2090, 'transform': 4642, 'velocity': 4818, 'stack': 4303, 'mapreduce': 2780, 'gb': 1982, 'ram': 3698, 'disk': 1364, 'clicking': 765, 'relies': 3831, 'apache': 265, 'downloaded': 1418, 'installed': 2381, 'internationally': 2443, 'paris': 3237, 'improvements': 2282, 'consist': 961, 'respective': 3887, 'diagnose': 1293, 'choosing': 728, 'months': 2950, 'measuring': 2834, 'liquidity': 2687, 'shareholders': 4143, 'august': 395, '2016': 20, 'ratings': 3711, 'tcpip': 4500, 'deeplearningai': 1195, 'edit': 1483, 'distance': 1374, 'nlp': 3046, 'embedding': 1530, 'sectors': 4056, 'daytoday': 1168, 'corporation': 1047, 'entrepreneur': 1615, 'microeconomics': 2886, 'gcp': 1984, 'civilization': 747, 'keys': 2551, 'oil': 3119, 'samples': 3992, 'persons': 3324, 'careful': 647, 'estimate': 1658, 'randomized': 3700, 'estimator': 1663, 'briefly': 574, 'economists': 1476, 'movies': 2970, 'tested': 4543, 'coffee': 793, 'losing': 2729, 'avoiding': 423, 'notation': 3065, 'sigma': 4171, 'plane': 3383, 'describing': 1250, 'bayes': 465, 'theorem': 4561, 'supplier': 4422, 'motors': 2962, 'orders': 3165, 'plants': 3389, 'air': 196, 'selfknowledge': 4084, 'answering': 257, 'involvement': 2490, 'reflective': 3784, 'convert': 1027, 'transitions': 4651, 'secrets': 4052, 'jobs': 2520, 'interests': 2434, 'pharmacy': 3333, 'thoughts': 4577, 'pitfalls': 3376, 'bank': 450, 'rstudio': 3973, 'proactive': 3528, 'duties': 1443, 'bang': 449, 'verse': 4827, 'anthropology': 259, 'welcome': 4912, 'convolutional': 1033, 'diagnostics': 1296, 'profiles': 3567, 'pressure': 3497, 'label': 2576, 'peace': 3286, 'terrorism': 4541, 'bioinformatic': 512, 'accessing': 73, 'studied': 4377, 'separate': 4105, 'metagenomics': 2871, 'undergraduates': 4725, 'pygame': 3665, 'scoring': 4033, 'kpis': 2572, 'maps': 2781, 'route': 3965, 'allocate': 211, 'affiliated': 167, 'traversal': 4664, 'frontend': 1938, 'billions': 506, 'marketers': 2786, 'sell': 4087, 'priorities': 3521, 'blended': 525, 'instructors': 2396, 'adult': 146, 'neurolinguistics': 3040, 'neuroscience': 3041, 'nervous': 3031, 'underlie': 4726, 'accompanying': 75, 'brains': 558, 'fmri': 1876, 'planned': 3385, 'auditory': 391, 'schizophrenia': 4020, 'devoted': 1291, 'longitudinal': 2720, 'hundreds': 2210, 'convolution': 1032, 'debug': 1179, 'kerasbeginnerin': 2548, 'keras': 2547, 'chemicals': 714, 'biochemical': 509, 'fine': 1851, 'sequences': 4110, 'andrew': 243, 'thread': 4581, 'aka': 197, 'selfestablished': 4083, 'dmdrelated': 1392, 'indicators': 2312, 'leveraging': 2650, 'infrastructures': 2347, 'rbeginnerin': 3717, 'similarity': 4183, 'representations': 3857, 'gaussian': 1981, 'inferences': 2327, 'coming': 828, 'elearning': 1510, 'accompanied': 74, 'greatly': 2065, 'switzerland': 4454, 'eastern': 1461, 'mediterranean': 2849, 'la': 2574, 'reactive': 3724, 'metals': 2873, 'georgia': 2012, 'atomic': 372, 'biomaterials': 517, 'psychiatry': 3637, 'burden': 596, 'et': 1664, 'al': 198, 'lived': 2698, 'recovery': 3766, 'evidencebased': 1682, 'yoga': 4989, 'nonfinancial': 3053, 'net': 3033, 'convolutions': 1034, 'overfitting': 3199, 'augmentation': 393, 'majority': 2755, 'religions': 3833, '70': 46, 'recorded': 3762, 'session': 4123, 'undertake': 4732, 'highlighting': 2151, 'vulnerable': 4877, 'adults': 147, 'balanced': 446, 'expressed': 1755, 'agenda': 175, '2030': 25, 'emergencies': 1535, 'transition': 4650, 'gender': 1987, 'race': 3691, 'born': 549, 'screening': 4037, 'deaf': 1170, 'scaling': 4009, 'linking': 2684, 'sourcing': 4249, 'journalists': 2528, 'clinicians': 771, 'holds': 2167, 'harm': 2111, 'nanosensors': 3002, 'nanomaterials': 2999, 'sensing': 4097, 'nanoscale': 3001, 'characterization': 701, 'multicultural': 2975, 'constructing': 977, 'suggest': 4407, 'nanoparticles': 3000, 'supplementary': 4421, 'haick': 2092, 'prof': 3555, 'french': 1932, 'gates': 1975, 'commission': 835, 'ba': 433, 'technion': 4519, 'israel': 2501, 'supervision': 4420, 'skin': 4207, 'msc': 2974, '2013': 17, 'ma': 2738, 'aerospace': 160, 'rationality': 3714, 'biases': 499, 'todays': 4601, 'dsp': 1440, 'phones': 3344, 'interpolation': 2447, 'demonstration': 1223, 'routinely': 3968, 'compression': 890, 'instruments': 2400, 'anxiety': 264, 'reaction': 3722, 'turning': 4695, 'periods': 3310, 'necessity': 3021, '23': 30, 'sought': 4243, 'million': 2897, 'listed': 2689, 'varying': 4810, 'robots': 3949, 'consisting': 964, 'acceleration': 66, 'joint': 2525, 'crossplatform': 1104, 'zero': 4997, 'polynomial': 3421, 'intentionally': 2421, 'adventure': 155, 'walks': 4880, 'wrap': 4972, 'impacted': 2258, 'color': 809, 'suffering': 4405, 'gaining': 1964, 'nation': 3006, 'happened': 2104, 'hyperparameter': 2212, 'tuning': 4693, 'automl': 415, 'handwritten': 2102, 'digits': 1323, 'kalman': 2541, 'likelihood': 2669, 'derivative': 1242, 'periodic': 3309, 'discoveries': 1351, 'astrobiology': 368, 'cs': 1111, 'awesome': 429, 'overviews': 3201, 'sorting': 4242, 'twopart': 4703, 'discounting': 1347, 'occurs': 3109, 'posted': 3442, 'mitigation': 2915, 'firewall': 1857, 'eventually': 1678, 'vibrations': 4834, 'geared': 1986, 'sydney': 4455, 'hub': 2201, 'academics': 62, 'thow': 4580, 'biggest': 502, 'ecological': 1468, 'southern': 4251, 'les': 2640, 'du': 1441, 'en': 1561, 'los': 2728, 'del': 1209, 'imperative': 2263, 'exchange': 1703, 'warming': 4887, 'footprint': 1886, '500': 45, 'traces': 4622, 'archaeology': 300, 'moment': 2940, 'impacting': 2260, 'newborn': 3043, 'babies': 434, 'baby': 435, 'notepad': 3069, 'chrome': 734, 'attract': 382, 'editors': 1487, 'imperial': 2264, 'mph': 2972, 'dives': 1387, 'yellowbrick': 4986, 'warring': 4888, 'artifacts': 329, '220589': 29, 'han': 2094, 'bce220': 467, 'buddhist': 586, 'song': 4237, 'authentic': 398, 'multimodal': 2979, 'literacies': 2693, 'regard': 3789, 'ecologies': 1469, 'doctoral': 1397, 'mary': 2792, 'negotiating': 3027, 'pedagogies': 3289, 'adjectives': 135, 'similarities': 4182, 'russians': 3981, 'russia': 3979, 'twhat': 4701, 'consciousness': 951, 'notions': 3074, 'realm': 3740, 'reuse': 3914, 'sort': 4241, 'drivers': 1434, 'trees': 4672, 'youtube': 4995, 'vs': 4874, 'analog': 227, 'preferred': 3474, 'loading': 2703, 'sequential': 4112, 'gateway': 1976, 'cannabis': 628, 'obstacles': 3104, 'obtaining': 3107, 'pharmacology': 3332, 'punctuation': 3650, 'recruitment': 3768, 'performed': 3306, 'naive': 2996, 'vulnerabilities': 4875, 'dictionary': 1301, 'bootstrap': 547, 'es': 1645, 'angularjs': 247, 'acting': 102, 'semigroup': 4093, 'compile': 870, 'bonus': 539, 'finished': 1853, 'improves': 2283, 'fulfilling': 1942, 'extreme': 1771, 'kanban': 2542, 'brands': 564, 'organisation': 3169, 'executing': 1709, 'intangible': 2402, 'supposed': 4432, 'installation': 2380, 'onpremises': 3128, 'warehousing': 4886, 'mobility': 2923, 'proliferation': 3588, 'aware': 426, 'unitys': 4744, 'null': 3081, 'coalescing': 787, 'operator': 3143, 'modulo': 2938, 'shifts': 4155, 'circumstances': 740, 'raised': 3696, 'boolean': 544, 'milk': 2896, 'essentially': 1651, 'banks': 452, 'inductors': 2317, 'customization': 1133, 'purchasing': 3653, 'positions': 3435, 'coverage': 1071, 'publication': 3644, 'bodies': 535, 'autoencoders': 409, 'autoencoder': 408, 'outputs': 3195, 'throughput': 4589, 'greatest': 2064, 'architecting': 302, 'deployments': 1240, 'questsgoogle': 3684, 'poster': 3443, 'oncology': 3122, 'hospitals': 2183, 'clean': 760, 'imagine': 2249, 'erasmus': 1641, 'puzzle': 3661, 'css': 1113, 'html5': 2197, 'uva': 4785, 'concentrate': 902, 'routine': 3967, 'annual': 254, 'forecasts': 1891, 'recursion': 3770, 'assume': 363, 'square': 4300, 'accelerated': 65, 'cleaning': 761, 'dragonboard': 1422, 'wanted': 4882, 'sensory': 4101, 'refresher': 3788, 'suggested': 4408, 'workload': 4961, 'dividends': 1389, 'admin': 137, 'instance': 2383, 'charged': 704, 'freely': 1931, 'explanations': 1742, '15hour': 11, 'op': 3130, 'applies': 280, 'continuously': 1004, 'motor': 2961, 'contributions': 1013, 'investing': 2480, 'ipython': 2496, 'jpeg': 2530, 'cool': 1035, 'sas': 3997, 'missing': 2910, 'highperformance': 2154, 'derive': 1244, 'preprocess': 3483, 'normalization': 3059, 'pandas': 3220, 'regionspython': 3798, 'beginner': 475, 'buttons': 602, 'textview': 4554, 'absolutely': 56, 'bacteria': 440, 'metabolism': 2869, 'canada': 623, 'profitability': 3570, 'confronting': 941, 'inferential': 2328, 'notebook': 3067, 'streamlit': 4356, '150': 10, 'calibration': 613, 'plotly': 3402, 'extracting': 1769, 'synthesis': 4461, 'acid': 92, 'composite': 886, 'interpretations': 2450, 'substitution': 4398, 'agentbased': 177, 'parties': 3248, 'consistently': 963, 'imsa': 2286, 'ms': 2973, 'admission': 141, 'creditbearing': 1088, 'dental': 1227, 'firebase': 1856, 'strings': 4364, 'ternary': 4540, 'accomplished': 77, 'cascading': 654, 'appearance': 274, 'aromatherapy': 319, 'herbal': 2140, 'registry': 3803, 'remarkable': 3839, 'item': 2505, 'mistakes': 2912, 'blood': 531, 'refine': 3780, 'experimentation': 1732, 'modular': 2935, 'perceptions': 3302, 'officer': 3117, 'mail': 2747, 'impactful': 2259, 'tourism': 4619, 'disruptive': 1372, 'agreement': 186, 'comparison': 855, 'seasonality': 4049, 'arguments': 313, 'variants': 4805, 'largescale': 2593, 'tv': 4700, 'transmedia': 4656, 'unsw': 4758, 'bonds': 538, 'angeles': 245, 'henry': 2139, 'california': 614, 'robert': 3945, 'association': 361, 'watson': 4893, 'specially': 4271, 'spectrum': 4279, 'differs': 1316, 'programmes': 3578, 'oracle': 3160, 'asian': 337, 'india': 2310, 'pragmatic': 3461, 'comprising': 891, 'emergent': 1537, 'direction': 1332, 'comparing': 854, 'endtoend': 1578, 'unexpected': 4734, 'bim': 507, 'significantly': 4178, 'assigned': 353, 'individualized': 2315, 'extensions': 1761, 'digitalisation': 1322, 'twrite': 4704, 'trecognize': 4670, 'holocaust': 2171, 'trauma': 4662, 'germany': 2014, 'antisemitism': 263, 'pmi': 3406, 'registered': 3801, 'pdus': 3285, 'batten': 463, 'econometrics': 1472, 'rotterdam': 3962, 'hone': 2175, 'suited': 4413, 'rewarding': 3927, 'stochastic': 4337, 'lgbtq': 2652, 'identities': 2230, 'sexuality': 4134, 'hypotheses': 2214, 'multivariate': 2983, 'ggplot2': 2017, 'organ': 3167, 'donation': 1411, 'logistics': 2715, 'transplantation': 4659, 'procurement': 3544, 'interpreted': 2451, 'methodological': 2875, 'soft': 4224, 'breakeven': 569, 'earned': 1453, 'instrumental': 2398, 'military': 2895, 'nonlinear': 3054, 'specify': 4278, 'microprocessor': 2888, 'battery': 464, 'specialist': 4267, 'budgeting': 588, 'intuition': 2470, 'cnn': 785, 'mastered': 2796, 'abstract': 57, 'interoperability': 2445, 'tapply': 4486, 'architectures': 306, 'uml': 4717, 'qualities': 3672, 'specialized': 4270, 'indesign': 2308, 'trials': 4677, 'split': 4288, 'translational': 4655, 'sexual': 4133, 'xray': 4982, 'attempt': 376, 'belt': 489, 'nationally': 3008, 'companion': 850, 'handbook': 2096, '2nd': 34, 'wishing': 4939, 'spot': 4292, 'interacts': 2428, 'implementations': 2268, 'ec2': 1465, 'compassion': 857, 'reverse': 3918, 'resistant': 3879, 'alike': 209, 'showcases': 4165, 'tidentify': 4590, 'substance': 4396, 'formulate': 1907, 'ab': 49, 'specialty': 4272, 'thermodynamics': 4568, 'gases': 1973, 'density': 1226, 'americans': 224, 'die': 1303, 'prostate': 3612, 'hsk': 2195, 'competency': 863, 'disruption': 1370, 'booking': 541, 'chatbots': 709, 'recurrent': 3769, 'frequently': 1934, 'compensation': 859, 'podcast': 3407, 'packaging': 3209, 'tim': 4592, 'immigration': 2254, 'selfawareness': 4079, 'robotic': 3947, 'semantic': 4089, 'rome': 3957, 'survive': 4444, 'restoration': 3900, 'colors': 812, 'wellness': 4916, 'realized': 3737, 'maturity': 2815, 'antibiotics': 260, 'tdefine': 4502, 'texplain': 4549, 'extent': 1763, 'bookkeeping': 542, 'cognition': 794, 'endeavor': 1574, 'skepticism': 4202, 'extremism': 1773, 'facilitating': 1782, 'autoscaling': 417, 'variability': 4801, 'decentralization': 1183, 'chains': 684, 'plenty': 3399, 'connectivity': 949, 'passive': 3258, 'temperature': 4530, 'fix': 1866, 'speeches': 4281, 'persistence': 3314, 'interprofessional': 2453, 'israeli': 2502, 'expose': 1751, 'obligations': 3099, 'panels': 3224, 'pv': 3663, 'house': 2192, 'grid': 2068, 'owned': 3202, 'wayne': 4897, 'whiteman': 4923, 'noncommercial': 3050, 'permission': 3311, 'nonexclusive': 3052, 'lexical': 2651, 'creates': 1079, 'wonder': 4944, 'charter': 706, 'xp': 4980, 'opencv': 3132, 'spss': 4297, 'inherent': 2349, 'wisdom': 4937, 'legacy': 2634, 'encouraging': 1571, 'layers': 2610, 'patrick': 3274, 'margin': 2782, 'beings': 485, 'consideration': 957, 'aerodynamics': 159, 'eclipse': 1467, 'safely': 3984, 'skip': 4208, 'purely': 3655, 'adhd': 133, 'herbs': 2141, 'teamwork': 4516, 'predicting': 3467, 'amplify': 226, 'augment': 392, 'geographic': 2007, 'knowhow': 2563, 'csr': 1112, 'persuasion': 3327, 'globalised': 2029, 'retain': 3907, 'happy': 2108, 'reveal': 3915, 'workloads': 4962, 'gke': 2026, 'containers': 990, 'extracellular': 1767, 'vesicles': 4831, 'evs': 1688, 'physiological': 3363, 'proud': 3625, 'wave': 4894, 'urbanization': 4765, 'palliative': 3219, 'mexico': 2881, 'rice': 3930, 'licensing': 2658, 'eu': 1668, 'peertopeer': 3296, 'max': 2816, 'pool': 3422, 'arm': 317, 'trace': 4621, 'correction': 1051, 'hedge': 2132, 'intensive': 2419, 'alibaba': 205, 'continuity': 1002, 'configurations': 933, 'iiot': 2235, 'accelerate': 64, 'depending': 1234, 'saved': 4001, 'accessed': 70, 'protective': 3617, 'rails': 3694, 'default': 1197, 'inspirational': 2374, 'mutual': 2993, 'wondering': 4947, 'transformative': 4645, 'proposal': 3604, 'validity': 4793, 'arcgis': 299, 'gis': 2020, 'geospatial': 2013, 'unethical': 4733, 'lenses': 2639, 'heuristic': 2143, 'vaccination': 4787, 'dentistry': 1228, 'predicted': 3466, 'leveraged': 2649, 'observational': 3101, 'summative': 4418, 'formative': 1901, 'derivatives': 1243, 'confidentiality': 930, 'separation': 4108, 'boosting': 546, 'efficacy': 1498, 'revolutionary': 3926, 'disagreements': 1340, 'plato': 3392, 'combinatorics': 818, 'incorporated': 2299, 'injury': 2357, 'prototypes': 3623, 'intel': 2412, 'zoom': 4998, 'combinatorial': 817, 'edi': 1482, 'para': 3227, 'se': 4043, 'que': 3679, 'curso': 1128, 'como': 848, 'mundo': 2984, 'tem': 4529, 'este': 1657, 'humility': 2209, 'provision': 3634, 'provisioning': 3635, 'bacterial': 441, 'infections': 2324, 'pandemics': 3222, 'integer': 2403, 'facility': 1784, 'highthroughput': 2156, 'integrative': 2410, 'hotels': 2189, 'rising': 3938, 'hosted': 2185, 'diversification': 1385, 'wix': 4940, 'opioid': 3147, 'shakespeare': 4135, 'threads': 4582, 'animated': 250, 'infrastructureconversantthis': 2346, 'unavailable': 4719, 'milestone': 2893, 'exit': 1718, 'wordpress': 4950, 'sagemaker': 3986, 'quantity': 3677, 'buddhism': 585, 'cellular': 668, 'johns': 2522, 'weights': 4911, 'selfmanagement': 4085, 'disruptions': 1371, 'algebraic': 201, 'projectcentered': 3585, 'adjust': 136, 'accurate': 86, 'vpc': 4872, 'firewalls': 1858, 'storyboarding': 4345, 'farm': 1811, '39': 38, 'usd': 4771, 'readily': 3727, 'beethovens': 473, 'virtualization': 4847, 'motivational': 2960, 'repertoire': 3846, 'texas': 4548, 'typing': 4709, 'flux': 1875, 'transferable': 4641, 'las': 2595, 'sociales': 4218, 'el': 1507, 'translated': 4653, 'portuguese': 3432, 'readers': 3726, 'selfpaced': 4086, 'preprocessing': 3484, 'serverless': 4116, 'concussion': 919, 'ideology': 2232, 'confucianism': 942, 'mythology': 2995, 'magic': 2745, 'jquery': 2531, 'negotiations': 3029, 'mit': 2913, 'sie': 4170, 'surprise': 4436, 'mentions': 2862, 'slack': 4209, 'arrange': 321, 'injuries': 2356, 'smaller': 4213, 'departments': 1230, 'endless': 1575, 'infographic': 2336, 'crud': 1106, 'aviation': 421, 'varied': 4807, 'quantities': 3676, 'keeps': 2545, 'ehealth': 1504, 'nsw': 3079, 'symmetric': 4458, 'revit': 3924, 'diplomacy': 1329, 'affairs': 162, 'checking': 711, 'regularization': 3806, 'addiction': 123, 'asymmetric': 371, 'responding': 3890, 'quantify': 3674, 'aboriginal': 54, 'culminate': 1116, 'outlier': 3191, 'hong': 2176, 'kong': 2568, 'regionsweb': 3799, 'replication': 3847, 'canva': 629, 'shifting': 4154, 'bridging': 572, 'profitable': 3571, 'nosql': 3064, 'timing': 4596, 'powerpoint': 3452, 'estimates': 1660, 'lund': 2737, 'faculties': 1792, 'intending': 2418, 'gans': 1969, 'arab': 297, 'skilled': 4204, 'curanderismo': 1121, 'healers': 2118, 'eliseo': 1524, 'torres': 4614, 'curandero': 1122, 'mexican': 2880, 'dynamical': 1446, 'gbv': 1983, 'mandarin': 2769, 'sheetsbeginnerby': 4150, 'imagination': 2248, 'multilevel': 2977, 'toxicology': 4620, 'h2o': 2087, 'unconscious': 4721, 'dream': 1430, 'waves': 4895, 'valuebased': 4798, 'plickers': 3400, 'hiv': 2165, 'le': 2612, 'styling': 4385, 'magnetic': 2746, 'surveymonkey': 4441, 'solved': 4233, 'endpoint': 1576, 'police': 3413, 'korea': 2569, 'clauses': 759, 'dairy': 1146, 'wireframes': 4935, 'personas': 3323, 'depend': 1231, 'timeline': 4594, 'optics': 3152, 'violent': 4844, 'therapies': 4566, 'accelerators': 67, 'npap': 3078, 'implant': 2265, 'enrichment': 1596, 'modelbased': 2927, 'tcompute': 4499, 'cve': 1139, 'separately': 4107, 'tinkering': 4597, 'subsector': 4391, 'commercialization': 834, 'wood': 4948, 'wine': 4933, 'proyectos': 3636, 'instrumentation': 2399, 'factorization': 1789, 'mountain': 2964, 'gimp': 2019, 'emissions': 1539, 'xml': 4979, 'octavematlab': 3110, 'medieval': 2846, 'manuscripts': 2777, 'villes': 4842, 'scraping': 4034, 'muslim': 2991, 'qca': 3669, 'serverside': 4118, 'paleontology': 3218, 'bot': 551, 'chip': 723, 'gift': 2018, 'jira': 2518, 'opengl': 3134, 'resonance': 3882, 'ciudades': 745, 'neuroimaging': 3039, 'julia': 2535, 'container': 989, 'dynamodb': 1448, 'fallacies': 1802, 'stroke': 4365, 'tresearch': 4675, 'blues': 532, 'mediation': 2842, 'kotlin': 2571, 'jacobi': 2510, 'kennedy': 2546, 'tgrammar': 4555, 'crimes': 1091}\n"
          ]
        }
      ]
    },
    {
      "cell_type": "code",
      "source": [
        "feature_names = cv.get_feature_names_out().reshape(-1, 1)\n",
        "print(feature_names[-40:-1])"
      ],
      "metadata": {
        "colab": {
          "base_uri": "https://localhost:8080/"
        },
        "id": "uQNkuk4sxLdu",
        "outputId": "c18ca45d-b5e4-4008-a88d-53f72c343c42"
      },
      "execution_count": 30,
      "outputs": [
        {
          "output_type": "stream",
          "name": "stdout",
          "text": [
            "[['workings']\n",
            " ['workload']\n",
            " ['workloads']\n",
            " ['workplace']\n",
            " ['works']\n",
            " ['workspace']\n",
            " ['workstation']\n",
            " ['world']\n",
            " ['worlds']\n",
            " ['worldwide']\n",
            " ['worry']\n",
            " ['worth']\n",
            " ['wrap']\n",
            " ['write']\n",
            " ['writer']\n",
            " ['writers']\n",
            " ['writing']\n",
            " ['written']\n",
            " ['wrong']\n",
            " ['xml']\n",
            " ['xp']\n",
            " ['xr']\n",
            " ['xray']\n",
            " ['yale']\n",
            " ['year']\n",
            " ['years']\n",
            " ['yellowbrick']\n",
            " ['yes']\n",
            " ['yield']\n",
            " ['yoga']\n",
            " ['york']\n",
            " ['youll']\n",
            " ['young']\n",
            " ['youre']\n",
            " ['youth']\n",
            " ['youtube']\n",
            " ['youve']\n",
            " ['zero']\n",
            " ['zoom']]\n"
          ]
        }
      ]
    },
    {
      "cell_type": "markdown",
      "source": [
        "## Stemming\n"
      ],
      "metadata": {
        "id": "L2cOx-qeabQl"
      }
    },
    {
      "cell_type": "code",
      "source": [
        "import nltk\n",
        "from nltk.stem.porter import PorterStemmer\n",
        "ps = PorterStemmer()\n",
        "#creating a helper function\n",
        "#defining the stemming function\n",
        "def stem(text):\n",
        "    y=[]\n",
        "\n",
        "    for i in text.split():\n",
        "        y.append(ps.stem(i))\n",
        "\n",
        "    return \" \".join(y)\n",
        "\n",
        "new_df['tags'] = new_df['tags'].apply(stem)\n",
        "new_df['tags']"
      ],
      "metadata": {
        "id": "xJ0Dzft1iFtd",
        "colab": {
          "base_uri": "https://localhost:8080/"
        },
        "outputId": "25a59766-baa1-46e7-d375-6248fac48c87"
      },
      "execution_count": 31,
      "outputs": [
        {
          "output_type": "stream",
          "name": "stderr",
          "text": [
            "<ipython-input-31-31807ffd9543>:14: SettingWithCopyWarning: \n",
            "A value is trying to be set on a copy of a slice from a DataFrame.\n",
            "Try using .loc[row_indexer,col_indexer] = value instead\n",
            "\n",
            "See the caveats in the documentation: https://pandas.pydata.org/pandas-docs/stable/user_guide/indexing.html#returning-a-view-versus-a-copy\n",
            "  new_df['tags'] = new_df['tags'].apply(stem)\n"
          ]
        },
        {
          "output_type": "execute_result",
          "data": {
            "text/plain": [
              "0       write a featur length screenplay for film or t...\n",
              "1       busi strategi busi model canva analysi with mi...\n",
              "2       silicon thin film solar cellsadvancedthi cours...\n",
              "3       financ for managersintermediatewhen it come to...\n",
              "4       retriev data use singlet sql queriesbeginnerin...\n",
              "                              ...                        \n",
              "3517    capston retriev process and visual data with p...\n",
              "3518    patrick henri forgotten founderintermediate�g ...\n",
              "3519    busi intellig and data analyt gener insightsad...\n",
              "3520    rigid bodi dynamicsbeginnerthi cours teach dyn...\n",
              "3521    architect with googl kubernet engin production...\n",
              "Name: tags, Length: 3233, dtype: object"
            ]
          },
          "metadata": {},
          "execution_count": 31
        }
      ]
    },
    {
      "cell_type": "code",
      "source": [],
      "metadata": {
        "id": "yxh-6jMwaln8"
      },
      "execution_count": 31,
      "outputs": []
    },
    {
      "cell_type": "code",
      "source": [],
      "metadata": {
        "id": "GVlOj564alfh"
      },
      "execution_count": 31,
      "outputs": []
    },
    {
      "cell_type": "code",
      "source": [],
      "metadata": {
        "id": "-k9i6-OPs-zJ"
      },
      "execution_count": 31,
      "outputs": []
    },
    {
      "cell_type": "code",
      "source": [
        "feature_names = cv.get_feature_names_out().reshape(-1, 1)\n",
        "print(feature_names[-40:-1])"
      ],
      "metadata": {
        "colab": {
          "base_uri": "https://localhost:8080/"
        },
        "id": "v2d_thhM2mQp",
        "outputId": "dfd36965-77c7-4757-cc5a-38f2740b2a83"
      },
      "execution_count": 32,
      "outputs": [
        {
          "output_type": "stream",
          "name": "stdout",
          "text": [
            "[['workings']\n",
            " ['workload']\n",
            " ['workloads']\n",
            " ['workplace']\n",
            " ['works']\n",
            " ['workspace']\n",
            " ['workstation']\n",
            " ['world']\n",
            " ['worlds']\n",
            " ['worldwide']\n",
            " ['worry']\n",
            " ['worth']\n",
            " ['wrap']\n",
            " ['write']\n",
            " ['writer']\n",
            " ['writers']\n",
            " ['writing']\n",
            " ['written']\n",
            " ['wrong']\n",
            " ['xml']\n",
            " ['xp']\n",
            " ['xr']\n",
            " ['xray']\n",
            " ['yale']\n",
            " ['year']\n",
            " ['years']\n",
            " ['yellowbrick']\n",
            " ['yes']\n",
            " ['yield']\n",
            " ['yoga']\n",
            " ['york']\n",
            " ['youll']\n",
            " ['young']\n",
            " ['youre']\n",
            " ['youth']\n",
            " ['youtube']\n",
            " ['youve']\n",
            " ['zero']\n",
            " ['zoom']]\n"
          ]
        }
      ]
    },
    {
      "cell_type": "markdown",
      "source": [
        "## Similarity Measure"
      ],
      "metadata": {
        "id": "wA-LIwdsa_MA"
      }
    },
    {
      "cell_type": "code",
      "source": [
        "from sklearn.metrics.pairwise import cosine_similarity\n",
        "similarity = cosine_similarity(vectors)\n",
        "similarity"
      ],
      "metadata": {
        "id": "8649zkwp0CdH",
        "colab": {
          "base_uri": "https://localhost:8080/"
        },
        "outputId": "b9500f8e-fdcc-480e-f894-547c1082ca36"
      },
      "execution_count": 33,
      "outputs": [
        {
          "output_type": "execute_result",
          "data": {
            "text/plain": [
              "array([[1.        , 0.04125846, 0.07543746, ..., 0.09804907, 0.05677014,\n",
              "        0.08295939],\n",
              "       [0.04125846, 1.        , 0.01187969, ..., 0.25090825, 0.00581101,\n",
              "        0.03821286],\n",
              "       [0.07543746, 0.01187969, 1.        , ..., 0.02470266, 0.03814072,\n",
              "        0.01950754],\n",
              "       ...,\n",
              "       [0.09804907, 0.25090825, 0.02470266, ..., 1.        , 0.00805561,\n",
              "        0.02354367],\n",
              "       [0.05677014, 0.00581101, 0.03814072, ..., 0.00805561, 1.        ,\n",
              "        0.01635807],\n",
              "       [0.08295939, 0.03821286, 0.01950754, ..., 0.02354367, 0.01635807,\n",
              "        1.        ]])"
            ]
          },
          "metadata": {},
          "execution_count": 33
        }
      ]
    },
    {
      "cell_type": "code",
      "source": [
        "similarity.shape"
      ],
      "metadata": {
        "colab": {
          "base_uri": "https://localhost:8080/"
        },
        "id": "wNrokmyz0XQu",
        "outputId": "245f6402-0cf8-4401-9860-886a5eb7dd93"
      },
      "execution_count": 34,
      "outputs": [
        {
          "output_type": "execute_result",
          "data": {
            "text/plain": [
              "(3233, 3233)"
            ]
          },
          "metadata": {},
          "execution_count": 34
        }
      ]
    },
    {
      "cell_type": "code",
      "source": [
        "similarity[0]"
      ],
      "metadata": {
        "colab": {
          "base_uri": "https://localhost:8080/"
        },
        "id": "0kLPfi1S0p4c",
        "outputId": "85b22926-ae20-40d0-9e81-3dc8801bf94d"
      },
      "execution_count": 35,
      "outputs": [
        {
          "output_type": "execute_result",
          "data": {
            "text/plain": [
              "array([1.        , 0.04125846, 0.07543746, ..., 0.09804907, 0.05677014,\n",
              "       0.08295939])"
            ]
          },
          "metadata": {},
          "execution_count": 35
        }
      ]
    },
    {
      "cell_type": "code",
      "source": [
        "def recommend(course):\n",
        "    course_index = new_df[new_df['course_name'] == course].index[0] #fetching the index of particular course\n",
        "    distances = similarity[course_index]\n",
        "    course_list = sorted(list(enumerate(distances)),reverse=True, key=lambda x:x[1])[1:10]\n",
        "\n",
        "    for i in course_list:\n",
        "        print(new_df.iloc[i[0]].course_name)"
      ],
      "metadata": {
        "id": "vX54QbMarguX"
      },
      "execution_count": 36,
      "outputs": []
    },
    {
      "cell_type": "code",
      "source": [
        "recommend('Finance for Managers')"
      ],
      "metadata": {
        "colab": {
          "base_uri": "https://localhost:8080/"
        },
        "id": "utdMOhhKsPKq",
        "outputId": "50e6d773-3c54-44ea-c6dc-ba774e8bfe24"
      },
      "execution_count": 37,
      "outputs": [
        {
          "output_type": "stream",
          "name": "stdout",
          "text": [
            "Introduction to Finance: The Basics\n",
            "Fundamentals of financial and management accounting\n",
            "The Language and Tools of Financial Analysis\n",
            "Finance for Non-Financial Professionals\n",
            "Financial Management Capstone\n",
            "Management and financial accounting: Know your numbers 1\n",
            "Finance for Non-Financial Managers\n",
            "Operations Management: Analysis and Improvement Methods\n",
            "Accounting and Finance for IT professionals\n"
          ]
        }
      ]
    },
    {
      "cell_type": "code",
      "source": [
        "# import pickle\n",
        "\n",
        "# pickle.dump(new_df,open('courses.pkl','wb'))\n",
        "# pickle.dump(new_df.to_dict(),open('courses_dict.pkl','wb'))\n",
        "# pickle.dump(new_df.to_dict(),open('similarity_dict.pkl','wb'))"
      ],
      "metadata": {
        "id": "Wk1-vbqq-DPR"
      },
      "execution_count": 38,
      "outputs": []
    },
    {
      "cell_type": "code",
      "source": [
        "# import pickle\n",
        "\n",
        "# # Open the pickle file for reading\n",
        "# with open('courses.pkl', 'rb') as file:\n",
        "#     # Load the data from the pickle file\n",
        "#     loaded_df = pickle.load(file)\n",
        "\n",
        "# # Now you can use loaded_df, which contains the DataFrame object\n",
        "# print(loaded_df.head())\n",
        "\n",
        "# # Close the file (not strictly necessary due to using 'with' statement, but good practice)\n",
        "# file.close()\n"
      ],
      "metadata": {
        "id": "ZLsb48mNFIPG"
      },
      "execution_count": 39,
      "outputs": []
    },
    {
      "cell_type": "code",
      "source": [
        "import pickle\n",
        "\n",
        "# Save the new_df DataFrame\n",
        "with open('new_df.pkl', 'wb') as file:\n",
        "    pickle.dump(new_df, file)\n",
        "\n",
        "# Save the similarity matrix\n",
        "with open('similarity.pkl', 'wb') as file:\n",
        "    pickle.dump(similarity, file)\n",
        "\n",
        "# Save the CountVectorizer object\n",
        "with open('cv.pkl', 'wb') as file:\n",
        "    pickle.dump(cv, file)"
      ],
      "metadata": {
        "id": "60QAm9oK-F4w"
      },
      "execution_count": 40,
      "outputs": []
    },
    {
      "cell_type": "code",
      "source": [],
      "metadata": {
        "id": "LglebRTSC27x"
      },
      "execution_count": 40,
      "outputs": []
    }
  ]
}